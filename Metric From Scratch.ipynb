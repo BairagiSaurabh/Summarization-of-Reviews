{
 "cells": [
  {
   "cell_type": "code",
   "execution_count": 1,
   "id": "ffed451f",
   "metadata": {},
   "outputs": [],
   "source": [
    "import random\n",
    "import seaborn as sns\n",
    "import numpy as np"
   ]
  },
  {
   "cell_type": "code",
   "execution_count": 2,
   "id": "08c2c21e",
   "metadata": {},
   "outputs": [
    {
     "data": {
      "text/plain": [
       "[0, 0, 0, 1, 0, 1, 1, 1, 0, 0, 1, 1, 1, 1, 0, 1, 1, 1, 1, 0, 0, 1, 1, 1, 0]"
      ]
     },
     "execution_count": 2,
     "metadata": {},
     "output_type": "execute_result"
    }
   ],
   "source": [
    "# Generating random target variables containing (0) and (1), where the size of these yi(true) values is (5000):\n",
    "y_true = [random.randint(0,1) for i in range(5000)]\n",
    "y_true[:25]"
   ]
  },
  {
   "cell_type": "code",
   "execution_count": 3,
   "id": "8d310ef5",
   "metadata": {},
   "outputs": [
    {
     "data": {
      "text/plain": [
       "[0.26738001956666146,\n",
       " 0.7750209618239522,\n",
       " 0.6525498887445527,\n",
       " 0.46959584669145016,\n",
       " 0.7774451544332844]"
      ]
     },
     "execution_count": 3,
     "metadata": {},
     "output_type": "execute_result"
    }
   ],
   "source": [
    "# Generate uniform distribution with min = 0 and max = 1, this will give us the probability values\n",
    "y_prob = [random.uniform(0,1) for i in range(5000)]\n",
    "y_prob[:5]"
   ]
  },
  {
   "cell_type": "markdown",
   "id": "8d1319b7",
   "metadata": {},
   "source": [
    "- The probability values are converted to 0, if the value is less than 0.5\n",
    "- The probability values are converted to 1, if the value is more than or equal to 0.5\n",
    "- This is done so that we get true positive, false positive, true negative and false negative values."
   ]
  },
  {
   "cell_type": "code",
   "execution_count": 4,
   "id": "4f6ffe80",
   "metadata": {},
   "outputs": [],
   "source": [
    "def cm(original_class,prob_values,threshold): # TN,TP,FN,FP\n",
    "    \"\"\"\"\n",
    "    This Function generates True Negative,True Positive\n",
    "    False Negative,False Positive values\n",
    "    \n",
    "    \"\"\"\n",
    "    \n",
    "    new = []\n",
    "    for i in prob_values:\n",
    "        if i>=threshold: # applying the condition to convert probability value to 1\n",
    "            new.append(1)\n",
    "        else:           # applying the condition to convert probability value to 0\n",
    "            new.append(0)\n",
    "        \n",
    "    new = np.array(new)\n",
    "\n",
    "    TN,TP,FN,FP = 0,0,0,0   # initializing all to zero\n",
    "\n",
    "    for a,b in zip(original_class,new):\n",
    "        if a == 0 and b == 0:\n",
    "            TN += 1\n",
    "        \n",
    "        elif a == 1 and b == 1:\n",
    "            TP += 1\n",
    "        \n",
    "        elif a == 1 and b == 0:\n",
    "            FN += 1\n",
    "    \n",
    "        else:\n",
    "            FP += 1\n",
    "\n",
    "    return (TN,TP,FN,FP)\n",
    "\n",
    "def TPR_FPR(TN,TP,FN,FP):\n",
    "    \"\"\"\n",
    "    This Function returns True positive rate and\n",
    "    False positive rate\n",
    "    \n",
    "    \"\"\"\n",
    "    tpr = TP/(FN+TP)  # True positive rate\n",
    "    fpr = FP/(TN+FP)  # False positive rate\n",
    "    \n",
    "    return tpr,fpr\n",
    "\n",
    "def f1_score(TN,TP,FN,FP):\n",
    "    \"\"\"\n",
    "    This function gives the F_1 score\n",
    "    \n",
    "    \"\"\"\n",
    "    precision = TP/(FP+ TP)\n",
    "    recall = TP/(TP + FN)\n",
    "\n",
    "    f1 = (2*precision*recall)/(precision+recall)\n",
    "    return f1,precision,recall\n",
    "\n",
    "def accuracy(TN,TP,FN,FP):\n",
    "    acc = (TN + TP)/(TN + TP + FN + FP)  # overall accuracy\n",
    "    return acc"
   ]
  },
  {
   "cell_type": "code",
   "execution_count": 5,
   "id": "fba6a761",
   "metadata": {},
   "outputs": [
    {
     "name": "stdout",
     "output_type": "stream",
     "text": [
      "+----------------+----------------+\n",
      "|       0        |       1        |\n",
      "+----------------+----------------+\n",
      "| True Negative  | False Negative |\n",
      "| False Positive | True Positive  |\n",
      "+----------------+----------------+\n",
      "**************************************************\n",
      "+------+------+\n",
      "|  0   |  1   |\n",
      "+------+------+\n",
      "| 1202 | 1267 |\n",
      "| 1227 | 1304 |\n",
      "+------+------+\n"
     ]
    }
   ],
   "source": [
    "# Seeing the TP,FP,TN,FN values in a confusion matrix\n",
    "\n",
    "TN_a,TP_a,FN_a,FP_a = cm(y_true,y_prob,0.5)\n",
    "\n",
    "from prettytable import PrettyTable\n",
    "x = PrettyTable()\n",
    "\n",
    "x.field_names = [\"0\",\"1\"]\n",
    "x.add_row([\"True Negative\",\"False Negative\"])\n",
    "x.add_row([\"False Positive\", \"True Positive\"])\n",
    "\n",
    "print(x)\n",
    "print('*'*50)\n",
    "x_a = PrettyTable()\n",
    "\n",
    "x_a.field_names = [\"0\",\"1\"]\n",
    "x_a.add_row([TN_a,FN_a])\n",
    "x_a.add_row([FP_a,TP_a])\n",
    "print(x_a)"
   ]
  },
  {
   "cell_type": "code",
   "execution_count": 6,
   "id": "0a49b44f",
   "metadata": {},
   "outputs": [
    {
     "name": "stdout",
     "output_type": "stream",
     "text": [
      "Precision:  0.5152113789016199\n",
      "Recall:  0.5071956437183975\n",
      "F1 Score:  0.511172089376715\n"
     ]
    }
   ],
   "source": [
    "# Getting the precision,recall and f1 score: \n",
    "\n",
    "f1_a,precision_a,recall_a = f1_score(TN_a,TP_a,FN_a,FP_a)\n",
    "\n",
    "print(\"Precision: \",precision_a)\n",
    "print(\"Recall: \",recall_a)\n",
    "print(\"F1 Score: \",f1_a)"
   ]
  },
  {
   "cell_type": "code",
   "execution_count": null,
   "id": "4258b368",
   "metadata": {},
   "outputs": [],
   "source": []
  }
 ],
 "metadata": {
  "kernelspec": {
   "display_name": "Python 3",
   "language": "python",
   "name": "python3"
  },
  "language_info": {
   "codemirror_mode": {
    "name": "ipython",
    "version": 3
   },
   "file_extension": ".py",
   "mimetype": "text/x-python",
   "name": "python",
   "nbconvert_exporter": "python",
   "pygments_lexer": "ipython3",
   "version": "3.6.5"
  }
 },
 "nbformat": 4,
 "nbformat_minor": 5
}
