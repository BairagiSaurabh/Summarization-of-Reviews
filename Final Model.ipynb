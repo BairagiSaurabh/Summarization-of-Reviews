{
 "cells": [
  {
   "cell_type": "markdown",
   "id": "25be9c9e",
   "metadata": {
    "id": "25be9c9e"
   },
   "source": [
    "# Importing Libraries:"
   ]
  },
  {
   "cell_type": "code",
   "execution_count": 187,
   "id": "f4075ed9",
   "metadata": {
    "id": "f4075ed9"
   },
   "outputs": [],
   "source": [
    "import bs4\n",
    "import math\n",
    "from bs4 import BeautifulSoup\n",
    "import requests\n",
    "import timeit\n",
    "import re\n",
    "import numpy as np\n",
    "import seaborn as sns\n",
    "import matplotlib.pyplot as plt\n",
    "import pandas as pd\n",
    "from sklearn.model_selection import train_test_split\n",
    "from wordcloud import WordCloud, STOPWORDS\n",
    "import nltk\n",
    "from sklearn.feature_extraction.text import CountVectorizer\n",
    "from sklearn.feature_extraction.text import TfidfVectorizer\n",
    "from nltk.corpus import stopwords\n",
    "from nltk.stem import WordNetLemmatizer \n",
    "import spacy\n",
    "import warnings\n",
    "warnings.filterwarnings(\"ignore\")\n",
    "from vaderSentiment.vaderSentiment import SentimentIntensityAnalyzer\n",
    "import plotly.express as px\n",
    "from sklearn.ensemble import RandomForestRegressor\n",
    "import lightgbm as ltb\n",
    "from sklearn.metrics import mean_squared_error,r2_score\n",
    "from sklearn.model_selection import cross_val_score\n",
    "from sklearn.model_selection import RandomizedSearchCV\n",
    "import category_encoders as ce\n",
    "from sklearn.metrics import confusion_matrix\n",
    "from sklearn.metrics import f1_score\n",
    "from gensim.models import KeyedVectors\n",
    "from gensim import models\n",
    "from sklearn import preprocessing"
   ]
  },
  {
   "cell_type": "markdown",
   "id": "dec29166",
   "metadata": {
    "id": "dec29166"
   },
   "source": [
    "# Data Scrapping"
   ]
  },
  {
   "cell_type": "code",
   "execution_count": 188,
   "id": "ad0ad641",
   "metadata": {
    "id": "ad0ad641"
   },
   "outputs": [],
   "source": [
    "def amazon_data(webpage, page_number, pages_to_extract):\n",
    "    \n",
    "    \"\"\"\n",
    "    Given a URL,page number and number of pages to extract; this function extracts review, date, summary\n",
    "    and creates a dataframe\n",
    "    \n",
    "    \"\"\"\n",
    "    \n",
    "    webpage = webpage[:-1]\n",
    "    amazon_review = []\n",
    "    amazon_date = []\n",
    "    amazon_summary = []\n",
    "\n",
    "    def scrape_data_amazon(webpage, page_number, pages_to_extract):\n",
    "        next_page = webpage + str(page_number)\n",
    "        response= requests.get(str(next_page))\n",
    "        soup = BeautifulSoup(response.content,\"html.parser\")\n",
    "        soup_review = soup.findAll(\"div\",{\"class\":\"a-row a-spacing-small review-data\"})\n",
    "        soup_summary = soup.findAll(\"a\",{\"class\":\"a-size-base a-link-normal review-title a-color-base review-title-content a-text-bold\"})\n",
    "        soup_date = soup.findAll(\"span\",{\"class\":\"a-size-base a-color-secondary review-date\"})[2:] # 10 reviews\n",
    "        for x in range(len(soup_review)):\n",
    "            amazon_review.append(soup_review[x].text.strip())\n",
    "            amazon_date.append(soup_date[x].text.strip())\n",
    "            amazon_summary.append(soup_summary[x].text.strip())\n",
    "\n",
    "   #Generating the next page url\n",
    "        if page_number < pages_to_extract:\n",
    "            page_number = page_number + 1\n",
    "            #print(page_number)\n",
    "            scrape_data_amazon(webpage, page_number,pages_to_extract)\n",
    "            \n",
    "    scrape_data_amazon(webpage, page_number, pages_to_extract)\n",
    "    data_amazon = {'Date':amazon_date, 'Review': amazon_review, 'Summary':amazon_summary}\n",
    "    df_amazon = pd.DataFrame(data_amazon, columns = ['Date','Review','Summary'])\n",
    "    \n",
    "    def get_date_amazon(text):\n",
    "        return ' '.join(text.split()[-3:])\n",
    "    \n",
    "    df_amazon[\"Date\"] = [get_date_amazon(x) for x in df_amazon[\"Date\"].values]\n",
    "    df_amazon.dropna(inplace = True)\n",
    "    \n",
    "    return df_amazon\n",
    "\n"
   ]
  },
  {
   "cell_type": "code",
   "execution_count": 189,
   "id": "59afd200",
   "metadata": {
    "colab": {
     "base_uri": "https://localhost:8080/"
    },
    "id": "59afd200",
    "outputId": "1635dd9b-7d9c-4ca3-f8f0-e263aaa21452"
   },
   "outputs": [
    {
     "name": "stdout",
     "output_type": "stream",
     "text": [
      "Execution time : 160.23851951000006\n"
     ]
    }
   ],
   "source": [
    "url = 'https://www.amazon.in/New-Apple-iPhone-11-64GB/product-reviews/B08L8DV7BX/ref=cm_cr_getr_d_paging_btm_prev_1?ie=UTF8&reviewerType=all_reviews&pageNumber=1'\n",
    "page = 1\n",
    "extract = 300\n",
    "\n",
    "starttime = timeit.default_timer()\n",
    "df = amazon_data(url,page,extract)\n",
    "print(\"Execution time :\", timeit.default_timer() - starttime)"
   ]
  },
  {
   "cell_type": "code",
   "execution_count": 190,
   "id": "5b7531b4",
   "metadata": {
    "colab": {
     "base_uri": "https://localhost:8080/",
     "height": 424
    },
    "id": "5b7531b4",
    "outputId": "b4d56769-0934-444e-a7b2-09333d562a99"
   },
   "outputs": [
    {
     "data": {
      "text/html": [
       "\n",
       "  <div id=\"df-a1bbe74d-3449-4de7-b5f5-ec71408ddbce\">\n",
       "    <div class=\"colab-df-container\">\n",
       "      <div>\n",
       "<style scoped>\n",
       "    .dataframe tbody tr th:only-of-type {\n",
       "        vertical-align: middle;\n",
       "    }\n",
       "\n",
       "    .dataframe tbody tr th {\n",
       "        vertical-align: top;\n",
       "    }\n",
       "\n",
       "    .dataframe thead th {\n",
       "        text-align: right;\n",
       "    }\n",
       "</style>\n",
       "<table border=\"1\" class=\"dataframe\">\n",
       "  <thead>\n",
       "    <tr style=\"text-align: right;\">\n",
       "      <th></th>\n",
       "      <th>Date</th>\n",
       "      <th>Review</th>\n",
       "      <th>Summary</th>\n",
       "    </tr>\n",
       "  </thead>\n",
       "  <tbody>\n",
       "    <tr>\n",
       "      <th>0</th>\n",
       "      <td>12 August 2022</td>\n",
       "      <td>Superb</td>\n",
       "      <td>Name is enough</td>\n",
       "    </tr>\n",
       "    <tr>\n",
       "      <th>1</th>\n",
       "      <td>14 August 2022</td>\n",
       "      <td>superb</td>\n",
       "      <td>love it</td>\n",
       "    </tr>\n",
       "    <tr>\n",
       "      <th>2</th>\n",
       "      <td>13 August 2022</td>\n",
       "      <td>Ok</td>\n",
       "      <td>Ok</td>\n",
       "    </tr>\n",
       "    <tr>\n",
       "      <th>3</th>\n",
       "      <td>9 August 2022</td>\n",
       "      <td>Very nice</td>\n",
       "      <td>Good</td>\n",
       "    </tr>\n",
       "    <tr>\n",
       "      <th>4</th>\n",
       "      <td>13 August 2022</td>\n",
       "      <td>Nice</td>\n",
       "      <td>Nothing</td>\n",
       "    </tr>\n",
       "    <tr>\n",
       "      <th>...</th>\n",
       "      <td>...</td>\n",
       "      <td>...</td>\n",
       "      <td>...</td>\n",
       "    </tr>\n",
       "    <tr>\n",
       "      <th>2375</th>\n",
       "      <td>24 November 2020</td>\n",
       "      <td>All are good but charger and earpod are missing</td>\n",
       "      <td>Excellent</td>\n",
       "    </tr>\n",
       "    <tr>\n",
       "      <th>2376</th>\n",
       "      <td>11 July 2021</td>\n",
       "      <td>Excellent</td>\n",
       "      <td>Excellent</td>\n",
       "    </tr>\n",
       "    <tr>\n",
       "      <th>2377</th>\n",
       "      <td>23 December 2020</td>\n",
       "      <td>Happy with my busying decision. No issues with...</td>\n",
       "      <td>Purchased it on discount and very satisfied wi...</td>\n",
       "    </tr>\n",
       "    <tr>\n",
       "      <th>2378</th>\n",
       "      <td>16 December 2020</td>\n",
       "      <td>Extremely happy with IPhone 11. Bought it at 5...</td>\n",
       "      <td>Upgraded from IPhone 6 to IPhone 11</td>\n",
       "    </tr>\n",
       "    <tr>\n",
       "      <th>2379</th>\n",
       "      <td>22 November 2020</td>\n",
       "      <td>Great Touch. Wish Camera could be better !!</td>\n",
       "      <td>IPhone 11 Review</td>\n",
       "    </tr>\n",
       "  </tbody>\n",
       "</table>\n",
       "<p>2380 rows × 3 columns</p>\n",
       "</div>\n",
       "      <button class=\"colab-df-convert\" onclick=\"convertToInteractive('df-a1bbe74d-3449-4de7-b5f5-ec71408ddbce')\"\n",
       "              title=\"Convert this dataframe to an interactive table.\"\n",
       "              style=\"display:none;\">\n",
       "        \n",
       "  <svg xmlns=\"http://www.w3.org/2000/svg\" height=\"24px\"viewBox=\"0 0 24 24\"\n",
       "       width=\"24px\">\n",
       "    <path d=\"M0 0h24v24H0V0z\" fill=\"none\"/>\n",
       "    <path d=\"M18.56 5.44l.94 2.06.94-2.06 2.06-.94-2.06-.94-.94-2.06-.94 2.06-2.06.94zm-11 1L8.5 8.5l.94-2.06 2.06-.94-2.06-.94L8.5 2.5l-.94 2.06-2.06.94zm10 10l.94 2.06.94-2.06 2.06-.94-2.06-.94-.94-2.06-.94 2.06-2.06.94z\"/><path d=\"M17.41 7.96l-1.37-1.37c-.4-.4-.92-.59-1.43-.59-.52 0-1.04.2-1.43.59L10.3 9.45l-7.72 7.72c-.78.78-.78 2.05 0 2.83L4 21.41c.39.39.9.59 1.41.59.51 0 1.02-.2 1.41-.59l7.78-7.78 2.81-2.81c.8-.78.8-2.07 0-2.86zM5.41 20L4 18.59l7.72-7.72 1.47 1.35L5.41 20z\"/>\n",
       "  </svg>\n",
       "      </button>\n",
       "      \n",
       "  <style>\n",
       "    .colab-df-container {\n",
       "      display:flex;\n",
       "      flex-wrap:wrap;\n",
       "      gap: 12px;\n",
       "    }\n",
       "\n",
       "    .colab-df-convert {\n",
       "      background-color: #E8F0FE;\n",
       "      border: none;\n",
       "      border-radius: 50%;\n",
       "      cursor: pointer;\n",
       "      display: none;\n",
       "      fill: #1967D2;\n",
       "      height: 32px;\n",
       "      padding: 0 0 0 0;\n",
       "      width: 32px;\n",
       "    }\n",
       "\n",
       "    .colab-df-convert:hover {\n",
       "      background-color: #E2EBFA;\n",
       "      box-shadow: 0px 1px 2px rgba(60, 64, 67, 0.3), 0px 1px 3px 1px rgba(60, 64, 67, 0.15);\n",
       "      fill: #174EA6;\n",
       "    }\n",
       "\n",
       "    [theme=dark] .colab-df-convert {\n",
       "      background-color: #3B4455;\n",
       "      fill: #D2E3FC;\n",
       "    }\n",
       "\n",
       "    [theme=dark] .colab-df-convert:hover {\n",
       "      background-color: #434B5C;\n",
       "      box-shadow: 0px 1px 3px 1px rgba(0, 0, 0, 0.15);\n",
       "      filter: drop-shadow(0px 1px 2px rgba(0, 0, 0, 0.3));\n",
       "      fill: #FFFFFF;\n",
       "    }\n",
       "  </style>\n",
       "\n",
       "      <script>\n",
       "        const buttonEl =\n",
       "          document.querySelector('#df-a1bbe74d-3449-4de7-b5f5-ec71408ddbce button.colab-df-convert');\n",
       "        buttonEl.style.display =\n",
       "          google.colab.kernel.accessAllowed ? 'block' : 'none';\n",
       "\n",
       "        async function convertToInteractive(key) {\n",
       "          const element = document.querySelector('#df-a1bbe74d-3449-4de7-b5f5-ec71408ddbce');\n",
       "          const dataTable =\n",
       "            await google.colab.kernel.invokeFunction('convertToInteractive',\n",
       "                                                     [key], {});\n",
       "          if (!dataTable) return;\n",
       "\n",
       "          const docLinkHtml = 'Like what you see? Visit the ' +\n",
       "            '<a target=\"_blank\" href=https://colab.research.google.com/notebooks/data_table.ipynb>data table notebook</a>'\n",
       "            + ' to learn more about interactive tables.';\n",
       "          element.innerHTML = '';\n",
       "          dataTable['output_type'] = 'display_data';\n",
       "          await google.colab.output.renderOutput(dataTable, element);\n",
       "          const docLink = document.createElement('div');\n",
       "          docLink.innerHTML = docLinkHtml;\n",
       "          element.appendChild(docLink);\n",
       "        }\n",
       "      </script>\n",
       "    </div>\n",
       "  </div>\n",
       "  "
      ],
      "text/plain": [
       "                  Date                                             Review  \\\n",
       "0       12 August 2022                                             Superb   \n",
       "1       14 August 2022                                             superb   \n",
       "2       13 August 2022                                                 Ok   \n",
       "3        9 August 2022                                          Very nice   \n",
       "4       13 August 2022                                               Nice   \n",
       "...                ...                                                ...   \n",
       "2375  24 November 2020    All are good but charger and earpod are missing   \n",
       "2376      11 July 2021                                          Excellent   \n",
       "2377  23 December 2020  Happy with my busying decision. No issues with...   \n",
       "2378  16 December 2020  Extremely happy with IPhone 11. Bought it at 5...   \n",
       "2379  22 November 2020        Great Touch. Wish Camera could be better !!   \n",
       "\n",
       "                                                Summary  \n",
       "0                                        Name is enough  \n",
       "1                                               love it  \n",
       "2                                                    Ok  \n",
       "3                                                  Good  \n",
       "4                                               Nothing  \n",
       "...                                                 ...  \n",
       "2375                                          Excellent  \n",
       "2376                                          Excellent  \n",
       "2377  Purchased it on discount and very satisfied wi...  \n",
       "2378                Upgraded from IPhone 6 to IPhone 11  \n",
       "2379                                   IPhone 11 Review  \n",
       "\n",
       "[2380 rows x 3 columns]"
      ]
     },
     "execution_count": 190,
     "metadata": {},
     "output_type": "execute_result"
    }
   ],
   "source": [
    "raw_data = df\n",
    "raw_data"
   ]
  },
  {
   "cell_type": "markdown",
   "id": "d92aa4fb",
   "metadata": {
    "id": "d92aa4fb"
   },
   "source": [
    "# Splitting Data:"
   ]
  },
  {
   "cell_type": "code",
   "execution_count": 191,
   "id": "4beba80b",
   "metadata": {
    "id": "4beba80b"
   },
   "outputs": [],
   "source": [
    "x = raw_data.drop([\"Summary\"],axis = 1) # dropping the summary column"
   ]
  },
  {
   "cell_type": "code",
   "execution_count": 192,
   "id": "c213c82f",
   "metadata": {
    "id": "c213c82f"
   },
   "outputs": [],
   "source": [
    "x_train,x_test = train_test_split(x,test_size = 0.2,random_state = 0) # splitting the data"
   ]
  },
  {
   "cell_type": "code",
   "execution_count": 193,
   "id": "883f04a8",
   "metadata": {
    "colab": {
     "base_uri": "https://localhost:8080/"
    },
    "id": "883f04a8",
    "outputId": "dc272f47-e513-4c54-b7bd-0d63e670f5bd"
   },
   "outputs": [
    {
     "data": {
      "text/plain": [
       "((1904, 2), (476, 2))"
      ]
     },
     "execution_count": 193,
     "metadata": {},
     "output_type": "execute_result"
    }
   ],
   "source": [
    "x_train.shape,x_test.shape # size of train and test set"
   ]
  },
  {
   "cell_type": "markdown",
   "id": "3a20e047",
   "metadata": {
    "id": "3a20e047"
   },
   "source": [
    "# Sentence Tokenization:"
   ]
  },
  {
   "cell_type": "code",
   "execution_count": 194,
   "id": "93591e00",
   "metadata": {
    "id": "93591e00"
   },
   "outputs": [],
   "source": [
    "def split_review(text):\n",
    "    \"\"\"\n",
    "    This function splits the review into multiple sentences based on the following conjunctions\n",
    "    \n",
    "    \"\"\"\n",
    "    delimiters = \".\", \"but\", \"and\", \"also\"\n",
    "    regex_pattern = '|'.join(map(re.escape, delimiters)) # applying the above delimiters\n",
    "    splitted = re.split(regex_pattern, text) # splitting the review \n",
    "    return splitted # this returns a list of multiple reviews"
   ]
  },
  {
   "cell_type": "markdown",
   "id": "9c257c91",
   "metadata": {
    "id": "9c257c91"
   },
   "source": [
    "# Data Cleaning:"
   ]
  },
  {
   "cell_type": "code",
   "execution_count": 195,
   "id": "3ET42wlTXEOo",
   "metadata": {
    "colab": {
     "base_uri": "https://localhost:8080/"
    },
    "id": "3ET42wlTXEOo",
    "outputId": "e5c483d6-e180-4980-aa57-8ea67020d502"
   },
   "outputs": [
    {
     "name": "stderr",
     "output_type": "stream",
     "text": [
      "[nltk_data] Downloading package stopwords to /root/nltk_data...\n",
      "[nltk_data]   Package stopwords is already up-to-date!\n"
     ]
    },
    {
     "data": {
      "text/plain": [
       "True"
      ]
     },
     "execution_count": 195,
     "metadata": {},
     "output_type": "execute_result"
    }
   ],
   "source": [
    "import nltk\n",
    "nltk.download('stopwords')"
   ]
  },
  {
   "cell_type": "code",
   "execution_count": 196,
   "id": "1f176ffc",
   "metadata": {
    "id": "1f176ffc"
   },
   "outputs": [],
   "source": [
    "lemma = WordNetLemmatizer() # applying lemmatization to return dictionary form of words\n",
    "\n",
    "all_stopwords = stopwords.words('english') # this consists all the stopwords, which will be removed later.\n",
    "\n",
    "# Removing the following words from list containing stopwords\n",
    "all_stopwords.remove('not')\n",
    "all_stopwords.remove('but')\n",
    "all_stopwords.remove('because')\n",
    "all_stopwords.remove('against')\n",
    "all_stopwords.remove('between')\n",
    "all_stopwords.remove('up')\n",
    "all_stopwords.remove('down')\n",
    "all_stopwords.remove('in')\n",
    "all_stopwords.remove('out')\n",
    "all_stopwords.remove('once')\n",
    "all_stopwords.remove('before')\n",
    "all_stopwords.remove('after')\n",
    "all_stopwords.remove('few')\n",
    "all_stopwords.remove('more')\n",
    "all_stopwords.remove('most')\n",
    "all_stopwords.remove('no')\n",
    "all_stopwords.remove('nor')\n",
    "all_stopwords.remove('same')\n",
    "all_stopwords.remove('some')\n",
    "\n",
    "def clean_aspect_spacy(reviews):\n",
    "    \"\"\"\n",
    "    This function removes punctuations, stopwords and other non alpha numeric characters.\n",
    "    We expand the contractions and replace some words by an empty string\n",
    "    \n",
    "    \"\"\"\n",
    "    statement = reviews.lower().strip()\n",
    "    statement = statement.replace(\"won't\", \"will not\").replace(\"cannot\", \"can not\").replace(\"can't\", \"can not\")\\\n",
    "                           .replace(\"n't\", \" not\").replace(\"what's\", \"what is\").replace(\"it's\", \"it is\")\\\n",
    "                           .replace(\"'ve\", \" have\").replace(\"i'm\", \"i am\").replace(\"'re\", \" are\")\\\n",
    "                           .replace(\"he's\", \"he is\").replace(\"she's\", \"she is\").replace(\"*****\",\" \")\\\n",
    "                           .replace(\"%\", \" percent \").replace(\"₹\", \" rupee \").replace(\"$\", \" dollar \")\\\n",
    "                           .replace(\"€\", \" euro \").replace(\"'ll\", \" will\").replace(\"doesn't\", \"does not\")\n",
    "    \n",
    "    statement = re.sub('[^a-zA-Z]',' ',statement) # replacing whatever isn't letters by an empty string\n",
    "    statement = statement.split() # forming list of words in a given review\n",
    "    final_statement = [lemma.lemmatize(word) for word in statement if not word in set(all_stopwords)]\n",
    "    final_statement_ = ' '.join(final_statement) # joining the words and forming the review again without stopwords\n",
    "    return final_statement_  "
   ]
  },
  {
   "cell_type": "markdown",
   "id": "f723e4c7",
   "metadata": {
    "id": "f723e4c7"
   },
   "source": [
    "# Form Dataframe again"
   ]
  },
  {
   "cell_type": "code",
   "execution_count": 197,
   "id": "nbhud99jXQBl",
   "metadata": {
    "colab": {
     "base_uri": "https://localhost:8080/"
    },
    "id": "nbhud99jXQBl",
    "outputId": "1490c4e7-b5c0-44f7-c7da-8a7fcd28e7da"
   },
   "outputs": [
    {
     "name": "stderr",
     "output_type": "stream",
     "text": [
      "[nltk_data] Downloading package wordnet to /root/nltk_data...\n",
      "[nltk_data]   Package wordnet is already up-to-date!\n",
      "[nltk_data] Downloading package omw-1.4 to /root/nltk_data...\n",
      "[nltk_data]   Package omw-1.4 is already up-to-date!\n"
     ]
    },
    {
     "data": {
      "text/plain": [
       "True"
      ]
     },
     "execution_count": 197,
     "metadata": {},
     "output_type": "execute_result"
    }
   ],
   "source": [
    "import nltk\n",
    "nltk.download('wordnet')\n",
    "nltk.download('omw-1.4')"
   ]
  },
  {
   "cell_type": "code",
   "execution_count": 198,
   "id": "eb7f1e6f",
   "metadata": {
    "id": "eb7f1e6f"
   },
   "outputs": [],
   "source": [
    "def get_splitted_reviews(df):\n",
    "    \"\"\"\n",
    "    This function applies the above defined splitting function and forms a dataframe again\n",
    "    \n",
    "    \"\"\"\n",
    "    reviews= [] # this will contain our reviews\n",
    "    dates = [] # this will contain our dates\n",
    "\n",
    "    for i,j in enumerate(df[\"Review\"].values): # for each review\n",
    "        review_split = split_review(j) # apply the splitting the function\n",
    "        review_split_ = [x for x in review_split if len(x.split()) >= 3] # review containing less than 3 words are removed\n",
    "        duplicate_dates = [str(df[\"Date\"].values[i]) for h in range(len(review_split_))] # repeat the dates for splitted reviews\n",
    "        reviews.extend(review_split_) # add reviews to list\n",
    "        dates.extend(duplicate_dates) # add dates to list\n",
    "        \n",
    "    reviews_ = [clean_aspect_spacy(text) for text in reviews] # applying the cleaning function \n",
    "        \n",
    "    data = pd.DataFrame({\"Date\": dates,\"Review\": reviews_}) # create new dataframe\n",
    "    return data"
   ]
  },
  {
   "cell_type": "code",
   "execution_count": 199,
   "id": "7de8b357",
   "metadata": {
    "colab": {
     "base_uri": "https://localhost:8080/"
    },
    "id": "7de8b357",
    "outputId": "415bae31-004f-4683-97cd-543275429cbc"
   },
   "outputs": [
    {
     "name": "stdout",
     "output_type": "stream",
     "text": [
      "The time difference is : 0.6005813249998937\n"
     ]
    }
   ],
   "source": [
    "# Train set:\n",
    "\n",
    "starttime = timeit.default_timer()\n",
    "train_data = get_splitted_reviews(x_train) \n",
    "print(\"The time difference is :\", timeit.default_timer() - starttime)"
   ]
  },
  {
   "cell_type": "code",
   "execution_count": 200,
   "id": "b6846de2",
   "metadata": {
    "colab": {
     "base_uri": "https://localhost:8080/"
    },
    "id": "b6846de2",
    "outputId": "f2a489f3-10ab-408c-d506-9cd456db45f1"
   },
   "outputs": [
    {
     "name": "stdout",
     "output_type": "stream",
     "text": [
      "The time difference is : 0.13655680600004416\n"
     ]
    }
   ],
   "source": [
    "# Test set:\n",
    "\n",
    "starttime = timeit.default_timer()\n",
    "test_data = get_splitted_reviews(x_test)\n",
    "print(\"The time difference is :\", timeit.default_timer() - starttime)"
   ]
  },
  {
   "cell_type": "code",
   "execution_count": 201,
   "id": "3a5fccdb",
   "metadata": {
    "colab": {
     "base_uri": "https://localhost:8080/",
     "height": 424
    },
    "id": "3a5fccdb",
    "outputId": "48ef9cbf-ead1-4241-cb8b-822f48ca65ec"
   },
   "outputs": [
    {
     "data": {
      "text/html": [
       "\n",
       "  <div id=\"df-31d92cce-f449-4447-b2bf-2737d08b5ffb\">\n",
       "    <div class=\"colab-df-container\">\n",
       "      <div>\n",
       "<style scoped>\n",
       "    .dataframe tbody tr th:only-of-type {\n",
       "        vertical-align: middle;\n",
       "    }\n",
       "\n",
       "    .dataframe tbody tr th {\n",
       "        vertical-align: top;\n",
       "    }\n",
       "\n",
       "    .dataframe thead th {\n",
       "        text-align: right;\n",
       "    }\n",
       "</style>\n",
       "<table border=\"1\" class=\"dataframe\">\n",
       "  <thead>\n",
       "    <tr style=\"text-align: right;\">\n",
       "      <th></th>\n",
       "      <th>Date</th>\n",
       "      <th>Review</th>\n",
       "    </tr>\n",
       "  </thead>\n",
       "  <tbody>\n",
       "    <tr>\n",
       "      <th>0</th>\n",
       "      <td>30 August 2021</td>\n",
       "      <td>good performance</td>\n",
       "    </tr>\n",
       "    <tr>\n",
       "      <th>1</th>\n",
       "      <td>20 November 2020</td>\n",
       "      <td>apple apple product nice</td>\n",
       "    </tr>\n",
       "    <tr>\n",
       "      <th>2</th>\n",
       "      <td>20 November 2020</td>\n",
       "      <td>easy use</td>\n",
       "    </tr>\n",
       "    <tr>\n",
       "      <th>3</th>\n",
       "      <td>20 November 2020</td>\n",
       "      <td>bundal watt charger u buy new fast charger enj...</td>\n",
       "    </tr>\n",
       "    <tr>\n",
       "      <th>4</th>\n",
       "      <td>20 November 2020</td>\n",
       "      <td>face id wonderful</td>\n",
       "    </tr>\n",
       "    <tr>\n",
       "      <th>...</th>\n",
       "      <td>...</td>\n",
       "      <td>...</td>\n",
       "    </tr>\n",
       "    <tr>\n",
       "      <th>7196</th>\n",
       "      <td>17 October 2020</td>\n",
       "      <td>sound quality one power rich in heaven</td>\n",
       "    </tr>\n",
       "    <tr>\n",
       "      <th>7197</th>\n",
       "      <td>17 October 2020</td>\n",
       "      <td>actually express inner feeling smooth well good</td>\n",
       "    </tr>\n",
       "    <tr>\n",
       "      <th>7198</th>\n",
       "      <td>14 November 2021</td>\n",
       "      <td>great product came expected</td>\n",
       "    </tr>\n",
       "    <tr>\n",
       "      <th>7199</th>\n",
       "      <td>14 November 2021</td>\n",
       "      <td>yes not fake believe rumour</td>\n",
       "    </tr>\n",
       "    <tr>\n",
       "      <th>7200</th>\n",
       "      <td>17 July 2021</td>\n",
       "      <td>nice product delivery getting late appario ret...</td>\n",
       "    </tr>\n",
       "  </tbody>\n",
       "</table>\n",
       "<p>7201 rows × 2 columns</p>\n",
       "</div>\n",
       "      <button class=\"colab-df-convert\" onclick=\"convertToInteractive('df-31d92cce-f449-4447-b2bf-2737d08b5ffb')\"\n",
       "              title=\"Convert this dataframe to an interactive table.\"\n",
       "              style=\"display:none;\">\n",
       "        \n",
       "  <svg xmlns=\"http://www.w3.org/2000/svg\" height=\"24px\"viewBox=\"0 0 24 24\"\n",
       "       width=\"24px\">\n",
       "    <path d=\"M0 0h24v24H0V0z\" fill=\"none\"/>\n",
       "    <path d=\"M18.56 5.44l.94 2.06.94-2.06 2.06-.94-2.06-.94-.94-2.06-.94 2.06-2.06.94zm-11 1L8.5 8.5l.94-2.06 2.06-.94-2.06-.94L8.5 2.5l-.94 2.06-2.06.94zm10 10l.94 2.06.94-2.06 2.06-.94-2.06-.94-.94-2.06-.94 2.06-2.06.94z\"/><path d=\"M17.41 7.96l-1.37-1.37c-.4-.4-.92-.59-1.43-.59-.52 0-1.04.2-1.43.59L10.3 9.45l-7.72 7.72c-.78.78-.78 2.05 0 2.83L4 21.41c.39.39.9.59 1.41.59.51 0 1.02-.2 1.41-.59l7.78-7.78 2.81-2.81c.8-.78.8-2.07 0-2.86zM5.41 20L4 18.59l7.72-7.72 1.47 1.35L5.41 20z\"/>\n",
       "  </svg>\n",
       "      </button>\n",
       "      \n",
       "  <style>\n",
       "    .colab-df-container {\n",
       "      display:flex;\n",
       "      flex-wrap:wrap;\n",
       "      gap: 12px;\n",
       "    }\n",
       "\n",
       "    .colab-df-convert {\n",
       "      background-color: #E8F0FE;\n",
       "      border: none;\n",
       "      border-radius: 50%;\n",
       "      cursor: pointer;\n",
       "      display: none;\n",
       "      fill: #1967D2;\n",
       "      height: 32px;\n",
       "      padding: 0 0 0 0;\n",
       "      width: 32px;\n",
       "    }\n",
       "\n",
       "    .colab-df-convert:hover {\n",
       "      background-color: #E2EBFA;\n",
       "      box-shadow: 0px 1px 2px rgba(60, 64, 67, 0.3), 0px 1px 3px 1px rgba(60, 64, 67, 0.15);\n",
       "      fill: #174EA6;\n",
       "    }\n",
       "\n",
       "    [theme=dark] .colab-df-convert {\n",
       "      background-color: #3B4455;\n",
       "      fill: #D2E3FC;\n",
       "    }\n",
       "\n",
       "    [theme=dark] .colab-df-convert:hover {\n",
       "      background-color: #434B5C;\n",
       "      box-shadow: 0px 1px 3px 1px rgba(0, 0, 0, 0.15);\n",
       "      filter: drop-shadow(0px 1px 2px rgba(0, 0, 0, 0.3));\n",
       "      fill: #FFFFFF;\n",
       "    }\n",
       "  </style>\n",
       "\n",
       "      <script>\n",
       "        const buttonEl =\n",
       "          document.querySelector('#df-31d92cce-f449-4447-b2bf-2737d08b5ffb button.colab-df-convert');\n",
       "        buttonEl.style.display =\n",
       "          google.colab.kernel.accessAllowed ? 'block' : 'none';\n",
       "\n",
       "        async function convertToInteractive(key) {\n",
       "          const element = document.querySelector('#df-31d92cce-f449-4447-b2bf-2737d08b5ffb');\n",
       "          const dataTable =\n",
       "            await google.colab.kernel.invokeFunction('convertToInteractive',\n",
       "                                                     [key], {});\n",
       "          if (!dataTable) return;\n",
       "\n",
       "          const docLinkHtml = 'Like what you see? Visit the ' +\n",
       "            '<a target=\"_blank\" href=https://colab.research.google.com/notebooks/data_table.ipynb>data table notebook</a>'\n",
       "            + ' to learn more about interactive tables.';\n",
       "          element.innerHTML = '';\n",
       "          dataTable['output_type'] = 'display_data';\n",
       "          await google.colab.output.renderOutput(dataTable, element);\n",
       "          const docLink = document.createElement('div');\n",
       "          docLink.innerHTML = docLinkHtml;\n",
       "          element.appendChild(docLink);\n",
       "        }\n",
       "      </script>\n",
       "    </div>\n",
       "  </div>\n",
       "  "
      ],
      "text/plain": [
       "                  Date                                             Review\n",
       "0       30 August 2021                                   good performance\n",
       "1     20 November 2020                           apple apple product nice\n",
       "2     20 November 2020                                           easy use\n",
       "3     20 November 2020  bundal watt charger u buy new fast charger enj...\n",
       "4     20 November 2020                                  face id wonderful\n",
       "...                ...                                                ...\n",
       "7196   17 October 2020             sound quality one power rich in heaven\n",
       "7197   17 October 2020    actually express inner feeling smooth well good\n",
       "7198  14 November 2021                        great product came expected\n",
       "7199  14 November 2021                        yes not fake believe rumour\n",
       "7200      17 July 2021  nice product delivery getting late appario ret...\n",
       "\n",
       "[7201 rows x 2 columns]"
      ]
     },
     "execution_count": 201,
     "metadata": {},
     "output_type": "execute_result"
    }
   ],
   "source": [
    "train_data"
   ]
  },
  {
   "cell_type": "code",
   "execution_count": 202,
   "id": "adc52975",
   "metadata": {
    "colab": {
     "base_uri": "https://localhost:8080/",
     "height": 424
    },
    "id": "adc52975",
    "outputId": "35cff6db-e105-4df4-94b9-fcdda90b4dfd"
   },
   "outputs": [
    {
     "data": {
      "text/html": [
       "\n",
       "  <div id=\"df-0b36a25f-2861-48df-bc23-954e9415a31e\">\n",
       "    <div class=\"colab-df-container\">\n",
       "      <div>\n",
       "<style scoped>\n",
       "    .dataframe tbody tr th:only-of-type {\n",
       "        vertical-align: middle;\n",
       "    }\n",
       "\n",
       "    .dataframe tbody tr th {\n",
       "        vertical-align: top;\n",
       "    }\n",
       "\n",
       "    .dataframe thead th {\n",
       "        text-align: right;\n",
       "    }\n",
       "</style>\n",
       "<table border=\"1\" class=\"dataframe\">\n",
       "  <thead>\n",
       "    <tr style=\"text-align: right;\">\n",
       "      <th></th>\n",
       "      <th>Date</th>\n",
       "      <th>Review</th>\n",
       "    </tr>\n",
       "  </thead>\n",
       "  <tbody>\n",
       "    <tr>\n",
       "      <th>0</th>\n",
       "      <td>1 September 2022</td>\n",
       "      <td>costly thing provided</td>\n",
       "    </tr>\n",
       "    <tr>\n",
       "      <th>1</th>\n",
       "      <td>1 September 2022</td>\n",
       "      <td>also provide charging adapter phone</td>\n",
       "    </tr>\n",
       "    <tr>\n",
       "      <th>2</th>\n",
       "      <td>1 September 2022</td>\n",
       "      <td>time go slow feel slow esp after release new p...</td>\n",
       "    </tr>\n",
       "    <tr>\n",
       "      <th>3</th>\n",
       "      <td>10 January 2021</td>\n",
       "      <td>product good</td>\n",
       "    </tr>\n",
       "    <tr>\n",
       "      <th>4</th>\n",
       "      <td>10 January 2021</td>\n",
       "      <td>battery get zero within hour after six month c...</td>\n",
       "    </tr>\n",
       "    <tr>\n",
       "      <th>...</th>\n",
       "      <td>...</td>\n",
       "      <td>...</td>\n",
       "    </tr>\n",
       "    <tr>\n",
       "      <th>1630</th>\n",
       "      <td>6 August 2021</td>\n",
       "      <td>wonderful iphone specially dy not want yo carr...</td>\n",
       "    </tr>\n",
       "    <tr>\n",
       "      <th>1631</th>\n",
       "      <td>6 August 2021</td>\n",
       "      <td>due hard fan iphone</td>\n",
       "    </tr>\n",
       "    <tr>\n",
       "      <th>1632</th>\n",
       "      <td>17 November 2021</td>\n",
       "      <td>nice mobile genuine seller</td>\n",
       "    </tr>\n",
       "    <tr>\n",
       "      <th>1633</th>\n",
       "      <td>10 October 2021</td>\n",
       "      <td>experienced heating issue in iphone otherwise ...</td>\n",
       "    </tr>\n",
       "    <tr>\n",
       "      <th>1634</th>\n",
       "      <td>10 October 2021</td>\n",
       "      <td>good camera</td>\n",
       "    </tr>\n",
       "  </tbody>\n",
       "</table>\n",
       "<p>1635 rows × 2 columns</p>\n",
       "</div>\n",
       "      <button class=\"colab-df-convert\" onclick=\"convertToInteractive('df-0b36a25f-2861-48df-bc23-954e9415a31e')\"\n",
       "              title=\"Convert this dataframe to an interactive table.\"\n",
       "              style=\"display:none;\">\n",
       "        \n",
       "  <svg xmlns=\"http://www.w3.org/2000/svg\" height=\"24px\"viewBox=\"0 0 24 24\"\n",
       "       width=\"24px\">\n",
       "    <path d=\"M0 0h24v24H0V0z\" fill=\"none\"/>\n",
       "    <path d=\"M18.56 5.44l.94 2.06.94-2.06 2.06-.94-2.06-.94-.94-2.06-.94 2.06-2.06.94zm-11 1L8.5 8.5l.94-2.06 2.06-.94-2.06-.94L8.5 2.5l-.94 2.06-2.06.94zm10 10l.94 2.06.94-2.06 2.06-.94-2.06-.94-.94-2.06-.94 2.06-2.06.94z\"/><path d=\"M17.41 7.96l-1.37-1.37c-.4-.4-.92-.59-1.43-.59-.52 0-1.04.2-1.43.59L10.3 9.45l-7.72 7.72c-.78.78-.78 2.05 0 2.83L4 21.41c.39.39.9.59 1.41.59.51 0 1.02-.2 1.41-.59l7.78-7.78 2.81-2.81c.8-.78.8-2.07 0-2.86zM5.41 20L4 18.59l7.72-7.72 1.47 1.35L5.41 20z\"/>\n",
       "  </svg>\n",
       "      </button>\n",
       "      \n",
       "  <style>\n",
       "    .colab-df-container {\n",
       "      display:flex;\n",
       "      flex-wrap:wrap;\n",
       "      gap: 12px;\n",
       "    }\n",
       "\n",
       "    .colab-df-convert {\n",
       "      background-color: #E8F0FE;\n",
       "      border: none;\n",
       "      border-radius: 50%;\n",
       "      cursor: pointer;\n",
       "      display: none;\n",
       "      fill: #1967D2;\n",
       "      height: 32px;\n",
       "      padding: 0 0 0 0;\n",
       "      width: 32px;\n",
       "    }\n",
       "\n",
       "    .colab-df-convert:hover {\n",
       "      background-color: #E2EBFA;\n",
       "      box-shadow: 0px 1px 2px rgba(60, 64, 67, 0.3), 0px 1px 3px 1px rgba(60, 64, 67, 0.15);\n",
       "      fill: #174EA6;\n",
       "    }\n",
       "\n",
       "    [theme=dark] .colab-df-convert {\n",
       "      background-color: #3B4455;\n",
       "      fill: #D2E3FC;\n",
       "    }\n",
       "\n",
       "    [theme=dark] .colab-df-convert:hover {\n",
       "      background-color: #434B5C;\n",
       "      box-shadow: 0px 1px 3px 1px rgba(0, 0, 0, 0.15);\n",
       "      filter: drop-shadow(0px 1px 2px rgba(0, 0, 0, 0.3));\n",
       "      fill: #FFFFFF;\n",
       "    }\n",
       "  </style>\n",
       "\n",
       "      <script>\n",
       "        const buttonEl =\n",
       "          document.querySelector('#df-0b36a25f-2861-48df-bc23-954e9415a31e button.colab-df-convert');\n",
       "        buttonEl.style.display =\n",
       "          google.colab.kernel.accessAllowed ? 'block' : 'none';\n",
       "\n",
       "        async function convertToInteractive(key) {\n",
       "          const element = document.querySelector('#df-0b36a25f-2861-48df-bc23-954e9415a31e');\n",
       "          const dataTable =\n",
       "            await google.colab.kernel.invokeFunction('convertToInteractive',\n",
       "                                                     [key], {});\n",
       "          if (!dataTable) return;\n",
       "\n",
       "          const docLinkHtml = 'Like what you see? Visit the ' +\n",
       "            '<a target=\"_blank\" href=https://colab.research.google.com/notebooks/data_table.ipynb>data table notebook</a>'\n",
       "            + ' to learn more about interactive tables.';\n",
       "          element.innerHTML = '';\n",
       "          dataTable['output_type'] = 'display_data';\n",
       "          await google.colab.output.renderOutput(dataTable, element);\n",
       "          const docLink = document.createElement('div');\n",
       "          docLink.innerHTML = docLinkHtml;\n",
       "          element.appendChild(docLink);\n",
       "        }\n",
       "      </script>\n",
       "    </div>\n",
       "  </div>\n",
       "  "
      ],
      "text/plain": [
       "                  Date                                             Review\n",
       "0     1 September 2022                              costly thing provided\n",
       "1     1 September 2022                also provide charging adapter phone\n",
       "2     1 September 2022  time go slow feel slow esp after release new p...\n",
       "3      10 January 2021                                       product good\n",
       "4      10 January 2021  battery get zero within hour after six month c...\n",
       "...                ...                                                ...\n",
       "1630     6 August 2021  wonderful iphone specially dy not want yo carr...\n",
       "1631     6 August 2021                                due hard fan iphone\n",
       "1632  17 November 2021                         nice mobile genuine seller\n",
       "1633   10 October 2021  experienced heating issue in iphone otherwise ...\n",
       "1634   10 October 2021                                        good camera\n",
       "\n",
       "[1635 rows x 2 columns]"
      ]
     },
     "execution_count": 202,
     "metadata": {},
     "output_type": "execute_result"
    }
   ],
   "source": [
    "test_data"
   ]
  },
  {
   "cell_type": "markdown",
   "id": "ce93d338",
   "metadata": {
    "id": "ce93d338"
   },
   "source": [
    "# Aspect Extraction:"
   ]
  },
  {
   "cell_type": "code",
   "execution_count": 203,
   "id": "3c0c33f2",
   "metadata": {
    "id": "3c0c33f2"
   },
   "outputs": [],
   "source": [
    "def apply_extraction(row,nlp):\n",
    "    \"\"\"\n",
    "    This function extracts aspect and its corresponding description from the review by \n",
    "    applying 7 different rules of pos tagging\n",
    "    \n",
    "    \"\"\"\n",
    "    \n",
    "    prod_pronouns = ['it','this','they','these']\n",
    "    review_body = row['Review']\n",
    "    doc=nlp(review_body)\n",
    "    \n",
    "    rule1_pairs = []\n",
    "    rule2_pairs = []\n",
    "    rule3_pairs = []\n",
    "    rule4_pairs = []\n",
    "    rule5_pairs = []\n",
    "    rule6_pairs = []\n",
    "    rule7_pairs = []\n",
    "    \n",
    "    for token in doc:\n",
    "        A = \"999999\"\n",
    "        M = \"999999\"\n",
    "        if token.dep_ == \"amod\" and not token.is_stop:\n",
    "            M = token.text\n",
    "            A = token.head.text\n",
    "\n",
    "            # add adverbial modifier of adjective (e.g. 'most comfortable headphones')\n",
    "            M_children = token.children\n",
    "            for child_m in M_children:\n",
    "                if(child_m.dep_ == \"advmod\"):\n",
    "                    M_hash = child_m.text\n",
    "                    M = M_hash + \" \" + M\n",
    "                    break\n",
    "\n",
    "            # negation in adjective, the \"no\" keyword is a 'det' of the noun (e.g. no interesting characters)\n",
    "            A_children = token.head.children\n",
    "            for child_a in A_children:\n",
    "                if(child_a.dep_ == \"det\" and child_a.text == 'no'):\n",
    "                    neg_prefix = 'not'\n",
    "                    M = neg_prefix + \" \" + M\n",
    "                    break\n",
    "\n",
    "        if(A != \"999999\" and M != \"999999\"):\n",
    "            if A in prod_pronouns :\n",
    "                A = \"product\"\n",
    "            dict1 = {\"noun\" : A, \"adj\" : M, \"rule\" : 1}\n",
    "            rule1_pairs.append(dict1)\n",
    "\n",
    "        #print(\"--- SPACY : Rule 1 Done ---\")\n",
    "        \n",
    "# -----------------------------------------------------------------------------------------------------------------------------        \n",
    "        # # SECOND RULE OF DEPENDANCY PARSE -\n",
    "        # # M - Sentiment modifier || A - Aspect\n",
    "        # Direct Object - A is a child of something with relationship of nsubj, while\n",
    "        # M is a child of the same something with relationship of dobj\n",
    "        # Assumption - A verb will have only one NSUBJ and DOBJ\n",
    "        children = token.children\n",
    "        A = \"999999\"\n",
    "        M = \"999999\"\n",
    "        add_neg_pfx = False\n",
    "        for child in children :\n",
    "            if(child.dep_ == \"nsubj\" and not child.is_stop):\n",
    "                A = child.text\n",
    "                # check_spelling(child.text)\n",
    "\n",
    "            if((child.dep_ == \"dobj\" and child.pos_ == \"ADJ\") and not child.is_stop):\n",
    "                M = child.text\n",
    "                #check_spelling(child.text)\n",
    "\n",
    "            if(child.dep_ == \"neg\"):\n",
    "                neg_prefix = child.text\n",
    "                add_neg_pfx = True\n",
    "\n",
    "        if (add_neg_pfx and M != \"999999\"):\n",
    "            M = neg_prefix + \" \" + M\n",
    "\n",
    "        if(A != \"999999\" and M != \"999999\"):\n",
    "            if A in prod_pronouns :\n",
    "                A = \"product\"\n",
    "            dict2 = {\"noun\" : A, \"adj\" : M, \"rule\" : 2}\n",
    "            rule2_pairs.append(dict2)\n",
    "\n",
    "        #print(\"--- SPACY : Rule 2 Done ---\")\n",
    "# -----------------------------------------------------------------------------------------------------------------------------\n",
    "\n",
    "        ## THIRD RULE OF DEPENDANCY PARSE -\n",
    "        ## M - Sentiment modifier || A - Aspect\n",
    "        ## Adjectival Complement - A is a child of something with relationship of nsubj, while\n",
    "        ## M is a child of the same something with relationship of acomp\n",
    "        ## Assumption - A verb will have only one NSUBJ and DOBJ\n",
    "        ## \"The sound of the speakers would be better. The sound of the speakers could be better\" - handled using AUX dependency\n",
    "\n",
    "        children = token.children\n",
    "        A = \"999999\"\n",
    "        M = \"999999\"\n",
    "        add_neg_pfx = False\n",
    "        for child in children :\n",
    "            if(child.dep_ == \"nsubj\" and not child.is_stop):\n",
    "                A = child.text\n",
    "                # check_spelling(child.text)\n",
    "\n",
    "            if(child.dep_ == \"acomp\" and not child.is_stop):\n",
    "                M = child.text\n",
    "\n",
    "            # example - 'this could have been better' -> (this, not better)\n",
    "            if(child.dep_ == \"aux\" and child.tag_ == \"MD\"):\n",
    "                neg_prefix = \"not\"\n",
    "                add_neg_pfx = True\n",
    "\n",
    "            if(child.dep_ == \"neg\"):\n",
    "                neg_prefix = child.text\n",
    "                add_neg_pfx = True\n",
    "\n",
    "        if (add_neg_pfx and M != \"999999\"):\n",
    "            M = neg_prefix + \" \" + M\n",
    "                #check_spelling(child.text)\n",
    "\n",
    "        if(A != \"999999\" and M != \"999999\"):\n",
    "            if A in prod_pronouns :\n",
    "                A = \"product\"\n",
    "            dict3 = {\"noun\" : A, \"adj\" : M, \"rule\" : 3}\n",
    "            rule3_pairs.append(dict3)\n",
    "            #rule3_pairs.append((A, M, sid.polarity_scores(M)['compound'],3))\n",
    "#print(\"--- SPACY : Rule 3 Done ---\")\n",
    "# ------------------------------------------------------------------------------------------------------------------------------\n",
    " \n",
    "        ## FOURTH RULE OF DEPENDANCY PARSE -\n",
    "        ## M - Sentiment modifier || A - Aspect\n",
    "\n",
    "        #Adverbial modifier to a passive verb - A is a child of something with relationship of nsubjpass, while\n",
    "        # M is a child of the same something with relationship of advmod\n",
    "\n",
    "        #Assumption - A verb will have only one NSUBJ and DOBJ\n",
    "\n",
    "        children = token.children\n",
    "        A = \"999999\"\n",
    "        M = \"999999\"\n",
    "        add_neg_pfx = False\n",
    "        for child in children :\n",
    "            if((child.dep_ == \"nsubjpass\" or child.dep_ == \"nsubj\") and not child.is_stop):\n",
    "                A = child.text\n",
    "                # check_spelling(child.text)\n",
    "\n",
    "            if(child.dep_ == \"advmod\" and not child.is_stop):\n",
    "                M = child.text\n",
    "                M_children = child.children\n",
    "                for child_m in M_children:\n",
    "                    if(child_m.dep_ == \"advmod\"):\n",
    "                        M_hash = child_m.text\n",
    "                        M = M_hash + \" \" + child.text\n",
    "                        break\n",
    "                #check_spelling(child.text)\n",
    "\n",
    "            if(child.dep_ == \"neg\"):\n",
    "                neg_prefix = child.text\n",
    "                add_neg_pfx = True\n",
    "\n",
    "        if (add_neg_pfx and M != \"999999\"):\n",
    "            M = neg_prefix + \" \" + M\n",
    "\n",
    "        if(A != \"999999\" and M != \"999999\"):\n",
    "            if A in prod_pronouns :\n",
    "                A = \"product\"\n",
    "            dict4 = {\"noun\" : A, \"adj\" : M, \"rule\" : 4}\n",
    "            rule4_pairs.append(dict4)\n",
    "            #rule4_pairs.append((A, M,sid.polarity_scores(M)['compound'],4)) # )\n",
    "\n",
    "#print(\"--- SPACY : Rule 4 Done ---\")\n",
    "# ------------------------------------------------------------------------------------------------------------------------------\n",
    "\n",
    "        ## FIFTH RULE OF DEPENDANCY PARSE -\n",
    "        ## M - Sentiment modifier || A - Aspect\n",
    "\n",
    "        #Complement of a copular verb - A is a child of M with relationship of nsubj, while\n",
    "        # M has a child with relationship of cop\n",
    "\n",
    "        #Assumption - A verb will have only one NSUBJ and DOBJ\n",
    "\n",
    "        children = token.children\n",
    "        A = \"999999\"\n",
    "        buf_var = \"999999\"\n",
    "        for child in children :\n",
    "            if(child.dep_ == \"nsubj\" and not child.is_stop):\n",
    "                A = child.text\n",
    "                # check_spelling(child.text)\n",
    "\n",
    "            if(child.dep_ == \"cop\" and not child.is_stop):\n",
    "                buf_var = child.text\n",
    "                #check_spelling(child.text)\n",
    "\n",
    "        if(A != \"999999\" and buf_var != \"999999\"):\n",
    "            if A in prod_pronouns :\n",
    "                A = \"product\"\n",
    "            dict5 = {\"noun\" : A, \"adj\" : token.text, \"rule\" : 5}\n",
    "            rule5_pairs.append(dict5)\n",
    "            #rule5_pairs.append((A, token.text,sid.polarity_scores(token.text)['compound'],5))\n",
    "\n",
    "#print(\"--- SPACY : Rule 5 Done ---\")\n",
    "# ------------------------------------------------------------------------------------------------------------------------------\n",
    "\n",
    "        ## SIXTH RULE OF DEPENDANCY PARSE -\n",
    "        ## M - Sentiment modifier || A - Aspect\n",
    "        ## Example - \"It ok\", \"ok\" is INTJ (interjections like bravo, great etc)\n",
    "\n",
    "        children = token.children\n",
    "        A = \"999999\"\n",
    "        M = \"999999\"\n",
    "        if(token.pos_ == \"INTJ\" and not token.is_stop):\n",
    "            for child in children :\n",
    "                if(child.dep_ == \"nsubj\" and not child.is_stop):\n",
    "                    A = child.text\n",
    "                    M = token.text\n",
    "                    # check_spelling(child.text)\n",
    "\n",
    "        if(A != \"999999\" and M != \"999999\"):\n",
    "            if A in prod_pronouns :\n",
    "                A = \"product\"\n",
    "            dict6 = {\"noun\" : A, \"adj\" : M, \"rule\" : 6}\n",
    "            rule6_pairs.append(dict6)\n",
    "\n",
    "            #rule6_pairs.append((A, M,sid.polarity_scores(M)['compound'],6))\n",
    "\n",
    "#print(\"--- SPACY : Rule 6 Done ---\")\n",
    "    \n",
    "# ------------------------------------------------------------------------------------------------------------------------------\n",
    "\n",
    "        ## SEVENTH RULE OF DEPENDANCY PARSE -\n",
    "    ## M - Sentiment modifier || A - Aspect\n",
    "    ## ATTR - link between a verb like 'be/seem/appear' and its complement\n",
    "    ## Example: 'this is garbage' -> (this, garbage)\n",
    "\n",
    "        children = token.children\n",
    "        A = \"999999\"\n",
    "        M = \"999999\"\n",
    "        add_neg_pfx = False\n",
    "        for child in children :\n",
    "            if(child.dep_ == \"nsubj\" and not child.is_stop):\n",
    "                A = child.text\n",
    "                # check_spelling(child.text)\n",
    "\n",
    "            if((child.dep_ == \"attr\") and not child.is_stop):\n",
    "                M = child.text\n",
    "                #check_spelling(child.text)\n",
    "\n",
    "            if(child.dep_ == \"neg\"):\n",
    "                neg_prefix = child.text\n",
    "                add_neg_pfx = True\n",
    "\n",
    "        if (add_neg_pfx and M != \"999999\"):\n",
    "            M = neg_prefix + \" \" + M\n",
    "\n",
    "        if(A != \"999999\" and M != \"999999\"):\n",
    "            if A in prod_pronouns :\n",
    "                A = \"product\"\n",
    "            dict7 = {\"noun\" : A, \"adj\" : M, \"rule\" : 7}\n",
    "            rule7_pairs.append(dict7)\n",
    "            #rule7_pairs.append((A, M,sid.polarity_scores(M)['compound'],7))\n",
    "\n",
    "\n",
    "\n",
    "#print(\"--- SPACY : All Rules Done ---\")\n",
    "    \n",
    "# ------------------------------------------------------------------------------------------------------------------------------\n",
    "\n",
    "    aspects = []\n",
    "\n",
    "    aspects = rule1_pairs + rule2_pairs + rule3_pairs +rule4_pairs +rule5_pairs + rule6_pairs + rule7_pairs\n",
    "\n",
    "    dic = {\"aspect_pairs\" : aspects}\n",
    "    return dic"
   ]
  },
  {
   "cell_type": "code",
   "execution_count": 204,
   "id": "d4cfc680",
   "metadata": {
    "id": "d4cfc680"
   },
   "outputs": [],
   "source": [
    "def extract_aspects(reviews,nlp):\n",
    "    \n",
    "    \"\"\"\n",
    "    Applying the aspect extraction function and returning a dictionary \n",
    "    with key = Aspect & value = Description\n",
    "    \n",
    "    \"\"\"\n",
    "    print(\"Entering Apply function!\")\n",
    "    aspect_list = reviews.apply(lambda row: apply_extraction(row,nlp), axis=1) #going through all the rows in the dataframe\n",
    "    return aspect_list"
   ]
  },
  {
   "cell_type": "code",
   "execution_count": 205,
   "id": "1ab23f45",
   "metadata": {
    "id": "1ab23f45"
   },
   "outputs": [],
   "source": [
    "nlp = spacy.load(\"en_core_web_sm\") # loading the library"
   ]
  },
  {
   "cell_type": "code",
   "execution_count": 206,
   "id": "25b94438",
   "metadata": {
    "id": "25b94438"
   },
   "outputs": [],
   "source": [
    "reviews_train = train_data[[\"Review\"]] # extracting aspects from train set"
   ]
  },
  {
   "cell_type": "code",
   "execution_count": 207,
   "id": "aee9c665",
   "metadata": {
    "id": "aee9c665"
   },
   "outputs": [],
   "source": [
    "reviews_test = test_data[[\"Review\"]] # extracting aspects from test set"
   ]
  },
  {
   "cell_type": "code",
   "execution_count": 208,
   "id": "22963b0e",
   "metadata": {
    "colab": {
     "base_uri": "https://localhost:8080/"
    },
    "id": "22963b0e",
    "outputId": "5137f109-9fdc-41d4-9c06-c105370e4c16"
   },
   "outputs": [
    {
     "name": "stdout",
     "output_type": "stream",
     "text": [
      "Entering Apply function!\n",
      "Execution Time : 50.36931649799999\n"
     ]
    }
   ],
   "source": [
    "# Train set\n",
    "starttime = timeit.default_timer()\n",
    "\n",
    "aspect_list_train = extract_aspects(reviews_train,nlp)\n",
    "aspect_list_train = list(aspect_list_train)\n",
    "\n",
    "print(\"Execution Time :\", timeit.default_timer() - starttime)"
   ]
  },
  {
   "cell_type": "code",
   "execution_count": 209,
   "id": "78272a44",
   "metadata": {
    "colab": {
     "base_uri": "https://localhost:8080/"
    },
    "id": "78272a44",
    "outputId": "2113e186-9653-4ca8-97bc-214b652db155"
   },
   "outputs": [
    {
     "name": "stdout",
     "output_type": "stream",
     "text": [
      "Entering Apply function!\n",
      "Execution Time : 11.463111323999783\n"
     ]
    }
   ],
   "source": [
    "# Test set\n",
    "starttime = timeit.default_timer()\n",
    "\n",
    "aspect_list_test = extract_aspects(reviews_test,nlp)\n",
    "aspect_list_test = list(aspect_list_test)\n",
    "\n",
    "print(\"Execution Time :\", timeit.default_timer() - starttime)"
   ]
  },
  {
   "cell_type": "code",
   "execution_count": 210,
   "id": "75a31803",
   "metadata": {
    "id": "75a31803"
   },
   "outputs": [],
   "source": [
    "def add_data(data,aspect_list):    \n",
    "    \"\"\"\n",
    "    This function adds aspect and the description to the dataframe such that if one review has multiple aspects,\n",
    "    then the reviews are repeated such that each row consists of single aspect and description\n",
    "    \n",
    "    \"\"\"\n",
    "    rev_ = [] # list containing reviews\n",
    "    dates_ = [] # list containing dates\n",
    "    aspects_ = [] # list containing aspects\n",
    "    description_ = [] # list containing description\n",
    "    \n",
    "    \n",
    "    for i,j in enumerate(aspect_list):\n",
    "        length = len(list(j.values())[0])\n",
    "        if len(list(j.values())[0]) != 0:\n",
    "            rev_a = [data[\"Review\"].values[i] for k in range(len(list(j.values())[0]))]\n",
    "            dates_a = [data[\"Date\"].values[i] for k in range(len(list(j.values())[0]))] \n",
    "            aspects_a = [list(j.values())[0][h][\"noun\"] for h in range(length)]\n",
    "            descrip_a = [list(j.values())[0][h][\"adj\"] for h in range(length)]\n",
    "        \n",
    "            rev_.extend(rev_a)\n",
    "            dates_.extend(dates_a)\n",
    "            aspects_.extend(aspects_a)\n",
    "            description_.extend(descrip_a)\n",
    "        \n",
    "        # if a review doesn't contain any aspect then we add \"neutral\" for both the aspect & description column\n",
    "    \n",
    "        else: \n",
    "            rev_.append(data[\"Review\"].values[i])\n",
    "            dates_.append(data[\"Date\"].values[i])\n",
    "            aspects_.append('neutral')\n",
    "            description_.append('neutral')\n",
    "        \n",
    "    data_ = pd.DataFrame({\"Date\": dates_,\"Review\": rev_,\"Aspect\":aspects_,\"Description\":description_})\n",
    "    return data_"
   ]
  },
  {
   "cell_type": "code",
   "execution_count": 211,
   "id": "fb12011f",
   "metadata": {
    "id": "fb12011f"
   },
   "outputs": [],
   "source": [
    "# Train set\n",
    "\n",
    "train_data_with_aspects = add_data(train_data,aspect_list_train)"
   ]
  },
  {
   "cell_type": "code",
   "execution_count": 212,
   "id": "117460f0",
   "metadata": {
    "id": "117460f0"
   },
   "outputs": [],
   "source": [
    "# Test set\n",
    "\n",
    "test_data_with_aspects = add_data(test_data,aspect_list_test)"
   ]
  },
  {
   "cell_type": "code",
   "execution_count": 213,
   "id": "e4a2f900",
   "metadata": {
    "colab": {
     "base_uri": "https://localhost:8080/",
     "height": 424
    },
    "id": "e4a2f900",
    "outputId": "f7f9160a-8920-4bd6-e63b-7ad412b03f63"
   },
   "outputs": [
    {
     "data": {
      "text/html": [
       "\n",
       "  <div id=\"df-63d83170-0963-4d5e-8343-8b5c62d4264d\">\n",
       "    <div class=\"colab-df-container\">\n",
       "      <div>\n",
       "<style scoped>\n",
       "    .dataframe tbody tr th:only-of-type {\n",
       "        vertical-align: middle;\n",
       "    }\n",
       "\n",
       "    .dataframe tbody tr th {\n",
       "        vertical-align: top;\n",
       "    }\n",
       "\n",
       "    .dataframe thead th {\n",
       "        text-align: right;\n",
       "    }\n",
       "</style>\n",
       "<table border=\"1\" class=\"dataframe\">\n",
       "  <thead>\n",
       "    <tr style=\"text-align: right;\">\n",
       "      <th></th>\n",
       "      <th>Date</th>\n",
       "      <th>Review</th>\n",
       "      <th>Aspect</th>\n",
       "      <th>Description</th>\n",
       "    </tr>\n",
       "  </thead>\n",
       "  <tbody>\n",
       "    <tr>\n",
       "      <th>0</th>\n",
       "      <td>30 August 2021</td>\n",
       "      <td>good performance</td>\n",
       "      <td>performance</td>\n",
       "      <td>good</td>\n",
       "    </tr>\n",
       "    <tr>\n",
       "      <th>1</th>\n",
       "      <td>20 November 2020</td>\n",
       "      <td>apple apple product nice</td>\n",
       "      <td>product</td>\n",
       "      <td>nice</td>\n",
       "    </tr>\n",
       "    <tr>\n",
       "      <th>2</th>\n",
       "      <td>20 November 2020</td>\n",
       "      <td>easy use</td>\n",
       "      <td>use</td>\n",
       "      <td>easy</td>\n",
       "    </tr>\n",
       "    <tr>\n",
       "      <th>3</th>\n",
       "      <td>20 November 2020</td>\n",
       "      <td>bundal watt charger u buy new fast charger enj...</td>\n",
       "      <td>charger</td>\n",
       "      <td>new</td>\n",
       "    </tr>\n",
       "    <tr>\n",
       "      <th>4</th>\n",
       "      <td>20 November 2020</td>\n",
       "      <td>bundal watt charger u buy new fast charger enj...</td>\n",
       "      <td>charger</td>\n",
       "      <td>fast</td>\n",
       "    </tr>\n",
       "    <tr>\n",
       "      <th>...</th>\n",
       "      <td>...</td>\n",
       "      <td>...</td>\n",
       "      <td>...</td>\n",
       "      <td>...</td>\n",
       "    </tr>\n",
       "    <tr>\n",
       "      <th>9175</th>\n",
       "      <td>14 November 2021</td>\n",
       "      <td>yes not fake believe rumour</td>\n",
       "      <td>rumour</td>\n",
       "      <td>fake</td>\n",
       "    </tr>\n",
       "    <tr>\n",
       "      <th>9176</th>\n",
       "      <td>17 July 2021</td>\n",
       "      <td>nice product delivery getting late appario ret...</td>\n",
       "      <td>delivery</td>\n",
       "      <td>nice</td>\n",
       "    </tr>\n",
       "    <tr>\n",
       "      <th>9177</th>\n",
       "      <td>17 July 2021</td>\n",
       "      <td>nice product delivery getting late appario ret...</td>\n",
       "      <td>seller</td>\n",
       "      <td>late</td>\n",
       "    </tr>\n",
       "    <tr>\n",
       "      <th>9178</th>\n",
       "      <td>17 July 2021</td>\n",
       "      <td>nice product delivery getting late appario ret...</td>\n",
       "      <td>seller</td>\n",
       "      <td>retile</td>\n",
       "    </tr>\n",
       "    <tr>\n",
       "      <th>9179</th>\n",
       "      <td>17 July 2021</td>\n",
       "      <td>nice product delivery getting late appario ret...</td>\n",
       "      <td>packing</td>\n",
       "      <td>good</td>\n",
       "    </tr>\n",
       "  </tbody>\n",
       "</table>\n",
       "<p>9180 rows × 4 columns</p>\n",
       "</div>\n",
       "      <button class=\"colab-df-convert\" onclick=\"convertToInteractive('df-63d83170-0963-4d5e-8343-8b5c62d4264d')\"\n",
       "              title=\"Convert this dataframe to an interactive table.\"\n",
       "              style=\"display:none;\">\n",
       "        \n",
       "  <svg xmlns=\"http://www.w3.org/2000/svg\" height=\"24px\"viewBox=\"0 0 24 24\"\n",
       "       width=\"24px\">\n",
       "    <path d=\"M0 0h24v24H0V0z\" fill=\"none\"/>\n",
       "    <path d=\"M18.56 5.44l.94 2.06.94-2.06 2.06-.94-2.06-.94-.94-2.06-.94 2.06-2.06.94zm-11 1L8.5 8.5l.94-2.06 2.06-.94-2.06-.94L8.5 2.5l-.94 2.06-2.06.94zm10 10l.94 2.06.94-2.06 2.06-.94-2.06-.94-.94-2.06-.94 2.06-2.06.94z\"/><path d=\"M17.41 7.96l-1.37-1.37c-.4-.4-.92-.59-1.43-.59-.52 0-1.04.2-1.43.59L10.3 9.45l-7.72 7.72c-.78.78-.78 2.05 0 2.83L4 21.41c.39.39.9.59 1.41.59.51 0 1.02-.2 1.41-.59l7.78-7.78 2.81-2.81c.8-.78.8-2.07 0-2.86zM5.41 20L4 18.59l7.72-7.72 1.47 1.35L5.41 20z\"/>\n",
       "  </svg>\n",
       "      </button>\n",
       "      \n",
       "  <style>\n",
       "    .colab-df-container {\n",
       "      display:flex;\n",
       "      flex-wrap:wrap;\n",
       "      gap: 12px;\n",
       "    }\n",
       "\n",
       "    .colab-df-convert {\n",
       "      background-color: #E8F0FE;\n",
       "      border: none;\n",
       "      border-radius: 50%;\n",
       "      cursor: pointer;\n",
       "      display: none;\n",
       "      fill: #1967D2;\n",
       "      height: 32px;\n",
       "      padding: 0 0 0 0;\n",
       "      width: 32px;\n",
       "    }\n",
       "\n",
       "    .colab-df-convert:hover {\n",
       "      background-color: #E2EBFA;\n",
       "      box-shadow: 0px 1px 2px rgba(60, 64, 67, 0.3), 0px 1px 3px 1px rgba(60, 64, 67, 0.15);\n",
       "      fill: #174EA6;\n",
       "    }\n",
       "\n",
       "    [theme=dark] .colab-df-convert {\n",
       "      background-color: #3B4455;\n",
       "      fill: #D2E3FC;\n",
       "    }\n",
       "\n",
       "    [theme=dark] .colab-df-convert:hover {\n",
       "      background-color: #434B5C;\n",
       "      box-shadow: 0px 1px 3px 1px rgba(0, 0, 0, 0.15);\n",
       "      filter: drop-shadow(0px 1px 2px rgba(0, 0, 0, 0.3));\n",
       "      fill: #FFFFFF;\n",
       "    }\n",
       "  </style>\n",
       "\n",
       "      <script>\n",
       "        const buttonEl =\n",
       "          document.querySelector('#df-63d83170-0963-4d5e-8343-8b5c62d4264d button.colab-df-convert');\n",
       "        buttonEl.style.display =\n",
       "          google.colab.kernel.accessAllowed ? 'block' : 'none';\n",
       "\n",
       "        async function convertToInteractive(key) {\n",
       "          const element = document.querySelector('#df-63d83170-0963-4d5e-8343-8b5c62d4264d');\n",
       "          const dataTable =\n",
       "            await google.colab.kernel.invokeFunction('convertToInteractive',\n",
       "                                                     [key], {});\n",
       "          if (!dataTable) return;\n",
       "\n",
       "          const docLinkHtml = 'Like what you see? Visit the ' +\n",
       "            '<a target=\"_blank\" href=https://colab.research.google.com/notebooks/data_table.ipynb>data table notebook</a>'\n",
       "            + ' to learn more about interactive tables.';\n",
       "          element.innerHTML = '';\n",
       "          dataTable['output_type'] = 'display_data';\n",
       "          await google.colab.output.renderOutput(dataTable, element);\n",
       "          const docLink = document.createElement('div');\n",
       "          docLink.innerHTML = docLinkHtml;\n",
       "          element.appendChild(docLink);\n",
       "        }\n",
       "      </script>\n",
       "    </div>\n",
       "  </div>\n",
       "  "
      ],
      "text/plain": [
       "                  Date                                             Review  \\\n",
       "0       30 August 2021                                   good performance   \n",
       "1     20 November 2020                           apple apple product nice   \n",
       "2     20 November 2020                                           easy use   \n",
       "3     20 November 2020  bundal watt charger u buy new fast charger enj...   \n",
       "4     20 November 2020  bundal watt charger u buy new fast charger enj...   \n",
       "...                ...                                                ...   \n",
       "9175  14 November 2021                        yes not fake believe rumour   \n",
       "9176      17 July 2021  nice product delivery getting late appario ret...   \n",
       "9177      17 July 2021  nice product delivery getting late appario ret...   \n",
       "9178      17 July 2021  nice product delivery getting late appario ret...   \n",
       "9179      17 July 2021  nice product delivery getting late appario ret...   \n",
       "\n",
       "           Aspect Description  \n",
       "0     performance        good  \n",
       "1         product        nice  \n",
       "2             use        easy  \n",
       "3         charger         new  \n",
       "4         charger        fast  \n",
       "...           ...         ...  \n",
       "9175       rumour        fake  \n",
       "9176     delivery        nice  \n",
       "9177       seller        late  \n",
       "9178       seller      retile  \n",
       "9179      packing        good  \n",
       "\n",
       "[9180 rows x 4 columns]"
      ]
     },
     "execution_count": 213,
     "metadata": {},
     "output_type": "execute_result"
    }
   ],
   "source": [
    "train_data_with_aspects"
   ]
  },
  {
   "cell_type": "code",
   "execution_count": 214,
   "id": "40baecac",
   "metadata": {
    "colab": {
     "base_uri": "https://localhost:8080/",
     "height": 424
    },
    "id": "40baecac",
    "outputId": "ce7ed8a0-f328-4677-a216-8d1d669e3063"
   },
   "outputs": [
    {
     "data": {
      "text/html": [
       "\n",
       "  <div id=\"df-5bfaccac-982b-47f6-a239-0f3c3c0e6cde\">\n",
       "    <div class=\"colab-df-container\">\n",
       "      <div>\n",
       "<style scoped>\n",
       "    .dataframe tbody tr th:only-of-type {\n",
       "        vertical-align: middle;\n",
       "    }\n",
       "\n",
       "    .dataframe tbody tr th {\n",
       "        vertical-align: top;\n",
       "    }\n",
       "\n",
       "    .dataframe thead th {\n",
       "        text-align: right;\n",
       "    }\n",
       "</style>\n",
       "<table border=\"1\" class=\"dataframe\">\n",
       "  <thead>\n",
       "    <tr style=\"text-align: right;\">\n",
       "      <th></th>\n",
       "      <th>Date</th>\n",
       "      <th>Review</th>\n",
       "      <th>Aspect</th>\n",
       "      <th>Description</th>\n",
       "    </tr>\n",
       "  </thead>\n",
       "  <tbody>\n",
       "    <tr>\n",
       "      <th>0</th>\n",
       "      <td>1 September 2022</td>\n",
       "      <td>costly thing provided</td>\n",
       "      <td>thing</td>\n",
       "      <td>costly</td>\n",
       "    </tr>\n",
       "    <tr>\n",
       "      <th>1</th>\n",
       "      <td>1 September 2022</td>\n",
       "      <td>also provide charging adapter phone</td>\n",
       "      <td>neutral</td>\n",
       "      <td>neutral</td>\n",
       "    </tr>\n",
       "    <tr>\n",
       "      <th>2</th>\n",
       "      <td>1 September 2022</td>\n",
       "      <td>time go slow feel slow esp after release new p...</td>\n",
       "      <td>phone</td>\n",
       "      <td>new</td>\n",
       "    </tr>\n",
       "    <tr>\n",
       "      <th>3</th>\n",
       "      <td>10 January 2021</td>\n",
       "      <td>product good</td>\n",
       "      <td>product</td>\n",
       "      <td>good</td>\n",
       "    </tr>\n",
       "    <tr>\n",
       "      <th>4</th>\n",
       "      <td>10 January 2021</td>\n",
       "      <td>battery get zero within hour after six month c...</td>\n",
       "      <td>battery</td>\n",
       "      <td>changed</td>\n",
       "    </tr>\n",
       "    <tr>\n",
       "      <th>...</th>\n",
       "      <td>...</td>\n",
       "      <td>...</td>\n",
       "      <td>...</td>\n",
       "      <td>...</td>\n",
       "    </tr>\n",
       "    <tr>\n",
       "      <th>2032</th>\n",
       "      <td>17 November 2021</td>\n",
       "      <td>nice mobile genuine seller</td>\n",
       "      <td>seller</td>\n",
       "      <td>nice</td>\n",
       "    </tr>\n",
       "    <tr>\n",
       "      <th>2033</th>\n",
       "      <td>17 November 2021</td>\n",
       "      <td>nice mobile genuine seller</td>\n",
       "      <td>genuine</td>\n",
       "      <td>mobile</td>\n",
       "    </tr>\n",
       "    <tr>\n",
       "      <th>2034</th>\n",
       "      <td>17 November 2021</td>\n",
       "      <td>nice mobile genuine seller</td>\n",
       "      <td>seller</td>\n",
       "      <td>genuine</td>\n",
       "    </tr>\n",
       "    <tr>\n",
       "      <th>2035</th>\n",
       "      <td>10 October 2021</td>\n",
       "      <td>experienced heating issue in iphone otherwise ...</td>\n",
       "      <td>issue</td>\n",
       "      <td>experienced</td>\n",
       "    </tr>\n",
       "    <tr>\n",
       "      <th>2036</th>\n",
       "      <td>10 October 2021</td>\n",
       "      <td>good camera</td>\n",
       "      <td>camera</td>\n",
       "      <td>good</td>\n",
       "    </tr>\n",
       "  </tbody>\n",
       "</table>\n",
       "<p>2037 rows × 4 columns</p>\n",
       "</div>\n",
       "      <button class=\"colab-df-convert\" onclick=\"convertToInteractive('df-5bfaccac-982b-47f6-a239-0f3c3c0e6cde')\"\n",
       "              title=\"Convert this dataframe to an interactive table.\"\n",
       "              style=\"display:none;\">\n",
       "        \n",
       "  <svg xmlns=\"http://www.w3.org/2000/svg\" height=\"24px\"viewBox=\"0 0 24 24\"\n",
       "       width=\"24px\">\n",
       "    <path d=\"M0 0h24v24H0V0z\" fill=\"none\"/>\n",
       "    <path d=\"M18.56 5.44l.94 2.06.94-2.06 2.06-.94-2.06-.94-.94-2.06-.94 2.06-2.06.94zm-11 1L8.5 8.5l.94-2.06 2.06-.94-2.06-.94L8.5 2.5l-.94 2.06-2.06.94zm10 10l.94 2.06.94-2.06 2.06-.94-2.06-.94-.94-2.06-.94 2.06-2.06.94z\"/><path d=\"M17.41 7.96l-1.37-1.37c-.4-.4-.92-.59-1.43-.59-.52 0-1.04.2-1.43.59L10.3 9.45l-7.72 7.72c-.78.78-.78 2.05 0 2.83L4 21.41c.39.39.9.59 1.41.59.51 0 1.02-.2 1.41-.59l7.78-7.78 2.81-2.81c.8-.78.8-2.07 0-2.86zM5.41 20L4 18.59l7.72-7.72 1.47 1.35L5.41 20z\"/>\n",
       "  </svg>\n",
       "      </button>\n",
       "      \n",
       "  <style>\n",
       "    .colab-df-container {\n",
       "      display:flex;\n",
       "      flex-wrap:wrap;\n",
       "      gap: 12px;\n",
       "    }\n",
       "\n",
       "    .colab-df-convert {\n",
       "      background-color: #E8F0FE;\n",
       "      border: none;\n",
       "      border-radius: 50%;\n",
       "      cursor: pointer;\n",
       "      display: none;\n",
       "      fill: #1967D2;\n",
       "      height: 32px;\n",
       "      padding: 0 0 0 0;\n",
       "      width: 32px;\n",
       "    }\n",
       "\n",
       "    .colab-df-convert:hover {\n",
       "      background-color: #E2EBFA;\n",
       "      box-shadow: 0px 1px 2px rgba(60, 64, 67, 0.3), 0px 1px 3px 1px rgba(60, 64, 67, 0.15);\n",
       "      fill: #174EA6;\n",
       "    }\n",
       "\n",
       "    [theme=dark] .colab-df-convert {\n",
       "      background-color: #3B4455;\n",
       "      fill: #D2E3FC;\n",
       "    }\n",
       "\n",
       "    [theme=dark] .colab-df-convert:hover {\n",
       "      background-color: #434B5C;\n",
       "      box-shadow: 0px 1px 3px 1px rgba(0, 0, 0, 0.15);\n",
       "      filter: drop-shadow(0px 1px 2px rgba(0, 0, 0, 0.3));\n",
       "      fill: #FFFFFF;\n",
       "    }\n",
       "  </style>\n",
       "\n",
       "      <script>\n",
       "        const buttonEl =\n",
       "          document.querySelector('#df-5bfaccac-982b-47f6-a239-0f3c3c0e6cde button.colab-df-convert');\n",
       "        buttonEl.style.display =\n",
       "          google.colab.kernel.accessAllowed ? 'block' : 'none';\n",
       "\n",
       "        async function convertToInteractive(key) {\n",
       "          const element = document.querySelector('#df-5bfaccac-982b-47f6-a239-0f3c3c0e6cde');\n",
       "          const dataTable =\n",
       "            await google.colab.kernel.invokeFunction('convertToInteractive',\n",
       "                                                     [key], {});\n",
       "          if (!dataTable) return;\n",
       "\n",
       "          const docLinkHtml = 'Like what you see? Visit the ' +\n",
       "            '<a target=\"_blank\" href=https://colab.research.google.com/notebooks/data_table.ipynb>data table notebook</a>'\n",
       "            + ' to learn more about interactive tables.';\n",
       "          element.innerHTML = '';\n",
       "          dataTable['output_type'] = 'display_data';\n",
       "          await google.colab.output.renderOutput(dataTable, element);\n",
       "          const docLink = document.createElement('div');\n",
       "          docLink.innerHTML = docLinkHtml;\n",
       "          element.appendChild(docLink);\n",
       "        }\n",
       "      </script>\n",
       "    </div>\n",
       "  </div>\n",
       "  "
      ],
      "text/plain": [
       "                  Date                                             Review  \\\n",
       "0     1 September 2022                              costly thing provided   \n",
       "1     1 September 2022                also provide charging adapter phone   \n",
       "2     1 September 2022  time go slow feel slow esp after release new p...   \n",
       "3      10 January 2021                                       product good   \n",
       "4      10 January 2021  battery get zero within hour after six month c...   \n",
       "...                ...                                                ...   \n",
       "2032  17 November 2021                         nice mobile genuine seller   \n",
       "2033  17 November 2021                         nice mobile genuine seller   \n",
       "2034  17 November 2021                         nice mobile genuine seller   \n",
       "2035   10 October 2021  experienced heating issue in iphone otherwise ...   \n",
       "2036   10 October 2021                                        good camera   \n",
       "\n",
       "       Aspect  Description  \n",
       "0       thing       costly  \n",
       "1     neutral      neutral  \n",
       "2       phone          new  \n",
       "3     product         good  \n",
       "4     battery      changed  \n",
       "...       ...          ...  \n",
       "2032   seller         nice  \n",
       "2033  genuine       mobile  \n",
       "2034   seller      genuine  \n",
       "2035    issue  experienced  \n",
       "2036   camera         good  \n",
       "\n",
       "[2037 rows x 4 columns]"
      ]
     },
     "execution_count": 214,
     "metadata": {},
     "output_type": "execute_result"
    }
   ],
   "source": [
    "test_data_with_aspects"
   ]
  },
  {
   "cell_type": "markdown",
   "id": "ae9adbf7",
   "metadata": {
    "id": "ae9adbf7"
   },
   "source": [
    "# Sentiment / polarity:"
   ]
  },
  {
   "cell_type": "code",
   "execution_count": 215,
   "id": "a4a442d4",
   "metadata": {
    "id": "a4a442d4"
   },
   "outputs": [],
   "source": [
    "# Vader sentiment analysis:\n",
    "def sentiment_scores(sentence):\n",
    "    senti = SentimentIntensityAnalyzer() \n",
    "    sentiment_dict = senti.polarity_scores(sentence) # this line returns the polarity for sentence\n",
    "  \n",
    "    if sentiment_dict['compound'] >= 0.05 : # if the compound score is >= 0.05 then the review is positive\n",
    "        return (\"Positive\"),sentiment_dict['pos'],sentiment_dict['compound']\n",
    "\n",
    "    elif sentiment_dict['compound'] <= - 0.05 : # if the compound score is <= -0.05 then the review is negative\n",
    "        return (\"Negative\"),sentiment_dict['neg'],sentiment_dict['compound']\n",
    "\n",
    "    else :\n",
    "        return (\"Neutral\"),sentiment_dict['neu'],sentiment_dict['compound'] # if compound score is in between 0.05 and -0.05 then the review is neutral\n",
    "    \n",
    "# Reference---> (https://www.geeksforgeeks.org/python-sentiment-analysis-using-vader/)"
   ]
  },
  {
   "cell_type": "code",
   "execution_count": 216,
   "id": "4acc6e25",
   "metadata": {
    "id": "4acc6e25"
   },
   "outputs": [],
   "source": [
    "def form_final_data(data):\n",
    "    starttime = timeit.default_timer()\n",
    "    \n",
    "    sentiment_ = [] # this list carries the sentiment for the review\n",
    "    #pol_value = [] # this list consists of  the polarity for the review\n",
    "    compound = [] # this consists of score based on which the sentiments are defined\n",
    "\n",
    "    for u in data[\"Review\"].values: # applying the above defined function by iterating through each review\n",
    "        a,b,c = sentiment_scores(u)\n",
    "        sentiment_.append(a)\n",
    "        #pol_value.append(b)\n",
    "        compound.append(c)\n",
    "        \n",
    "    data[\"Sentiment\"] = sentiment_ # adding the sentiment to dataframe\n",
    "    #data[\"Polarity\"] = pol_value\n",
    "    data[\"Score\"] = compound # adding the score to dataframe\n",
    "    \n",
    "    data[\"Date\"] = pd.to_datetime(data['Date']) \n",
    "    data.sort_values(by = 'Date', inplace = True) # sorting the date in ascending order\n",
    "    \n",
    "    data[\"Year\"] = pd.DatetimeIndex(data['Date']).year # extracting year from date\n",
    "    data[\"Month\"] = pd.DatetimeIndex(data['Date']).month # extracting month from date\n",
    "    data[\"Week\"] = pd.DatetimeIndex(data['Date']).week # extracting week from date\n",
    "    \n",
    "    final_dff = data.reset_index().drop([\"index\"], axis=1) # resetting the index\n",
    "    \n",
    "    print(\"The time difference is :\", timeit.default_timer() - starttime)\n",
    "    return final_dff"
   ]
  },
  {
   "cell_type": "code",
   "execution_count": 217,
   "id": "f8e7755f",
   "metadata": {
    "colab": {
     "base_uri": "https://localhost:8080/"
    },
    "id": "f8e7755f",
    "outputId": "a323ce1b-440a-4946-ab44-87399194f66c"
   },
   "outputs": [
    {
     "name": "stdout",
     "output_type": "stream",
     "text": [
      "The time difference is : 116.32936665200032\n"
     ]
    }
   ],
   "source": [
    "final_train = form_final_data(train_data_with_aspects)"
   ]
  },
  {
   "cell_type": "code",
   "execution_count": 218,
   "id": "d5134db0",
   "metadata": {
    "colab": {
     "base_uri": "https://localhost:8080/"
    },
    "id": "d5134db0",
    "outputId": "f0a8b7eb-cda3-4bcd-902a-855156b1501d"
   },
   "outputs": [
    {
     "name": "stdout",
     "output_type": "stream",
     "text": [
      "The time difference is : 25.65609221800014\n"
     ]
    }
   ],
   "source": [
    "final_test = form_final_data(test_data_with_aspects)"
   ]
  },
  {
   "cell_type": "code",
   "execution_count": 219,
   "id": "ebea9bff",
   "metadata": {
    "colab": {
     "base_uri": "https://localhost:8080/",
     "height": 424
    },
    "id": "ebea9bff",
    "outputId": "53e8c0c2-8596-439e-b3dc-c7dd42cb02ce"
   },
   "outputs": [
    {
     "data": {
      "text/html": [
       "\n",
       "  <div id=\"df-5cb9aaab-0106-4757-8c49-b4e94667f866\">\n",
       "    <div class=\"colab-df-container\">\n",
       "      <div>\n",
       "<style scoped>\n",
       "    .dataframe tbody tr th:only-of-type {\n",
       "        vertical-align: middle;\n",
       "    }\n",
       "\n",
       "    .dataframe tbody tr th {\n",
       "        vertical-align: top;\n",
       "    }\n",
       "\n",
       "    .dataframe thead th {\n",
       "        text-align: right;\n",
       "    }\n",
       "</style>\n",
       "<table border=\"1\" class=\"dataframe\">\n",
       "  <thead>\n",
       "    <tr style=\"text-align: right;\">\n",
       "      <th></th>\n",
       "      <th>Date</th>\n",
       "      <th>Review</th>\n",
       "      <th>Aspect</th>\n",
       "      <th>Description</th>\n",
       "      <th>Sentiment</th>\n",
       "      <th>Score</th>\n",
       "      <th>Year</th>\n",
       "      <th>Month</th>\n",
       "      <th>Week</th>\n",
       "    </tr>\n",
       "  </thead>\n",
       "  <tbody>\n",
       "    <tr>\n",
       "      <th>0</th>\n",
       "      <td>2019-09-30</td>\n",
       "      <td>must try slow motion selfie</td>\n",
       "      <td>selfie</td>\n",
       "      <td>slow</td>\n",
       "      <td>Neutral</td>\n",
       "      <td>0.0000</td>\n",
       "      <td>2019</td>\n",
       "      <td>9</td>\n",
       "      <td>40</td>\n",
       "    </tr>\n",
       "    <tr>\n",
       "      <th>1</th>\n",
       "      <td>2019-09-30</td>\n",
       "      <td>must say really impressed</td>\n",
       "      <td>neutral</td>\n",
       "      <td>neutral</td>\n",
       "      <td>Positive</td>\n",
       "      <td>0.5256</td>\n",
       "      <td>2019</td>\n",
       "      <td>9</td>\n",
       "      <td>40</td>\n",
       "    </tr>\n",
       "    <tr>\n",
       "      <th>2</th>\n",
       "      <td>2019-09-30</td>\n",
       "      <td>speechless not ask more</td>\n",
       "      <td>neutral</td>\n",
       "      <td>neutral</td>\n",
       "      <td>Neutral</td>\n",
       "      <td>0.0000</td>\n",
       "      <td>2019</td>\n",
       "      <td>9</td>\n",
       "      <td>40</td>\n",
       "    </tr>\n",
       "    <tr>\n",
       "      <th>3</th>\n",
       "      <td>2019-09-30</td>\n",
       "      <td>planning buy premium phone</td>\n",
       "      <td>phone</td>\n",
       "      <td>premium</td>\n",
       "      <td>Neutral</td>\n",
       "      <td>0.0000</td>\n",
       "      <td>2019</td>\n",
       "      <td>9</td>\n",
       "      <td>40</td>\n",
       "    </tr>\n",
       "    <tr>\n",
       "      <th>4</th>\n",
       "      <td>2019-09-30</td>\n",
       "      <td></td>\n",
       "      <td>neutral</td>\n",
       "      <td>neutral</td>\n",
       "      <td>Neutral</td>\n",
       "      <td>0.0000</td>\n",
       "      <td>2019</td>\n",
       "      <td>9</td>\n",
       "      <td>40</td>\n",
       "    </tr>\n",
       "    <tr>\n",
       "      <th>...</th>\n",
       "      <td>...</td>\n",
       "      <td>...</td>\n",
       "      <td>...</td>\n",
       "      <td>...</td>\n",
       "      <td>...</td>\n",
       "      <td>...</td>\n",
       "      <td>...</td>\n",
       "      <td>...</td>\n",
       "      <td>...</td>\n",
       "    </tr>\n",
       "    <tr>\n",
       "      <th>9175</th>\n",
       "      <td>2022-08-17</td>\n",
       "      <td>medium could not loaded</td>\n",
       "      <td>neutral</td>\n",
       "      <td>neutral</td>\n",
       "      <td>Neutral</td>\n",
       "      <td>0.0000</td>\n",
       "      <td>2022</td>\n",
       "      <td>8</td>\n",
       "      <td>33</td>\n",
       "    </tr>\n",
       "    <tr>\n",
       "      <th>9176</th>\n",
       "      <td>2022-08-17</td>\n",
       "      <td>month since purchased</td>\n",
       "      <td>neutral</td>\n",
       "      <td>neutral</td>\n",
       "      <td>Neutral</td>\n",
       "      <td>0.0000</td>\n",
       "      <td>2022</td>\n",
       "      <td>8</td>\n",
       "      <td>33</td>\n",
       "    </tr>\n",
       "    <tr>\n",
       "      <th>9177</th>\n",
       "      <td>2022-08-27</td>\n",
       "      <td>bad battery</td>\n",
       "      <td>battery</td>\n",
       "      <td>bad</td>\n",
       "      <td>Negative</td>\n",
       "      <td>-0.5423</td>\n",
       "      <td>2022</td>\n",
       "      <td>8</td>\n",
       "      <td>34</td>\n",
       "    </tr>\n",
       "    <tr>\n",
       "      <th>9178</th>\n",
       "      <td>2022-09-13</td>\n",
       "      <td>not recommend go definitely go eleven worst ba...</td>\n",
       "      <td>battery</td>\n",
       "      <td>worst</td>\n",
       "      <td>Negative</td>\n",
       "      <td>-0.9112</td>\n",
       "      <td>2022</td>\n",
       "      <td>9</td>\n",
       "      <td>37</td>\n",
       "    </tr>\n",
       "    <tr>\n",
       "      <th>9179</th>\n",
       "      <td>2022-09-13</td>\n",
       "      <td>not recommend go definitely go eleven worst ba...</td>\n",
       "      <td>backup</td>\n",
       "      <td>worst</td>\n",
       "      <td>Negative</td>\n",
       "      <td>-0.9112</td>\n",
       "      <td>2022</td>\n",
       "      <td>9</td>\n",
       "      <td>37</td>\n",
       "    </tr>\n",
       "  </tbody>\n",
       "</table>\n",
       "<p>9180 rows × 9 columns</p>\n",
       "</div>\n",
       "      <button class=\"colab-df-convert\" onclick=\"convertToInteractive('df-5cb9aaab-0106-4757-8c49-b4e94667f866')\"\n",
       "              title=\"Convert this dataframe to an interactive table.\"\n",
       "              style=\"display:none;\">\n",
       "        \n",
       "  <svg xmlns=\"http://www.w3.org/2000/svg\" height=\"24px\"viewBox=\"0 0 24 24\"\n",
       "       width=\"24px\">\n",
       "    <path d=\"M0 0h24v24H0V0z\" fill=\"none\"/>\n",
       "    <path d=\"M18.56 5.44l.94 2.06.94-2.06 2.06-.94-2.06-.94-.94-2.06-.94 2.06-2.06.94zm-11 1L8.5 8.5l.94-2.06 2.06-.94-2.06-.94L8.5 2.5l-.94 2.06-2.06.94zm10 10l.94 2.06.94-2.06 2.06-.94-2.06-.94-.94-2.06-.94 2.06-2.06.94z\"/><path d=\"M17.41 7.96l-1.37-1.37c-.4-.4-.92-.59-1.43-.59-.52 0-1.04.2-1.43.59L10.3 9.45l-7.72 7.72c-.78.78-.78 2.05 0 2.83L4 21.41c.39.39.9.59 1.41.59.51 0 1.02-.2 1.41-.59l7.78-7.78 2.81-2.81c.8-.78.8-2.07 0-2.86zM5.41 20L4 18.59l7.72-7.72 1.47 1.35L5.41 20z\"/>\n",
       "  </svg>\n",
       "      </button>\n",
       "      \n",
       "  <style>\n",
       "    .colab-df-container {\n",
       "      display:flex;\n",
       "      flex-wrap:wrap;\n",
       "      gap: 12px;\n",
       "    }\n",
       "\n",
       "    .colab-df-convert {\n",
       "      background-color: #E8F0FE;\n",
       "      border: none;\n",
       "      border-radius: 50%;\n",
       "      cursor: pointer;\n",
       "      display: none;\n",
       "      fill: #1967D2;\n",
       "      height: 32px;\n",
       "      padding: 0 0 0 0;\n",
       "      width: 32px;\n",
       "    }\n",
       "\n",
       "    .colab-df-convert:hover {\n",
       "      background-color: #E2EBFA;\n",
       "      box-shadow: 0px 1px 2px rgba(60, 64, 67, 0.3), 0px 1px 3px 1px rgba(60, 64, 67, 0.15);\n",
       "      fill: #174EA6;\n",
       "    }\n",
       "\n",
       "    [theme=dark] .colab-df-convert {\n",
       "      background-color: #3B4455;\n",
       "      fill: #D2E3FC;\n",
       "    }\n",
       "\n",
       "    [theme=dark] .colab-df-convert:hover {\n",
       "      background-color: #434B5C;\n",
       "      box-shadow: 0px 1px 3px 1px rgba(0, 0, 0, 0.15);\n",
       "      filter: drop-shadow(0px 1px 2px rgba(0, 0, 0, 0.3));\n",
       "      fill: #FFFFFF;\n",
       "    }\n",
       "  </style>\n",
       "\n",
       "      <script>\n",
       "        const buttonEl =\n",
       "          document.querySelector('#df-5cb9aaab-0106-4757-8c49-b4e94667f866 button.colab-df-convert');\n",
       "        buttonEl.style.display =\n",
       "          google.colab.kernel.accessAllowed ? 'block' : 'none';\n",
       "\n",
       "        async function convertToInteractive(key) {\n",
       "          const element = document.querySelector('#df-5cb9aaab-0106-4757-8c49-b4e94667f866');\n",
       "          const dataTable =\n",
       "            await google.colab.kernel.invokeFunction('convertToInteractive',\n",
       "                                                     [key], {});\n",
       "          if (!dataTable) return;\n",
       "\n",
       "          const docLinkHtml = 'Like what you see? Visit the ' +\n",
       "            '<a target=\"_blank\" href=https://colab.research.google.com/notebooks/data_table.ipynb>data table notebook</a>'\n",
       "            + ' to learn more about interactive tables.';\n",
       "          element.innerHTML = '';\n",
       "          dataTable['output_type'] = 'display_data';\n",
       "          await google.colab.output.renderOutput(dataTable, element);\n",
       "          const docLink = document.createElement('div');\n",
       "          docLink.innerHTML = docLinkHtml;\n",
       "          element.appendChild(docLink);\n",
       "        }\n",
       "      </script>\n",
       "    </div>\n",
       "  </div>\n",
       "  "
      ],
      "text/plain": [
       "           Date                                             Review   Aspect  \\\n",
       "0    2019-09-30                        must try slow motion selfie   selfie   \n",
       "1    2019-09-30                          must say really impressed  neutral   \n",
       "2    2019-09-30                            speechless not ask more  neutral   \n",
       "3    2019-09-30                         planning buy premium phone    phone   \n",
       "4    2019-09-30                                                     neutral   \n",
       "...         ...                                                ...      ...   \n",
       "9175 2022-08-17                            medium could not loaded  neutral   \n",
       "9176 2022-08-17                              month since purchased  neutral   \n",
       "9177 2022-08-27                                        bad battery  battery   \n",
       "9178 2022-09-13  not recommend go definitely go eleven worst ba...  battery   \n",
       "9179 2022-09-13  not recommend go definitely go eleven worst ba...   backup   \n",
       "\n",
       "     Description Sentiment   Score  Year  Month  Week  \n",
       "0           slow   Neutral  0.0000  2019      9    40  \n",
       "1        neutral  Positive  0.5256  2019      9    40  \n",
       "2        neutral   Neutral  0.0000  2019      9    40  \n",
       "3        premium   Neutral  0.0000  2019      9    40  \n",
       "4        neutral   Neutral  0.0000  2019      9    40  \n",
       "...          ...       ...     ...   ...    ...   ...  \n",
       "9175     neutral   Neutral  0.0000  2022      8    33  \n",
       "9176     neutral   Neutral  0.0000  2022      8    33  \n",
       "9177         bad  Negative -0.5423  2022      8    34  \n",
       "9178       worst  Negative -0.9112  2022      9    37  \n",
       "9179       worst  Negative -0.9112  2022      9    37  \n",
       "\n",
       "[9180 rows x 9 columns]"
      ]
     },
     "execution_count": 219,
     "metadata": {},
     "output_type": "execute_result"
    }
   ],
   "source": [
    "final_train"
   ]
  },
  {
   "cell_type": "code",
   "execution_count": 220,
   "id": "3ce0c04a",
   "metadata": {
    "colab": {
     "base_uri": "https://localhost:8080/",
     "height": 424
    },
    "id": "3ce0c04a",
    "outputId": "7b8b2e55-89a0-4825-fc47-ac3f2713e5da"
   },
   "outputs": [
    {
     "data": {
      "text/html": [
       "\n",
       "  <div id=\"df-de8e3d79-c090-4056-8cfa-3c1e05aa5721\">\n",
       "    <div class=\"colab-df-container\">\n",
       "      <div>\n",
       "<style scoped>\n",
       "    .dataframe tbody tr th:only-of-type {\n",
       "        vertical-align: middle;\n",
       "    }\n",
       "\n",
       "    .dataframe tbody tr th {\n",
       "        vertical-align: top;\n",
       "    }\n",
       "\n",
       "    .dataframe thead th {\n",
       "        text-align: right;\n",
       "    }\n",
       "</style>\n",
       "<table border=\"1\" class=\"dataframe\">\n",
       "  <thead>\n",
       "    <tr style=\"text-align: right;\">\n",
       "      <th></th>\n",
       "      <th>Date</th>\n",
       "      <th>Review</th>\n",
       "      <th>Aspect</th>\n",
       "      <th>Description</th>\n",
       "      <th>Sentiment</th>\n",
       "      <th>Score</th>\n",
       "      <th>Year</th>\n",
       "      <th>Month</th>\n",
       "      <th>Week</th>\n",
       "    </tr>\n",
       "  </thead>\n",
       "  <tbody>\n",
       "    <tr>\n",
       "      <th>0</th>\n",
       "      <td>2019-09-28</td>\n",
       "      <td>got guy</td>\n",
       "      <td>neutral</td>\n",
       "      <td>neutral</td>\n",
       "      <td>Neutral</td>\n",
       "      <td>0.0000</td>\n",
       "      <td>2019</td>\n",
       "      <td>9</td>\n",
       "      <td>39</td>\n",
       "    </tr>\n",
       "    <tr>\n",
       "      <th>1</th>\n",
       "      <td>2019-09-28</td>\n",
       "      <td>matter</td>\n",
       "      <td>neutral</td>\n",
       "      <td>neutral</td>\n",
       "      <td>Neutral</td>\n",
       "      <td>0.0258</td>\n",
       "      <td>2019</td>\n",
       "      <td>9</td>\n",
       "      <td>39</td>\n",
       "    </tr>\n",
       "    <tr>\n",
       "      <th>2</th>\n",
       "      <td>2019-09-28</td>\n",
       "      <td>display could oled in price</td>\n",
       "      <td>neutral</td>\n",
       "      <td>neutral</td>\n",
       "      <td>Neutral</td>\n",
       "      <td>0.0000</td>\n",
       "      <td>2019</td>\n",
       "      <td>9</td>\n",
       "      <td>39</td>\n",
       "    </tr>\n",
       "    <tr>\n",
       "      <th>3</th>\n",
       "      <td>2019-09-28</td>\n",
       "      <td>best processor bionic chipcons</td>\n",
       "      <td>chipcons</td>\n",
       "      <td>bionic</td>\n",
       "      <td>Positive</td>\n",
       "      <td>0.6369</td>\n",
       "      <td>2019</td>\n",
       "      <td>9</td>\n",
       "      <td>39</td>\n",
       "    </tr>\n",
       "    <tr>\n",
       "      <th>4</th>\n",
       "      <td>2019-09-28</td>\n",
       "      <td>best processor bionic chipcons</td>\n",
       "      <td>chipcons</td>\n",
       "      <td>best</td>\n",
       "      <td>Positive</td>\n",
       "      <td>0.6369</td>\n",
       "      <td>2019</td>\n",
       "      <td>9</td>\n",
       "      <td>39</td>\n",
       "    </tr>\n",
       "    <tr>\n",
       "      <th>...</th>\n",
       "      <td>...</td>\n",
       "      <td>...</td>\n",
       "      <td>...</td>\n",
       "      <td>...</td>\n",
       "      <td>...</td>\n",
       "      <td>...</td>\n",
       "      <td>...</td>\n",
       "      <td>...</td>\n",
       "      <td>...</td>\n",
       "    </tr>\n",
       "    <tr>\n",
       "      <th>2032</th>\n",
       "      <td>2022-07-25</td>\n",
       "      <td>review amazon customer service</td>\n",
       "      <td>neutral</td>\n",
       "      <td>neutral</td>\n",
       "      <td>Positive</td>\n",
       "      <td>0.1779</td>\n",
       "      <td>2022</td>\n",
       "      <td>7</td>\n",
       "      <td>30</td>\n",
       "    </tr>\n",
       "    <tr>\n",
       "      <th>2033</th>\n",
       "      <td>2022-07-31</td>\n",
       "      <td>month use battery life percent not good prodecut</td>\n",
       "      <td>prodecut</td>\n",
       "      <td>good</td>\n",
       "      <td>Negative</td>\n",
       "      <td>-0.3412</td>\n",
       "      <td>2022</td>\n",
       "      <td>7</td>\n",
       "      <td>30</td>\n",
       "    </tr>\n",
       "    <tr>\n",
       "      <th>2034</th>\n",
       "      <td>2022-09-01</td>\n",
       "      <td>time go slow feel slow esp after release new p...</td>\n",
       "      <td>phone</td>\n",
       "      <td>new</td>\n",
       "      <td>Neutral</td>\n",
       "      <td>0.0000</td>\n",
       "      <td>2022</td>\n",
       "      <td>9</td>\n",
       "      <td>35</td>\n",
       "    </tr>\n",
       "    <tr>\n",
       "      <th>2035</th>\n",
       "      <td>2022-09-01</td>\n",
       "      <td>also provide charging adapter phone</td>\n",
       "      <td>neutral</td>\n",
       "      <td>neutral</td>\n",
       "      <td>Neutral</td>\n",
       "      <td>0.0000</td>\n",
       "      <td>2022</td>\n",
       "      <td>9</td>\n",
       "      <td>35</td>\n",
       "    </tr>\n",
       "    <tr>\n",
       "      <th>2036</th>\n",
       "      <td>2022-09-01</td>\n",
       "      <td>costly thing provided</td>\n",
       "      <td>thing</td>\n",
       "      <td>costly</td>\n",
       "      <td>Negative</td>\n",
       "      <td>-0.1027</td>\n",
       "      <td>2022</td>\n",
       "      <td>9</td>\n",
       "      <td>35</td>\n",
       "    </tr>\n",
       "  </tbody>\n",
       "</table>\n",
       "<p>2037 rows × 9 columns</p>\n",
       "</div>\n",
       "      <button class=\"colab-df-convert\" onclick=\"convertToInteractive('df-de8e3d79-c090-4056-8cfa-3c1e05aa5721')\"\n",
       "              title=\"Convert this dataframe to an interactive table.\"\n",
       "              style=\"display:none;\">\n",
       "        \n",
       "  <svg xmlns=\"http://www.w3.org/2000/svg\" height=\"24px\"viewBox=\"0 0 24 24\"\n",
       "       width=\"24px\">\n",
       "    <path d=\"M0 0h24v24H0V0z\" fill=\"none\"/>\n",
       "    <path d=\"M18.56 5.44l.94 2.06.94-2.06 2.06-.94-2.06-.94-.94-2.06-.94 2.06-2.06.94zm-11 1L8.5 8.5l.94-2.06 2.06-.94-2.06-.94L8.5 2.5l-.94 2.06-2.06.94zm10 10l.94 2.06.94-2.06 2.06-.94-2.06-.94-.94-2.06-.94 2.06-2.06.94z\"/><path d=\"M17.41 7.96l-1.37-1.37c-.4-.4-.92-.59-1.43-.59-.52 0-1.04.2-1.43.59L10.3 9.45l-7.72 7.72c-.78.78-.78 2.05 0 2.83L4 21.41c.39.39.9.59 1.41.59.51 0 1.02-.2 1.41-.59l7.78-7.78 2.81-2.81c.8-.78.8-2.07 0-2.86zM5.41 20L4 18.59l7.72-7.72 1.47 1.35L5.41 20z\"/>\n",
       "  </svg>\n",
       "      </button>\n",
       "      \n",
       "  <style>\n",
       "    .colab-df-container {\n",
       "      display:flex;\n",
       "      flex-wrap:wrap;\n",
       "      gap: 12px;\n",
       "    }\n",
       "\n",
       "    .colab-df-convert {\n",
       "      background-color: #E8F0FE;\n",
       "      border: none;\n",
       "      border-radius: 50%;\n",
       "      cursor: pointer;\n",
       "      display: none;\n",
       "      fill: #1967D2;\n",
       "      height: 32px;\n",
       "      padding: 0 0 0 0;\n",
       "      width: 32px;\n",
       "    }\n",
       "\n",
       "    .colab-df-convert:hover {\n",
       "      background-color: #E2EBFA;\n",
       "      box-shadow: 0px 1px 2px rgba(60, 64, 67, 0.3), 0px 1px 3px 1px rgba(60, 64, 67, 0.15);\n",
       "      fill: #174EA6;\n",
       "    }\n",
       "\n",
       "    [theme=dark] .colab-df-convert {\n",
       "      background-color: #3B4455;\n",
       "      fill: #D2E3FC;\n",
       "    }\n",
       "\n",
       "    [theme=dark] .colab-df-convert:hover {\n",
       "      background-color: #434B5C;\n",
       "      box-shadow: 0px 1px 3px 1px rgba(0, 0, 0, 0.15);\n",
       "      filter: drop-shadow(0px 1px 2px rgba(0, 0, 0, 0.3));\n",
       "      fill: #FFFFFF;\n",
       "    }\n",
       "  </style>\n",
       "\n",
       "      <script>\n",
       "        const buttonEl =\n",
       "          document.querySelector('#df-de8e3d79-c090-4056-8cfa-3c1e05aa5721 button.colab-df-convert');\n",
       "        buttonEl.style.display =\n",
       "          google.colab.kernel.accessAllowed ? 'block' : 'none';\n",
       "\n",
       "        async function convertToInteractive(key) {\n",
       "          const element = document.querySelector('#df-de8e3d79-c090-4056-8cfa-3c1e05aa5721');\n",
       "          const dataTable =\n",
       "            await google.colab.kernel.invokeFunction('convertToInteractive',\n",
       "                                                     [key], {});\n",
       "          if (!dataTable) return;\n",
       "\n",
       "          const docLinkHtml = 'Like what you see? Visit the ' +\n",
       "            '<a target=\"_blank\" href=https://colab.research.google.com/notebooks/data_table.ipynb>data table notebook</a>'\n",
       "            + ' to learn more about interactive tables.';\n",
       "          element.innerHTML = '';\n",
       "          dataTable['output_type'] = 'display_data';\n",
       "          await google.colab.output.renderOutput(dataTable, element);\n",
       "          const docLink = document.createElement('div');\n",
       "          docLink.innerHTML = docLinkHtml;\n",
       "          element.appendChild(docLink);\n",
       "        }\n",
       "      </script>\n",
       "    </div>\n",
       "  </div>\n",
       "  "
      ],
      "text/plain": [
       "           Date                                             Review    Aspect  \\\n",
       "0    2019-09-28                                            got guy   neutral   \n",
       "1    2019-09-28                                             matter   neutral   \n",
       "2    2019-09-28                        display could oled in price   neutral   \n",
       "3    2019-09-28                     best processor bionic chipcons  chipcons   \n",
       "4    2019-09-28                     best processor bionic chipcons  chipcons   \n",
       "...         ...                                                ...       ...   \n",
       "2032 2022-07-25                     review amazon customer service   neutral   \n",
       "2033 2022-07-31   month use battery life percent not good prodecut  prodecut   \n",
       "2034 2022-09-01  time go slow feel slow esp after release new p...     phone   \n",
       "2035 2022-09-01                also provide charging adapter phone   neutral   \n",
       "2036 2022-09-01                              costly thing provided     thing   \n",
       "\n",
       "     Description Sentiment   Score  Year  Month  Week  \n",
       "0        neutral   Neutral  0.0000  2019      9    39  \n",
       "1        neutral   Neutral  0.0258  2019      9    39  \n",
       "2        neutral   Neutral  0.0000  2019      9    39  \n",
       "3         bionic  Positive  0.6369  2019      9    39  \n",
       "4           best  Positive  0.6369  2019      9    39  \n",
       "...          ...       ...     ...   ...    ...   ...  \n",
       "2032     neutral  Positive  0.1779  2022      7    30  \n",
       "2033        good  Negative -0.3412  2022      7    30  \n",
       "2034         new   Neutral  0.0000  2022      9    35  \n",
       "2035     neutral   Neutral  0.0000  2022      9    35  \n",
       "2036      costly  Negative -0.1027  2022      9    35  \n",
       "\n",
       "[2037 rows x 9 columns]"
      ]
     },
     "execution_count": 220,
     "metadata": {},
     "output_type": "execute_result"
    }
   ],
   "source": [
    "final_test"
   ]
  },
  {
   "cell_type": "markdown",
   "id": "a8013e0f",
   "metadata": {
    "id": "a8013e0f"
   },
   "source": [
    "# Basic Feature Extraction:"
   ]
  },
  {
   "cell_type": "code",
   "execution_count": 221,
   "id": "dd622b10",
   "metadata": {
    "id": "dd622b10"
   },
   "outputs": [],
   "source": [
    "def character_count(text):\n",
    "    \"\"\"\n",
    "    This function returns the number of letters in a review\n",
    "    \n",
    "    \"\"\"\n",
    "    return len(text)\n",
    "\n",
    "def word_count(text):\n",
    "    \"\"\"\n",
    "    This function returns the number of words in a review\n",
    "    \n",
    "    \"\"\"\n",
    "    return len(text.split())\n",
    "\n",
    "def unique_words(text):\n",
    "    \"\"\"\n",
    "    This function returns the number of unique words in a review\n",
    "    \n",
    "    \"\"\"\n",
    "    return len(set(text.split()))"
   ]
  },
  {
   "cell_type": "code",
   "execution_count": 222,
   "id": "bcb4f610",
   "metadata": {
    "id": "bcb4f610"
   },
   "outputs": [],
   "source": [
    "# Train set:\n",
    "\n",
    "final_train['char_count'] = final_train[\"Review\"].apply(lambda x:character_count(x))\n",
    "final_train['word_count'] = final_train[\"Review\"].apply(lambda x:word_count(x))\n",
    "final_train['unique_word_count'] = final_train[\"Review\"].apply(lambda x:unique_words(x))\n",
    "final_train['avg_wordlength'] = final_train['char_count']/final_train['word_count']\n",
    "final_train['unique_vs_words'] = final_train['unique_word_count']/final_train['word_count']"
   ]
  },
  {
   "cell_type": "code",
   "execution_count": 223,
   "id": "f675eed5",
   "metadata": {
    "id": "f675eed5"
   },
   "outputs": [],
   "source": [
    "# Test set:\n",
    "\n",
    "final_test['char_count'] = final_test[\"Review\"].apply(lambda x:character_count(x))\n",
    "final_test['word_count'] = final_test[\"Review\"].apply(lambda x:word_count(x))\n",
    "final_test['unique_word_count'] = final_test[\"Review\"].apply(lambda x:unique_words(x))\n",
    "final_test['avg_wordlength'] = final_test['char_count']/final_test['word_count']\n",
    "final_test['unique_vs_words'] = final_test['unique_word_count']/final_test['word_count']"
   ]
  },
  {
   "cell_type": "markdown",
   "id": "00395a66",
   "metadata": {
    "id": "00395a66"
   },
   "source": [
    "# Data Visualization:"
   ]
  },
  {
   "cell_type": "markdown",
   "id": "a454ab00",
   "metadata": {
    "id": "a454ab00"
   },
   "source": [
    "# Frequency of top 30 Aspects:"
   ]
  },
  {
   "cell_type": "code",
   "execution_count": 224,
   "id": "cc9d6151",
   "metadata": {
    "colab": {
     "base_uri": "https://localhost:8080/",
     "height": 445
    },
    "id": "cc9d6151",
    "outputId": "e9b20dd2-ce1a-44e3-cb8d-c7d7b6cdc625"
   },
   "outputs": [
    {
     "data": {
      "text/plain": [
       "<matplotlib.axes._subplots.AxesSubplot at 0x7f3dafd75450>"
      ]
     },
     "execution_count": 224,
     "metadata": {},
     "output_type": "execute_result"
    },
    {
     "data": {
      "image/png": "[encoded data removed]",
      "text/plain": [
       "<Figure size 1296x504 with 1 Axes>"
      ]
     },
     "metadata": {
      "needs_background": "light"
     },
     "output_type": "display_data"
    }
   ],
   "source": [
    "top = final_train[\"Aspect\"].value_counts()[1:30]\n",
    "asp = list(dict(top).keys())\n",
    "count = list(dict(top).values())\n",
    "\n",
    "plt.figure(figsize=(18, 7))\n",
    "sns.barplot(x=count,y=asp)"
   ]
  },
  {
   "cell_type": "markdown",
   "id": "fbe1867e",
   "metadata": {
    "id": "fbe1867e"
   },
   "source": [
    "# Overall Sentiment for Unigram & Bigram aspects:"
   ]
  },
  {
   "cell_type": "code",
   "execution_count": 225,
   "id": "9d336314",
   "metadata": {
    "id": "9d336314"
   },
   "outputs": [],
   "source": [
    "def count_avg(data,group_name,text,text2):\n",
    "    \"\"\"\n",
    "    This function returns the overall sentiment for an aspect by calculating the mean of the column (score)\n",
    "    \n",
    "    \"\"\"\n",
    "    dict_version = {}\n",
    "    form_group = data.groupby(by = (group_name))\n",
    "    for i in list(dict(data[group_name].value_counts()).keys())[1:30]:\n",
    "        get_aspect = form_group.get_group(i)\n",
    "        result = get_aspect[\"Score\"].mean() # calculating the mean of score for a particular aspect\n",
    "        dict_version[i] = result\n",
    "    \n",
    "    plt.figure(figsize=(18, 7))\n",
    "    x_ver = list(dict_version.keys())\n",
    "    y_ver = sorted(list(dict_version.values()))\n",
    "    plt.barh(x_ver,y_ver)\n",
    "    plt.xlabel(text2, fontsize = 16)\n",
    "    plt.ylabel(\"Aspects\", fontsize = 16)\n",
    "    plt.title(text,fontsize = 16)\n",
    "    return plt.show() "
   ]
  },
  {
   "cell_type": "code",
   "execution_count": 226,
   "id": "9108b3ff",
   "metadata": {
    "colab": {
     "base_uri": "https://localhost:8080/",
     "height": 465
    },
    "id": "9108b3ff",
    "outputId": "e7a9c6df-591d-47de-d09d-758b71a49adf"
   },
   "outputs": [
    {
     "data": {
      "image/png": "[encoded data removed]",
      "text/plain": [
       "<Figure size 1296x504 with 1 Axes>"
      ]
     },
     "metadata": {
      "needs_background": "light"
     },
     "output_type": "display_data"
    }
   ],
   "source": [
    "count_avg(final_train,'Aspect','Overall sentiment of aspects','Score')"
   ]
  },
  {
   "cell_type": "markdown",
   "id": "3f3c42cb",
   "metadata": {
    "id": "3f3c42cb"
   },
   "source": [
    "# Overall Sentiments over a Time Period:"
   ]
  },
  {
   "cell_type": "code",
   "execution_count": 227,
   "id": "72b5bcde",
   "metadata": {
    "colab": {
     "base_uri": "https://localhost:8080/",
     "height": 734
    },
    "id": "72b5bcde",
    "outputId": "414437d1-1a7e-4943-89e6-6110f61f1d82"
   },
   "outputs": [
    {
     "data": {
      "text/html": [
       "<html>\n",
       "<head><meta charset=\"utf-8\" /></head>\n",
       "<body>\n",
       "    <div>            <script src=\"https://cdnjs.cloudflare.com/ajax/libs/mathjax/2.7.5/MathJax.js?config=TeX-AMS-MML_SVG\"></script><script type=\"text/javascript\">if (window.MathJax) {MathJax.Hub.Config({SVG: {font: \"STIX-Web\"}});}</script>                <script type=\"text/javascript\">window.PlotlyConfig = {MathJaxConfig: 'local'};</script>\n",
       "        <script src=\"https://cdn.plot.ly/plotly-2.8.3.min.js\"></script>                <div id=\"f8ef5a7d-6d36-4e7f-a11d-47297d8a5807\" class=\"plotly-graph-div\" style=\"height:400px; width:400px;\"></div>            <script type=\"text/javascript\">                                    window.PLOTLYENV=window.PLOTLYENV || {};                                    if (document.getElementById(\"f8ef5a7d-6d36-4e7f-a11d-47297d8a5807\")) {                    Plotly.newPlot(                        \"f8ef5a7d-6d36-4e7f-a11d-47297d8a5807\",                        [{\"domain\":{\"x\":[0.0,1.0],\"y\":[0.0,1.0]},\"hovertemplate\":\"label=%{label}<br>value=%{value}<extra></extra>\",\"labels\":[\"Positive\",\"Neutral\",\"Negative\"],\"legendgroup\":\"\",\"name\":\"\",\"showlegend\":true,\"values\":[5042,2978,1160],\"type\":\"pie\"}],                        {\"template\":{\"data\":{\"bar\":[{\"error_x\":{\"color\":\"#2a3f5f\"},\"error_y\":{\"color\":\"#2a3f5f\"},\"marker\":{\"line\":{\"color\":\"#E5ECF6\",\"width\":0.5},\"pattern\":{\"fillmode\":\"overlay\",\"size\":10,\"solidity\":0.2}},\"type\":\"bar\"}],\"barpolar\":[{\"marker\":{\"line\":{\"color\":\"#E5ECF6\",\"width\":0.5},\"pattern\":{\"fillmode\":\"overlay\",\"size\":10,\"solidity\":0.2}},\"type\":\"barpolar\"}],\"carpet\":[{\"aaxis\":{\"endlinecolor\":\"#2a3f5f\",\"gridcolor\":\"white\",\"linecolor\":\"white\",\"minorgridcolor\":\"white\",\"startlinecolor\":\"#2a3f5f\"},\"baxis\":{\"endlinecolor\":\"#2a3f5f\",\"gridcolor\":\"white\",\"linecolor\":\"white\",\"minorgridcolor\":\"white\",\"startlinecolor\":\"#2a3f5f\"},\"type\":\"carpet\"}],\"choropleth\":[{\"colorbar\":{\"outlinewidth\":0,\"ticks\":\"\"},\"type\":\"choropleth\"}],\"contour\":[{\"colorbar\":{\"outlinewidth\":0,\"ticks\":\"\"},\"colorscale\":[[0.0,\"#0d0887\"],[0.1111111111111111,\"#46039f\"],[0.2222222222222222,\"#7201a8\"],[0.3333333333333333,\"#9c179e\"],[0.4444444444444444,\"#bd3786\"],[0.5555555555555556,\"#d8576b\"],[0.6666666666666666,\"#ed7953\"],[0.7777777777777778,\"#fb9f3a\"],[0.8888888888888888,\"#fdca26\"],[1.0,\"#f0f921\"]],\"type\":\"contour\"}],\"contourcarpet\":[{\"colorbar\":{\"outlinewidth\":0,\"ticks\":\"\"},\"type\":\"contourcarpet\"}],\"heatmap\":[{\"colorbar\":{\"outlinewidth\":0,\"ticks\":\"\"},\"colorscale\":[[0.0,\"#0d0887\"],[0.1111111111111111,\"#46039f\"],[0.2222222222222222,\"#7201a8\"],[0.3333333333333333,\"#9c179e\"],[0.4444444444444444,\"#bd3786\"],[0.5555555555555556,\"#d8576b\"],[0.6666666666666666,\"#ed7953\"],[0.7777777777777778,\"#fb9f3a\"],[0.8888888888888888,\"#fdca26\"],[1.0,\"#f0f921\"]],\"type\":\"heatmap\"}],\"heatmapgl\":[{\"colorbar\":{\"outlinewidth\":0,\"ticks\":\"\"},\"colorscale\":[[0.0,\"#0d0887\"],[0.1111111111111111,\"#46039f\"],[0.2222222222222222,\"#7201a8\"],[0.3333333333333333,\"#9c179e\"],[0.4444444444444444,\"#bd3786\"],[0.5555555555555556,\"#d8576b\"],[0.6666666666666666,\"#ed7953\"],[0.7777777777777778,\"#fb9f3a\"],[0.8888888888888888,\"#fdca26\"],[1.0,\"#f0f921\"]],\"type\":\"heatmapgl\"}],\"histogram\":[{\"marker\":{\"pattern\":{\"fillmode\":\"overlay\",\"size\":10,\"solidity\":0.2}},\"type\":\"histogram\"}],\"histogram2d\":[{\"colorbar\":{\"outlinewidth\":0,\"ticks\":\"\"},\"colorscale\":[[0.0,\"#0d0887\"],[0.1111111111111111,\"#46039f\"],[0.2222222222222222,\"#7201a8\"],[0.3333333333333333,\"#9c179e\"],[0.4444444444444444,\"#bd3786\"],[0.5555555555555556,\"#d8576b\"],[0.6666666666666666,\"#ed7953\"],[0.7777777777777778,\"#fb9f3a\"],[0.8888888888888888,\"#fdca26\"],[1.0,\"#f0f921\"]],\"type\":\"histogram2d\"}],\"histogram2dcontour\":[{\"colorbar\":{\"outlinewidth\":0,\"ticks\":\"\"},\"colorscale\":[[0.0,\"#0d0887\"],[0.1111111111111111,\"#46039f\"],[0.2222222222222222,\"#7201a8\"],[0.3333333333333333,\"#9c179e\"],[0.4444444444444444,\"#bd3786\"],[0.5555555555555556,\"#d8576b\"],[0.6666666666666666,\"#ed7953\"],[0.7777777777777778,\"#fb9f3a\"],[0.8888888888888888,\"#fdca26\"],[1.0,\"#f0f921\"]],\"type\":\"histogram2dcontour\"}],\"mesh3d\":[{\"colorbar\":{\"outlinewidth\":0,\"ticks\":\"\"},\"type\":\"mesh3d\"}],\"parcoords\":[{\"line\":{\"colorbar\":{\"outlinewidth\":0,\"ticks\":\"\"}},\"type\":\"parcoords\"}],\"pie\":[{\"automargin\":true,\"type\":\"pie\"}],\"scatter\":[{\"marker\":{\"colorbar\":{\"outlinewidth\":0,\"ticks\":\"\"}},\"type\":\"scatter\"}],\"scatter3d\":[{\"line\":{\"colorbar\":{\"outlinewidth\":0,\"ticks\":\"\"}},\"marker\":{\"colorbar\":{\"outlinewidth\":0,\"ticks\":\"\"}},\"type\":\"scatter3d\"}],\"scattercarpet\":[{\"marker\":{\"colorbar\":{\"outlinewidth\":0,\"ticks\":\"\"}},\"type\":\"scattercarpet\"}],\"scattergeo\":[{\"marker\":{\"colorbar\":{\"outlinewidth\":0,\"ticks\":\"\"}},\"type\":\"scattergeo\"}],\"scattergl\":[{\"marker\":{\"colorbar\":{\"outlinewidth\":0,\"ticks\":\"\"}},\"type\":\"scattergl\"}],\"scattermapbox\":[{\"marker\":{\"colorbar\":{\"outlinewidth\":0,\"ticks\":\"\"}},\"type\":\"scattermapbox\"}],\"scatterpolar\":[{\"marker\":{\"colorbar\":{\"outlinewidth\":0,\"ticks\":\"\"}},\"type\":\"scatterpolar\"}],\"scatterpolargl\":[{\"marker\":{\"colorbar\":{\"outlinewidth\":0,\"ticks\":\"\"}},\"type\":\"scatterpolargl\"}],\"scatterternary\":[{\"marker\":{\"colorbar\":{\"outlinewidth\":0,\"ticks\":\"\"}},\"type\":\"scatterternary\"}],\"surface\":[{\"colorbar\":{\"outlinewidth\":0,\"ticks\":\"\"},\"colorscale\":[[0.0,\"#0d0887\"],[0.1111111111111111,\"#46039f\"],[0.2222222222222222,\"#7201a8\"],[0.3333333333333333,\"#9c179e\"],[0.4444444444444444,\"#bd3786\"],[0.5555555555555556,\"#d8576b\"],[0.6666666666666666,\"#ed7953\"],[0.7777777777777778,\"#fb9f3a\"],[0.8888888888888888,\"#fdca26\"],[1.0,\"#f0f921\"]],\"type\":\"surface\"}],\"table\":[{\"cells\":{\"fill\":{\"color\":\"#EBF0F8\"},\"line\":{\"color\":\"white\"}},\"header\":{\"fill\":{\"color\":\"#C8D4E3\"},\"line\":{\"color\":\"white\"}},\"type\":\"table\"}]},\"layout\":{\"annotationdefaults\":{\"arrowcolor\":\"#2a3f5f\",\"arrowhead\":0,\"arrowwidth\":1},\"autotypenumbers\":\"strict\",\"coloraxis\":{\"colorbar\":{\"outlinewidth\":0,\"ticks\":\"\"}},\"colorscale\":{\"diverging\":[[0,\"#8e0152\"],[0.1,\"#c51b7d\"],[0.2,\"#de77ae\"],[0.3,\"#f1b6da\"],[0.4,\"#fde0ef\"],[0.5,\"#f7f7f7\"],[0.6,\"#e6f5d0\"],[0.7,\"#b8e186\"],[0.8,\"#7fbc41\"],[0.9,\"#4d9221\"],[1,\"#276419\"]],\"sequential\":[[0.0,\"#0d0887\"],[0.1111111111111111,\"#46039f\"],[0.2222222222222222,\"#7201a8\"],[0.3333333333333333,\"#9c179e\"],[0.4444444444444444,\"#bd3786\"],[0.5555555555555556,\"#d8576b\"],[0.6666666666666666,\"#ed7953\"],[0.7777777777777778,\"#fb9f3a\"],[0.8888888888888888,\"#fdca26\"],[1.0,\"#f0f921\"]],\"sequentialminus\":[[0.0,\"#0d0887\"],[0.1111111111111111,\"#46039f\"],[0.2222222222222222,\"#7201a8\"],[0.3333333333333333,\"#9c179e\"],[0.4444444444444444,\"#bd3786\"],[0.5555555555555556,\"#d8576b\"],[0.6666666666666666,\"#ed7953\"],[0.7777777777777778,\"#fb9f3a\"],[0.8888888888888888,\"#fdca26\"],[1.0,\"#f0f921\"]]},\"colorway\":[\"#636efa\",\"#EF553B\",\"#00cc96\",\"#ab63fa\",\"#FFA15A\",\"#19d3f3\",\"#FF6692\",\"#B6E880\",\"#FF97FF\",\"#FECB52\"],\"font\":{\"color\":\"#2a3f5f\"},\"geo\":{\"bgcolor\":\"white\",\"lakecolor\":\"white\",\"landcolor\":\"#E5ECF6\",\"showlakes\":true,\"showland\":true,\"subunitcolor\":\"white\"},\"hoverlabel\":{\"align\":\"left\"},\"hovermode\":\"closest\",\"mapbox\":{\"style\":\"light\"},\"paper_bgcolor\":\"white\",\"plot_bgcolor\":\"#E5ECF6\",\"polar\":{\"angularaxis\":{\"gridcolor\":\"white\",\"linecolor\":\"white\",\"ticks\":\"\"},\"bgcolor\":\"#E5ECF6\",\"radialaxis\":{\"gridcolor\":\"white\",\"linecolor\":\"white\",\"ticks\":\"\"}},\"scene\":{\"xaxis\":{\"backgroundcolor\":\"#E5ECF6\",\"gridcolor\":\"white\",\"gridwidth\":2,\"linecolor\":\"white\",\"showbackground\":true,\"ticks\":\"\",\"zerolinecolor\":\"white\"},\"yaxis\":{\"backgroundcolor\":\"#E5ECF6\",\"gridcolor\":\"white\",\"gridwidth\":2,\"linecolor\":\"white\",\"showbackground\":true,\"ticks\":\"\",\"zerolinecolor\":\"white\"},\"zaxis\":{\"backgroundcolor\":\"#E5ECF6\",\"gridcolor\":\"white\",\"gridwidth\":2,\"linecolor\":\"white\",\"showbackground\":true,\"ticks\":\"\",\"zerolinecolor\":\"white\"}},\"shapedefaults\":{\"line\":{\"color\":\"#2a3f5f\"}},\"ternary\":{\"aaxis\":{\"gridcolor\":\"white\",\"linecolor\":\"white\",\"ticks\":\"\"},\"baxis\":{\"gridcolor\":\"white\",\"linecolor\":\"white\",\"ticks\":\"\"},\"bgcolor\":\"#E5ECF6\",\"caxis\":{\"gridcolor\":\"white\",\"linecolor\":\"white\",\"ticks\":\"\"}},\"title\":{\"x\":0.05},\"xaxis\":{\"automargin\":true,\"gridcolor\":\"white\",\"linecolor\":\"white\",\"ticks\":\"\",\"title\":{\"standoff\":15},\"zerolinecolor\":\"white\",\"zerolinewidth\":2},\"yaxis\":{\"automargin\":true,\"gridcolor\":\"white\",\"linecolor\":\"white\",\"ticks\":\"\",\"title\":{\"standoff\":15},\"zerolinecolor\":\"white\",\"zerolinewidth\":2}}},\"legend\":{\"tracegroupgap\":0},\"title\":{\"text\":\"Sentiments across reviews\"},\"height\":400,\"width\":400},                        {\"responsive\": true}                    ).then(function(){\n",
       "                            \n",
       "var gd = document.getElementById('f8ef5a7d-6d36-4e7f-a11d-47297d8a5807');\n",
       "var x = new MutationObserver(function (mutations, observer) {{\n",
       "        var display = window.getComputedStyle(gd).display;\n",
       "        if (!display || display === 'none') {{\n",
       "            console.log([gd, 'removed!']);\n",
       "            Plotly.purge(gd);\n",
       "            observer.disconnect();\n",
       "        }}\n",
       "}});\n",
       "\n",
       "// Listen for the removal of the full notebook cells\n",
       "var notebookContainer = gd.closest('#notebook-container');\n",
       "if (notebookContainer) {{\n",
       "    x.observe(notebookContainer, {childList: true});\n",
       "}}\n",
       "\n",
       "// Listen for the clearing of the current output cell\n",
       "var outputEl = gd.closest('.output');\n",
       "if (outputEl) {{\n",
       "    x.observe(outputEl, {childList: true});\n",
       "}}\n",
       "\n",
       "                        })                };                            </script>        </div>\n",
       "</body>\n",
       "</html>"
      ]
     },
     "metadata": {},
     "output_type": "display_data"
    },
    {
     "data": {
      "image/png": "[encoded data removed]",
      "text/plain": [
       "<Figure size 1008x360 with 1 Axes>"
      ]
     },
     "metadata": {
      "needs_background": "light"
     },
     "output_type": "display_data"
    }
   ],
   "source": [
    "plt.figure(figsize=(14, 5))\n",
    "sns.lineplot(x=\"Date\", y=\"Score\", data=final_train, hue=\"Sentiment\", palette=\"Dark2\")\n",
    "\n",
    "fig = px.pie(final_train, values= list(dict(final_train[\"Sentiment\"].value_counts()).values()),\n",
    "             names=list(dict(final_train[\"Sentiment\"].value_counts()).keys()), \n",
    "             title='Sentiments across reviews', width = 400, height = 400)\n",
    "fig.show()"
   ]
  },
  {
   "cell_type": "markdown",
   "id": "2c0013dc",
   "metadata": {
    "id": "2c0013dc"
   },
   "source": [
    "# Basic Feature Visualization:"
   ]
  },
  {
   "cell_type": "code",
   "execution_count": 228,
   "id": "2d8a33a2",
   "metadata": {
    "colab": {
     "base_uri": "https://localhost:8080/",
     "height": 112
    },
    "id": "2d8a33a2",
    "outputId": "49e64e42-296c-4dc1-881b-537aa5d122d8"
   },
   "outputs": [
    {
     "data": {
      "text/html": [
       "\n",
       "  <div id=\"df-37f835d6-72c6-4040-b3ed-3f1b2e762143\">\n",
       "    <div class=\"colab-df-container\">\n",
       "      <div>\n",
       "<style scoped>\n",
       "    .dataframe tbody tr th:only-of-type {\n",
       "        vertical-align: middle;\n",
       "    }\n",
       "\n",
       "    .dataframe tbody tr th {\n",
       "        vertical-align: top;\n",
       "    }\n",
       "\n",
       "    .dataframe thead th {\n",
       "        text-align: right;\n",
       "    }\n",
       "</style>\n",
       "<table border=\"1\" class=\"dataframe\">\n",
       "  <thead>\n",
       "    <tr style=\"text-align: right;\">\n",
       "      <th></th>\n",
       "      <th>Date</th>\n",
       "      <th>Review</th>\n",
       "      <th>Aspect</th>\n",
       "      <th>Description</th>\n",
       "      <th>Sentiment</th>\n",
       "      <th>Score</th>\n",
       "      <th>Year</th>\n",
       "      <th>Month</th>\n",
       "      <th>Week</th>\n",
       "      <th>char_count</th>\n",
       "      <th>word_count</th>\n",
       "      <th>unique_word_count</th>\n",
       "      <th>avg_wordlength</th>\n",
       "      <th>unique_vs_words</th>\n",
       "    </tr>\n",
       "  </thead>\n",
       "  <tbody>\n",
       "    <tr>\n",
       "      <th>0</th>\n",
       "      <td>2019-09-30</td>\n",
       "      <td>must try slow motion selfie</td>\n",
       "      <td>selfie</td>\n",
       "      <td>slow</td>\n",
       "      <td>Neutral</td>\n",
       "      <td>0.0000</td>\n",
       "      <td>2019</td>\n",
       "      <td>9</td>\n",
       "      <td>40</td>\n",
       "      <td>27</td>\n",
       "      <td>5</td>\n",
       "      <td>5</td>\n",
       "      <td>5.40</td>\n",
       "      <td>1.0</td>\n",
       "    </tr>\n",
       "    <tr>\n",
       "      <th>1</th>\n",
       "      <td>2019-09-30</td>\n",
       "      <td>must say really impressed</td>\n",
       "      <td>neutral</td>\n",
       "      <td>neutral</td>\n",
       "      <td>Positive</td>\n",
       "      <td>0.5256</td>\n",
       "      <td>2019</td>\n",
       "      <td>9</td>\n",
       "      <td>40</td>\n",
       "      <td>25</td>\n",
       "      <td>4</td>\n",
       "      <td>4</td>\n",
       "      <td>6.25</td>\n",
       "      <td>1.0</td>\n",
       "    </tr>\n",
       "  </tbody>\n",
       "</table>\n",
       "</div>\n",
       "      <button class=\"colab-df-convert\" onclick=\"convertToInteractive('df-37f835d6-72c6-4040-b3ed-3f1b2e762143')\"\n",
       "              title=\"Convert this dataframe to an interactive table.\"\n",
       "              style=\"display:none;\">\n",
       "        \n",
       "  <svg xmlns=\"http://www.w3.org/2000/svg\" height=\"24px\"viewBox=\"0 0 24 24\"\n",
       "       width=\"24px\">\n",
       "    <path d=\"M0 0h24v24H0V0z\" fill=\"none\"/>\n",
       "    <path d=\"M18.56 5.44l.94 2.06.94-2.06 2.06-.94-2.06-.94-.94-2.06-.94 2.06-2.06.94zm-11 1L8.5 8.5l.94-2.06 2.06-.94-2.06-.94L8.5 2.5l-.94 2.06-2.06.94zm10 10l.94 2.06.94-2.06 2.06-.94-2.06-.94-.94-2.06-.94 2.06-2.06.94z\"/><path d=\"M17.41 7.96l-1.37-1.37c-.4-.4-.92-.59-1.43-.59-.52 0-1.04.2-1.43.59L10.3 9.45l-7.72 7.72c-.78.78-.78 2.05 0 2.83L4 21.41c.39.39.9.59 1.41.59.51 0 1.02-.2 1.41-.59l7.78-7.78 2.81-2.81c.8-.78.8-2.07 0-2.86zM5.41 20L4 18.59l7.72-7.72 1.47 1.35L5.41 20z\"/>\n",
       "  </svg>\n",
       "      </button>\n",
       "      \n",
       "  <style>\n",
       "    .colab-df-container {\n",
       "      display:flex;\n",
       "      flex-wrap:wrap;\n",
       "      gap: 12px;\n",
       "    }\n",
       "\n",
       "    .colab-df-convert {\n",
       "      background-color: #E8F0FE;\n",
       "      border: none;\n",
       "      border-radius: 50%;\n",
       "      cursor: pointer;\n",
       "      display: none;\n",
       "      fill: #1967D2;\n",
       "      height: 32px;\n",
       "      padding: 0 0 0 0;\n",
       "      width: 32px;\n",
       "    }\n",
       "\n",
       "    .colab-df-convert:hover {\n",
       "      background-color: #E2EBFA;\n",
       "      box-shadow: 0px 1px 2px rgba(60, 64, 67, 0.3), 0px 1px 3px 1px rgba(60, 64, 67, 0.15);\n",
       "      fill: #174EA6;\n",
       "    }\n",
       "\n",
       "    [theme=dark] .colab-df-convert {\n",
       "      background-color: #3B4455;\n",
       "      fill: #D2E3FC;\n",
       "    }\n",
       "\n",
       "    [theme=dark] .colab-df-convert:hover {\n",
       "      background-color: #434B5C;\n",
       "      box-shadow: 0px 1px 3px 1px rgba(0, 0, 0, 0.15);\n",
       "      filter: drop-shadow(0px 1px 2px rgba(0, 0, 0, 0.3));\n",
       "      fill: #FFFFFF;\n",
       "    }\n",
       "  </style>\n",
       "\n",
       "      <script>\n",
       "        const buttonEl =\n",
       "          document.querySelector('#df-37f835d6-72c6-4040-b3ed-3f1b2e762143 button.colab-df-convert');\n",
       "        buttonEl.style.display =\n",
       "          google.colab.kernel.accessAllowed ? 'block' : 'none';\n",
       "\n",
       "        async function convertToInteractive(key) {\n",
       "          const element = document.querySelector('#df-37f835d6-72c6-4040-b3ed-3f1b2e762143');\n",
       "          const dataTable =\n",
       "            await google.colab.kernel.invokeFunction('convertToInteractive',\n",
       "                                                     [key], {});\n",
       "          if (!dataTable) return;\n",
       "\n",
       "          const docLinkHtml = 'Like what you see? Visit the ' +\n",
       "            '<a target=\"_blank\" href=https://colab.research.google.com/notebooks/data_table.ipynb>data table notebook</a>'\n",
       "            + ' to learn more about interactive tables.';\n",
       "          element.innerHTML = '';\n",
       "          dataTable['output_type'] = 'display_data';\n",
       "          await google.colab.output.renderOutput(dataTable, element);\n",
       "          const docLink = document.createElement('div');\n",
       "          docLink.innerHTML = docLinkHtml;\n",
       "          element.appendChild(docLink);\n",
       "        }\n",
       "      </script>\n",
       "    </div>\n",
       "  </div>\n",
       "  "
      ],
      "text/plain": [
       "        Date                       Review   Aspect Description Sentiment  \\\n",
       "0 2019-09-30  must try slow motion selfie   selfie        slow   Neutral   \n",
       "1 2019-09-30    must say really impressed  neutral     neutral  Positive   \n",
       "\n",
       "    Score  Year  Month  Week  char_count  word_count  unique_word_count  \\\n",
       "0  0.0000  2019      9    40          27           5                  5   \n",
       "1  0.5256  2019      9    40          25           4                  4   \n",
       "\n",
       "   avg_wordlength  unique_vs_words  \n",
       "0            5.40              1.0  \n",
       "1            6.25              1.0  "
      ]
     },
     "execution_count": 228,
     "metadata": {},
     "output_type": "execute_result"
    }
   ],
   "source": [
    "final_train.head(2)"
   ]
  },
  {
   "cell_type": "code",
   "execution_count": 229,
   "id": "9e0dfa63",
   "metadata": {
    "id": "9e0dfa63"
   },
   "outputs": [],
   "source": [
    "def basic_feature_plots(target,feature,data):\n",
    "    \"\"\"\n",
    "    This function helps to plot distributio of featuers and shows the target class\n",
    "    \n",
    "    \"\"\"\n",
    "    plt.figure(figsize=(12, 6))\n",
    "\n",
    "    plt.subplot(1,2,1)\n",
    "    sns.violinplot(x = target, y = feature, data = data)\n",
    "\n",
    "    plt.subplot(1,2,2)\n",
    "    sns.kdeplot(data[data[target] == \"Positive\"][feature] , label = \"Positive\", color = 'green')\n",
    "    sns.kdeplot(data[data[target] == \"Negative\"][feature] , label = \"Negative\" , color = 'red')\n",
    "    sns.kdeplot(data[data[target] == \"Neutral\"][feature] , label = \"Neutral\" , color = 'blue')\n",
    "    plt.legend()\n"
   ]
  },
  {
   "cell_type": "code",
   "execution_count": 230,
   "id": "2a1a7e69",
   "metadata": {
    "colab": {
     "base_uri": "https://localhost:8080/",
     "height": 389
    },
    "id": "2a1a7e69",
    "outputId": "492d5f53-8019-4587-d174-e311d8c7a74a"
   },
   "outputs": [
    {
     "data": {
      "image/png": "[encoded data removed]",
      "text/plain": [
       "<Figure size 864x432 with 2 Axes>"
      ]
     },
     "metadata": {
      "needs_background": "light"
     },
     "output_type": "display_data"
    }
   ],
   "source": [
    "basic_feature_plots(\"Sentiment\",\"char_count\",final_train)"
   ]
  },
  {
   "cell_type": "code",
   "execution_count": 231,
   "id": "53d42977",
   "metadata": {
    "colab": {
     "base_uri": "https://localhost:8080/",
     "height": 389
    },
    "id": "53d42977",
    "outputId": "8afa971a-27fd-4c0e-9a19-7d4ac3d8bdac"
   },
   "outputs": [
    {
     "data": {
      "image/png": "[encoded data removed]",
      "text/plain": [
       "<Figure size 864x432 with 2 Axes>"
      ]
     },
     "metadata": {
      "needs_background": "light"
     },
     "output_type": "display_data"
    }
   ],
   "source": [
    "basic_feature_plots(\"Sentiment\",\"word_count\",final_train)"
   ]
  },
  {
   "cell_type": "code",
   "execution_count": 232,
   "id": "3d715662",
   "metadata": {
    "colab": {
     "base_uri": "https://localhost:8080/",
     "height": 389
    },
    "id": "3d715662",
    "outputId": "77f6744b-a913-43e3-e67c-5c72d637cce2"
   },
   "outputs": [
    {
     "data": {
      "image/png": "[encoded data removed]",
      "text/plain": [
       "<Figure size 864x432 with 2 Axes>"
      ]
     },
     "metadata": {
      "needs_background": "light"
     },
     "output_type": "display_data"
    }
   ],
   "source": [
    "basic_feature_plots(\"Sentiment\",\"unique_word_count\",final_train)"
   ]
  },
  {
   "cell_type": "code",
   "execution_count": 233,
   "id": "dba05a4a",
   "metadata": {
    "colab": {
     "base_uri": "https://localhost:8080/",
     "height": 389
    },
    "id": "dba05a4a",
    "outputId": "8c8f13c3-44dc-45e6-8c61-43f68c0c007a"
   },
   "outputs": [
    {
     "data": {
      "image/png": "[encoded data removed]",
      "text/plain": [
       "<Figure size 864x432 with 2 Axes>"
      ]
     },
     "metadata": {
      "needs_background": "light"
     },
     "output_type": "display_data"
    }
   ],
   "source": [
    "basic_feature_plots(\"Sentiment\",\"avg_wordlength\",final_train)  "
   ]
  },
  {
   "cell_type": "code",
   "execution_count": 234,
   "id": "57a2eee5",
   "metadata": {
    "colab": {
     "base_uri": "https://localhost:8080/",
     "height": 389
    },
    "id": "57a2eee5",
    "outputId": "bc675275-33a8-4a31-d0e5-cf45ab8eacab"
   },
   "outputs": [
    {
     "data": {
      "image/png": "[encoded data removed]",
      "text/plain": [
       "<Figure size 864x432 with 2 Axes>"
      ]
     },
     "metadata": {
      "needs_background": "light"
     },
     "output_type": "display_data"
    }
   ],
   "source": [
    "basic_feature_plots(\"Sentiment\",\"unique_vs_words\",final_train)"
   ]
  },
  {
   "cell_type": "markdown",
   "id": "842a8ab7",
   "metadata": {
    "id": "842a8ab7"
   },
   "source": [
    "# Aspect based sentiments:"
   ]
  },
  {
   "cell_type": "code",
   "execution_count": 235,
   "id": "c8b17d6a",
   "metadata": {
    "id": "c8b17d6a"
   },
   "outputs": [],
   "source": [
    "def aspect_plots(data,col_name,aspect_name):\n",
    "    \"\"\"\n",
    "    For a given aspect, this function plots the pie chart and line plot \n",
    "    \n",
    "    \"\"\"\n",
    "    s1 = data.groupby(by = col_name)\n",
    "    s2 = s1.get_group(aspect_name)\n",
    "    plt.figure(figsize=(14, 5))\n",
    "    plt.title(\"Sentiment for {} acorss a time period\".format(aspect_name))\n",
    "    sns.lineplot(x=\"Date\", y=\"Score\", data=s2, hue=\"Sentiment\", palette=\"Dark2\")\n",
    "\n",
    "    fig = px.pie(s2, values= list(dict(s2[\"Sentiment\"].value_counts()).values()),\n",
    "             names=list(dict(s2[\"Sentiment\"].value_counts()).keys()), title = (\"Sentiment for {}\".format(aspect_name)),\n",
    "            width = 400, height = 400)\n",
    "    fig.show()"
   ]
  },
  {
   "cell_type": "code",
   "execution_count": 236,
   "id": "9df43687",
   "metadata": {
    "id": "9df43687"
   },
   "outputs": [],
   "source": [
    "data = final_train\n",
    "col_name = \"Aspect\"\n",
    "aspect_name = \"display\""
   ]
  },
  {
   "cell_type": "code",
   "execution_count": 237,
   "id": "ef927386",
   "metadata": {
    "colab": {
     "base_uri": "https://localhost:8080/",
     "height": 750
    },
    "id": "ef927386",
    "outputId": "480eb41e-c337-4a69-a093-c2ac153219aa"
   },
   "outputs": [
    {
     "data": {
      "text/html": [
       "<html>\n",
       "<head><meta charset=\"utf-8\" /></head>\n",
       "<body>\n",
       "    <div>            <script src=\"https://cdnjs.cloudflare.com/ajax/libs/mathjax/2.7.5/MathJax.js?config=TeX-AMS-MML_SVG\"></script><script type=\"text/javascript\">if (window.MathJax) {MathJax.Hub.Config({SVG: {font: \"STIX-Web\"}});}</script>                <script type=\"text/javascript\">window.PlotlyConfig = {MathJaxConfig: 'local'};</script>\n",
       "        <script src=\"https://cdn.plot.ly/plotly-2.8.3.min.js\"></script>                <div id=\"18673e70-0879-44b0-98db-6597eba683f1\" class=\"plotly-graph-div\" style=\"height:400px; width:400px;\"></div>            <script type=\"text/javascript\">                                    window.PLOTLYENV=window.PLOTLYENV || {};                                    if (document.getElementById(\"18673e70-0879-44b0-98db-6597eba683f1\")) {                    Plotly.newPlot(                        \"18673e70-0879-44b0-98db-6597eba683f1\",                        [{\"domain\":{\"x\":[0.0,1.0],\"y\":[0.0,1.0]},\"hovertemplate\":\"label=%{label}<br>value=%{value}<extra></extra>\",\"labels\":[\"Positive\",\"Negative\",\"Neutral\"],\"legendgroup\":\"\",\"name\":\"\",\"showlegend\":true,\"values\":[45,16,9],\"type\":\"pie\"}],                        {\"template\":{\"data\":{\"bar\":[{\"error_x\":{\"color\":\"#2a3f5f\"},\"error_y\":{\"color\":\"#2a3f5f\"},\"marker\":{\"line\":{\"color\":\"#E5ECF6\",\"width\":0.5},\"pattern\":{\"fillmode\":\"overlay\",\"size\":10,\"solidity\":0.2}},\"type\":\"bar\"}],\"barpolar\":[{\"marker\":{\"line\":{\"color\":\"#E5ECF6\",\"width\":0.5},\"pattern\":{\"fillmode\":\"overlay\",\"size\":10,\"solidity\":0.2}},\"type\":\"barpolar\"}],\"carpet\":[{\"aaxis\":{\"endlinecolor\":\"#2a3f5f\",\"gridcolor\":\"white\",\"linecolor\":\"white\",\"minorgridcolor\":\"white\",\"startlinecolor\":\"#2a3f5f\"},\"baxis\":{\"endlinecolor\":\"#2a3f5f\",\"gridcolor\":\"white\",\"linecolor\":\"white\",\"minorgridcolor\":\"white\",\"startlinecolor\":\"#2a3f5f\"},\"type\":\"carpet\"}],\"choropleth\":[{\"colorbar\":{\"outlinewidth\":0,\"ticks\":\"\"},\"type\":\"choropleth\"}],\"contour\":[{\"colorbar\":{\"outlinewidth\":0,\"ticks\":\"\"},\"colorscale\":[[0.0,\"#0d0887\"],[0.1111111111111111,\"#46039f\"],[0.2222222222222222,\"#7201a8\"],[0.3333333333333333,\"#9c179e\"],[0.4444444444444444,\"#bd3786\"],[0.5555555555555556,\"#d8576b\"],[0.6666666666666666,\"#ed7953\"],[0.7777777777777778,\"#fb9f3a\"],[0.8888888888888888,\"#fdca26\"],[1.0,\"#f0f921\"]],\"type\":\"contour\"}],\"contourcarpet\":[{\"colorbar\":{\"outlinewidth\":0,\"ticks\":\"\"},\"type\":\"contourcarpet\"}],\"heatmap\":[{\"colorbar\":{\"outlinewidth\":0,\"ticks\":\"\"},\"colorscale\":[[0.0,\"#0d0887\"],[0.1111111111111111,\"#46039f\"],[0.2222222222222222,\"#7201a8\"],[0.3333333333333333,\"#9c179e\"],[0.4444444444444444,\"#bd3786\"],[0.5555555555555556,\"#d8576b\"],[0.6666666666666666,\"#ed7953\"],[0.7777777777777778,\"#fb9f3a\"],[0.8888888888888888,\"#fdca26\"],[1.0,\"#f0f921\"]],\"type\":\"heatmap\"}],\"heatmapgl\":[{\"colorbar\":{\"outlinewidth\":0,\"ticks\":\"\"},\"colorscale\":[[0.0,\"#0d0887\"],[0.1111111111111111,\"#46039f\"],[0.2222222222222222,\"#7201a8\"],[0.3333333333333333,\"#9c179e\"],[0.4444444444444444,\"#bd3786\"],[0.5555555555555556,\"#d8576b\"],[0.6666666666666666,\"#ed7953\"],[0.7777777777777778,\"#fb9f3a\"],[0.8888888888888888,\"#fdca26\"],[1.0,\"#f0f921\"]],\"type\":\"heatmapgl\"}],\"histogram\":[{\"marker\":{\"pattern\":{\"fillmode\":\"overlay\",\"size\":10,\"solidity\":0.2}},\"type\":\"histogram\"}],\"histogram2d\":[{\"colorbar\":{\"outlinewidth\":0,\"ticks\":\"\"},\"colorscale\":[[0.0,\"#0d0887\"],[0.1111111111111111,\"#46039f\"],[0.2222222222222222,\"#7201a8\"],[0.3333333333333333,\"#9c179e\"],[0.4444444444444444,\"#bd3786\"],[0.5555555555555556,\"#d8576b\"],[0.6666666666666666,\"#ed7953\"],[0.7777777777777778,\"#fb9f3a\"],[0.8888888888888888,\"#fdca26\"],[1.0,\"#f0f921\"]],\"type\":\"histogram2d\"}],\"histogram2dcontour\":[{\"colorbar\":{\"outlinewidth\":0,\"ticks\":\"\"},\"colorscale\":[[0.0,\"#0d0887\"],[0.1111111111111111,\"#46039f\"],[0.2222222222222222,\"#7201a8\"],[0.3333333333333333,\"#9c179e\"],[0.4444444444444444,\"#bd3786\"],[0.5555555555555556,\"#d8576b\"],[0.6666666666666666,\"#ed7953\"],[0.7777777777777778,\"#fb9f3a\"],[0.8888888888888888,\"#fdca26\"],[1.0,\"#f0f921\"]],\"type\":\"histogram2dcontour\"}],\"mesh3d\":[{\"colorbar\":{\"outlinewidth\":0,\"ticks\":\"\"},\"type\":\"mesh3d\"}],\"parcoords\":[{\"line\":{\"colorbar\":{\"outlinewidth\":0,\"ticks\":\"\"}},\"type\":\"parcoords\"}],\"pie\":[{\"automargin\":true,\"type\":\"pie\"}],\"scatter\":[{\"marker\":{\"colorbar\":{\"outlinewidth\":0,\"ticks\":\"\"}},\"type\":\"scatter\"}],\"scatter3d\":[{\"line\":{\"colorbar\":{\"outlinewidth\":0,\"ticks\":\"\"}},\"marker\":{\"colorbar\":{\"outlinewidth\":0,\"ticks\":\"\"}},\"type\":\"scatter3d\"}],\"scattercarpet\":[{\"marker\":{\"colorbar\":{\"outlinewidth\":0,\"ticks\":\"\"}},\"type\":\"scattercarpet\"}],\"scattergeo\":[{\"marker\":{\"colorbar\":{\"outlinewidth\":0,\"ticks\":\"\"}},\"type\":\"scattergeo\"}],\"scattergl\":[{\"marker\":{\"colorbar\":{\"outlinewidth\":0,\"ticks\":\"\"}},\"type\":\"scattergl\"}],\"scattermapbox\":[{\"marker\":{\"colorbar\":{\"outlinewidth\":0,\"ticks\":\"\"}},\"type\":\"scattermapbox\"}],\"scatterpolar\":[{\"marker\":{\"colorbar\":{\"outlinewidth\":0,\"ticks\":\"\"}},\"type\":\"scatterpolar\"}],\"scatterpolargl\":[{\"marker\":{\"colorbar\":{\"outlinewidth\":0,\"ticks\":\"\"}},\"type\":\"scatterpolargl\"}],\"scatterternary\":[{\"marker\":{\"colorbar\":{\"outlinewidth\":0,\"ticks\":\"\"}},\"type\":\"scatterternary\"}],\"surface\":[{\"colorbar\":{\"outlinewidth\":0,\"ticks\":\"\"},\"colorscale\":[[0.0,\"#0d0887\"],[0.1111111111111111,\"#46039f\"],[0.2222222222222222,\"#7201a8\"],[0.3333333333333333,\"#9c179e\"],[0.4444444444444444,\"#bd3786\"],[0.5555555555555556,\"#d8576b\"],[0.6666666666666666,\"#ed7953\"],[0.7777777777777778,\"#fb9f3a\"],[0.8888888888888888,\"#fdca26\"],[1.0,\"#f0f921\"]],\"type\":\"surface\"}],\"table\":[{\"cells\":{\"fill\":{\"color\":\"#EBF0F8\"},\"line\":{\"color\":\"white\"}},\"header\":{\"fill\":{\"color\":\"#C8D4E3\"},\"line\":{\"color\":\"white\"}},\"type\":\"table\"}]},\"layout\":{\"annotationdefaults\":{\"arrowcolor\":\"#2a3f5f\",\"arrowhead\":0,\"arrowwidth\":1},\"autotypenumbers\":\"strict\",\"coloraxis\":{\"colorbar\":{\"outlinewidth\":0,\"ticks\":\"\"}},\"colorscale\":{\"diverging\":[[0,\"#8e0152\"],[0.1,\"#c51b7d\"],[0.2,\"#de77ae\"],[0.3,\"#f1b6da\"],[0.4,\"#fde0ef\"],[0.5,\"#f7f7f7\"],[0.6,\"#e6f5d0\"],[0.7,\"#b8e186\"],[0.8,\"#7fbc41\"],[0.9,\"#4d9221\"],[1,\"#276419\"]],\"sequential\":[[0.0,\"#0d0887\"],[0.1111111111111111,\"#46039f\"],[0.2222222222222222,\"#7201a8\"],[0.3333333333333333,\"#9c179e\"],[0.4444444444444444,\"#bd3786\"],[0.5555555555555556,\"#d8576b\"],[0.6666666666666666,\"#ed7953\"],[0.7777777777777778,\"#fb9f3a\"],[0.8888888888888888,\"#fdca26\"],[1.0,\"#f0f921\"]],\"sequentialminus\":[[0.0,\"#0d0887\"],[0.1111111111111111,\"#46039f\"],[0.2222222222222222,\"#7201a8\"],[0.3333333333333333,\"#9c179e\"],[0.4444444444444444,\"#bd3786\"],[0.5555555555555556,\"#d8576b\"],[0.6666666666666666,\"#ed7953\"],[0.7777777777777778,\"#fb9f3a\"],[0.8888888888888888,\"#fdca26\"],[1.0,\"#f0f921\"]]},\"colorway\":[\"#636efa\",\"#EF553B\",\"#00cc96\",\"#ab63fa\",\"#FFA15A\",\"#19d3f3\",\"#FF6692\",\"#B6E880\",\"#FF97FF\",\"#FECB52\"],\"font\":{\"color\":\"#2a3f5f\"},\"geo\":{\"bgcolor\":\"white\",\"lakecolor\":\"white\",\"landcolor\":\"#E5ECF6\",\"showlakes\":true,\"showland\":true,\"subunitcolor\":\"white\"},\"hoverlabel\":{\"align\":\"left\"},\"hovermode\":\"closest\",\"mapbox\":{\"style\":\"light\"},\"paper_bgcolor\":\"white\",\"plot_bgcolor\":\"#E5ECF6\",\"polar\":{\"angularaxis\":{\"gridcolor\":\"white\",\"linecolor\":\"white\",\"ticks\":\"\"},\"bgcolor\":\"#E5ECF6\",\"radialaxis\":{\"gridcolor\":\"white\",\"linecolor\":\"white\",\"ticks\":\"\"}},\"scene\":{\"xaxis\":{\"backgroundcolor\":\"#E5ECF6\",\"gridcolor\":\"white\",\"gridwidth\":2,\"linecolor\":\"white\",\"showbackground\":true,\"ticks\":\"\",\"zerolinecolor\":\"white\"},\"yaxis\":{\"backgroundcolor\":\"#E5ECF6\",\"gridcolor\":\"white\",\"gridwidth\":2,\"linecolor\":\"white\",\"showbackground\":true,\"ticks\":\"\",\"zerolinecolor\":\"white\"},\"zaxis\":{\"backgroundcolor\":\"#E5ECF6\",\"gridcolor\":\"white\",\"gridwidth\":2,\"linecolor\":\"white\",\"showbackground\":true,\"ticks\":\"\",\"zerolinecolor\":\"white\"}},\"shapedefaults\":{\"line\":{\"color\":\"#2a3f5f\"}},\"ternary\":{\"aaxis\":{\"gridcolor\":\"white\",\"linecolor\":\"white\",\"ticks\":\"\"},\"baxis\":{\"gridcolor\":\"white\",\"linecolor\":\"white\",\"ticks\":\"\"},\"bgcolor\":\"#E5ECF6\",\"caxis\":{\"gridcolor\":\"white\",\"linecolor\":\"white\",\"ticks\":\"\"}},\"title\":{\"x\":0.05},\"xaxis\":{\"automargin\":true,\"gridcolor\":\"white\",\"linecolor\":\"white\",\"ticks\":\"\",\"title\":{\"standoff\":15},\"zerolinecolor\":\"white\",\"zerolinewidth\":2},\"yaxis\":{\"automargin\":true,\"gridcolor\":\"white\",\"linecolor\":\"white\",\"ticks\":\"\",\"title\":{\"standoff\":15},\"zerolinecolor\":\"white\",\"zerolinewidth\":2}}},\"legend\":{\"tracegroupgap\":0},\"title\":{\"text\":\"Sentiment for display\"},\"height\":400,\"width\":400},                        {\"responsive\": true}                    ).then(function(){\n",
       "                            \n",
       "var gd = document.getElementById('18673e70-0879-44b0-98db-6597eba683f1');\n",
       "var x = new MutationObserver(function (mutations, observer) {{\n",
       "        var display = window.getComputedStyle(gd).display;\n",
       "        if (!display || display === 'none') {{\n",
       "            console.log([gd, 'removed!']);\n",
       "            Plotly.purge(gd);\n",
       "            observer.disconnect();\n",
       "        }}\n",
       "}});\n",
       "\n",
       "// Listen for the removal of the full notebook cells\n",
       "var notebookContainer = gd.closest('#notebook-container');\n",
       "if (notebookContainer) {{\n",
       "    x.observe(notebookContainer, {childList: true});\n",
       "}}\n",
       "\n",
       "// Listen for the clearing of the current output cell\n",
       "var outputEl = gd.closest('.output');\n",
       "if (outputEl) {{\n",
       "    x.observe(outputEl, {childList: true});\n",
       "}}\n",
       "\n",
       "                        })                };                            </script>        </div>\n",
       "</body>\n",
       "</html>"
      ]
     },
     "metadata": {},
     "output_type": "display_data"
    },
    {
     "data": {
      "image/png": "[encoded data removed]",
      "text/plain": [
       "<Figure size 1008x360 with 1 Axes>"
      ]
     },
     "metadata": {
      "needs_background": "light"
     },
     "output_type": "display_data"
    }
   ],
   "source": [
    "aspect_plots(data,col_name,aspect_name)"
   ]
  },
  {
   "cell_type": "code",
   "execution_count": 238,
   "id": "2858a9e5",
   "metadata": {
    "id": "2858a9e5"
   },
   "outputs": [],
   "source": [
    "def display_reviews(data,aspect_name):\n",
    "    \"\"\"\n",
    "    This function helps us to see the reviews which talk about a particular aspect\n",
    "    \n",
    "    \"\"\"\n",
    "    face = [x for x,value in enumerate(data['Review'].values) if aspect_name in value]\n",
    "\n",
    "    get_reviews =[data['Review'].values[k] for k in face]\n",
    "    get_sentiments = [data['Sentiment'].values[k] for k in face]\n",
    "\n",
    "    data = pd.DataFrame({\"Review\" : get_reviews, \"Sentiment\" : get_sentiments})\n",
    "    data_display = data.drop_duplicates(subset = [\"Review\"])\n",
    "    data_display_ = data_display.reset_index().drop([\"index\"], axis=1)\n",
    "    return data_display_"
   ]
  },
  {
   "cell_type": "code",
   "execution_count": 239,
   "id": "e8754c63",
   "metadata": {
    "colab": {
     "base_uri": "https://localhost:8080/",
     "height": 424
    },
    "id": "e8754c63",
    "outputId": "dc0c4aa5-9cde-4a4e-89dc-c71c04d48c4c"
   },
   "outputs": [
    {
     "data": {
      "text/html": [
       "\n",
       "  <div id=\"df-4d9f08cc-f6b1-4564-8530-3d8080322f6f\">\n",
       "    <div class=\"colab-df-container\">\n",
       "      <div>\n",
       "<style scoped>\n",
       "    .dataframe tbody tr th:only-of-type {\n",
       "        vertical-align: middle;\n",
       "    }\n",
       "\n",
       "    .dataframe tbody tr th {\n",
       "        vertical-align: top;\n",
       "    }\n",
       "\n",
       "    .dataframe thead th {\n",
       "        text-align: right;\n",
       "    }\n",
       "</style>\n",
       "<table border=\"1\" class=\"dataframe\">\n",
       "  <thead>\n",
       "    <tr style=\"text-align: right;\">\n",
       "      <th></th>\n",
       "      <th>Review</th>\n",
       "      <th>Sentiment</th>\n",
       "    </tr>\n",
       "  </thead>\n",
       "  <tbody>\n",
       "    <tr>\n",
       "      <th>0</th>\n",
       "      <td>really impressed display</td>\n",
       "      <td>Positive</td>\n",
       "    </tr>\n",
       "    <tr>\n",
       "      <th>1</th>\n",
       "      <td>pixel pepper display play important role</td>\n",
       "      <td>Positive</td>\n",
       "    </tr>\n",
       "    <tr>\n",
       "      <th>2</th>\n",
       "      <td>worth because not premium display</td>\n",
       "      <td>Positive</td>\n",
       "    </tr>\n",
       "    <tr>\n",
       "      <th>3</th>\n",
       "      <td>display more le good</td>\n",
       "      <td>Positive</td>\n",
       "    </tr>\n",
       "    <tr>\n",
       "      <th>4</th>\n",
       "      <td>trust display good phone same chipset pro vers...</td>\n",
       "      <td>Positive</td>\n",
       "    </tr>\n",
       "    <tr>\n",
       "      <th>...</th>\n",
       "      <td>...</td>\n",
       "      <td>...</td>\n",
       "    </tr>\n",
       "    <tr>\n",
       "      <th>168</th>\n",
       "      <td>display missing amoled</td>\n",
       "      <td>Negative</td>\n",
       "    </tr>\n",
       "    <tr>\n",
       "      <th>169</th>\n",
       "      <td>go iphone getting beautiful display experience</td>\n",
       "      <td>Positive</td>\n",
       "    </tr>\n",
       "    <tr>\n",
       "      <th>170</th>\n",
       "      <td>iphone display not bad beat k flagship</td>\n",
       "      <td>Positive</td>\n",
       "    </tr>\n",
       "    <tr>\n",
       "      <th>171</th>\n",
       "      <td>display quality worst</td>\n",
       "      <td>Negative</td>\n",
       "    </tr>\n",
       "    <tr>\n",
       "      <th>172</th>\n",
       "      <td>camera display awesomebattery health not upto ...</td>\n",
       "      <td>Neutral</td>\n",
       "    </tr>\n",
       "  </tbody>\n",
       "</table>\n",
       "<p>173 rows × 2 columns</p>\n",
       "</div>\n",
       "      <button class=\"colab-df-convert\" onclick=\"convertToInteractive('df-4d9f08cc-f6b1-4564-8530-3d8080322f6f')\"\n",
       "              title=\"Convert this dataframe to an interactive table.\"\n",
       "              style=\"display:none;\">\n",
       "        \n",
       "  <svg xmlns=\"http://www.w3.org/2000/svg\" height=\"24px\"viewBox=\"0 0 24 24\"\n",
       "       width=\"24px\">\n",
       "    <path d=\"M0 0h24v24H0V0z\" fill=\"none\"/>\n",
       "    <path d=\"M18.56 5.44l.94 2.06.94-2.06 2.06-.94-2.06-.94-.94-2.06-.94 2.06-2.06.94zm-11 1L8.5 8.5l.94-2.06 2.06-.94-2.06-.94L8.5 2.5l-.94 2.06-2.06.94zm10 10l.94 2.06.94-2.06 2.06-.94-2.06-.94-.94-2.06-.94 2.06-2.06.94z\"/><path d=\"M17.41 7.96l-1.37-1.37c-.4-.4-.92-.59-1.43-.59-.52 0-1.04.2-1.43.59L10.3 9.45l-7.72 7.72c-.78.78-.78 2.05 0 2.83L4 21.41c.39.39.9.59 1.41.59.51 0 1.02-.2 1.41-.59l7.78-7.78 2.81-2.81c.8-.78.8-2.07 0-2.86zM5.41 20L4 18.59l7.72-7.72 1.47 1.35L5.41 20z\"/>\n",
       "  </svg>\n",
       "      </button>\n",
       "      \n",
       "  <style>\n",
       "    .colab-df-container {\n",
       "      display:flex;\n",
       "      flex-wrap:wrap;\n",
       "      gap: 12px;\n",
       "    }\n",
       "\n",
       "    .colab-df-convert {\n",
       "      background-color: #E8F0FE;\n",
       "      border: none;\n",
       "      border-radius: 50%;\n",
       "      cursor: pointer;\n",
       "      display: none;\n",
       "      fill: #1967D2;\n",
       "      height: 32px;\n",
       "      padding: 0 0 0 0;\n",
       "      width: 32px;\n",
       "    }\n",
       "\n",
       "    .colab-df-convert:hover {\n",
       "      background-color: #E2EBFA;\n",
       "      box-shadow: 0px 1px 2px rgba(60, 64, 67, 0.3), 0px 1px 3px 1px rgba(60, 64, 67, 0.15);\n",
       "      fill: #174EA6;\n",
       "    }\n",
       "\n",
       "    [theme=dark] .colab-df-convert {\n",
       "      background-color: #3B4455;\n",
       "      fill: #D2E3FC;\n",
       "    }\n",
       "\n",
       "    [theme=dark] .colab-df-convert:hover {\n",
       "      background-color: #434B5C;\n",
       "      box-shadow: 0px 1px 3px 1px rgba(0, 0, 0, 0.15);\n",
       "      filter: drop-shadow(0px 1px 2px rgba(0, 0, 0, 0.3));\n",
       "      fill: #FFFFFF;\n",
       "    }\n",
       "  </style>\n",
       "\n",
       "      <script>\n",
       "        const buttonEl =\n",
       "          document.querySelector('#df-4d9f08cc-f6b1-4564-8530-3d8080322f6f button.colab-df-convert');\n",
       "        buttonEl.style.display =\n",
       "          google.colab.kernel.accessAllowed ? 'block' : 'none';\n",
       "\n",
       "        async function convertToInteractive(key) {\n",
       "          const element = document.querySelector('#df-4d9f08cc-f6b1-4564-8530-3d8080322f6f');\n",
       "          const dataTable =\n",
       "            await google.colab.kernel.invokeFunction('convertToInteractive',\n",
       "                                                     [key], {});\n",
       "          if (!dataTable) return;\n",
       "\n",
       "          const docLinkHtml = 'Like what you see? Visit the ' +\n",
       "            '<a target=\"_blank\" href=https://colab.research.google.com/notebooks/data_table.ipynb>data table notebook</a>'\n",
       "            + ' to learn more about interactive tables.';\n",
       "          element.innerHTML = '';\n",
       "          dataTable['output_type'] = 'display_data';\n",
       "          await google.colab.output.renderOutput(dataTable, element);\n",
       "          const docLink = document.createElement('div');\n",
       "          docLink.innerHTML = docLinkHtml;\n",
       "          element.appendChild(docLink);\n",
       "        }\n",
       "      </script>\n",
       "    </div>\n",
       "  </div>\n",
       "  "
      ],
      "text/plain": [
       "                                                Review Sentiment\n",
       "0                             really impressed display  Positive\n",
       "1             pixel pepper display play important role  Positive\n",
       "2                    worth because not premium display  Positive\n",
       "3                                 display more le good  Positive\n",
       "4    trust display good phone same chipset pro vers...  Positive\n",
       "..                                                 ...       ...\n",
       "168                             display missing amoled  Negative\n",
       "169     go iphone getting beautiful display experience  Positive\n",
       "170             iphone display not bad beat k flagship  Positive\n",
       "171                              display quality worst  Negative\n",
       "172  camera display awesomebattery health not upto ...   Neutral\n",
       "\n",
       "[173 rows x 2 columns]"
      ]
     },
     "execution_count": 239,
     "metadata": {},
     "output_type": "execute_result"
    }
   ],
   "source": [
    "final_display = display_reviews(data,aspect_name)\n",
    "final_display"
   ]
  },
  {
   "cell_type": "code",
   "execution_count": 240,
   "id": "52aea36a",
   "metadata": {
    "colab": {
     "base_uri": "https://localhost:8080/"
    },
    "id": "52aea36a",
    "outputId": "2f464321-1a9c-48de-a5a0-948e70931d31"
   },
   "outputs": [
    {
     "data": {
      "text/plain": [
       "Positive    110\n",
       "Neutral      34\n",
       "Negative     29\n",
       "Name: Sentiment, dtype: int64"
      ]
     },
     "execution_count": 240,
     "metadata": {},
     "output_type": "execute_result"
    }
   ],
   "source": [
    "final_display[\"Sentiment\"].value_counts()"
   ]
  },
  {
   "cell_type": "code",
   "execution_count": 241,
   "id": "6cf55afe",
   "metadata": {
    "id": "6cf55afe"
   },
   "outputs": [],
   "source": [
    "def wc(data,col_name,aspect_name):\n",
    "    \"\"\"\n",
    "    For a given aspect this function plots the wordcloud for the description\n",
    "    \n",
    "    \"\"\"\n",
    "    s1 = data.groupby(by = col_name)\n",
    "    s2 = s1.get_group(aspect_name)\n",
    "    s3 = s2[\"Description\"].values\n",
    "    \n",
    "    wordcloud = WordCloud(background_color = 'black', width = 512,height = 384,contour_color='black',contour_width=1,\n",
    "                         colormap='RdYlGn',collocations=True).generate(' '.join(s3))\n",
    "    plt.title(\"Descriptions of {}\".format(aspect_name), fontsize = 20)\n",
    "    plt.imshow(wordcloud) # image show\n",
    "    plt.axis('off') # to off the axis of x and y\n",
    "    plt.show()"
   ]
  },
  {
   "cell_type": "code",
   "execution_count": 242,
   "id": "f382de29",
   "metadata": {
    "colab": {
     "base_uri": "https://localhost:8080/",
     "height": 269
    },
    "id": "f382de29",
    "outputId": "df526002-b7ea-4221-89bd-55b6dd4094d8"
   },
   "outputs": [
    {
     "data": {
      "image/png": "[encoded data removed]",
      "text/plain": [
       "<Figure size 432x288 with 1 Axes>"
      ]
     },
     "metadata": {
      "needs_background": "light"
     },
     "output_type": "display_data"
    }
   ],
   "source": [
    "wc(data,col_name,aspect_name)"
   ]
  },
  {
   "cell_type": "markdown",
   "id": "a535b61d",
   "metadata": {
    "id": "a535b61d"
   },
   "source": [
    "# Data Preprocessing:"
   ]
  },
  {
   "cell_type": "markdown",
   "id": "c16c54bf",
   "metadata": {},
   "source": [
    "- Month & Week----> **Cyclical Encoding**\n",
    "- Review----> **TFIDF**\n",
    "- Aspect & Description----> **Word2Vec**"
   ]
  },
  {
   "cell_type": "code",
   "execution_count": 243,
   "id": "00c29378",
   "metadata": {
    "id": "00c29378"
   },
   "outputs": [],
   "source": [
    "# Select the features to be used for modeling:\n",
    "\n",
    "X_train = final_train[[\"Review\",\"Aspect\",\"Description\",\"Month\",\"Week\",\"char_count\",\"word_count\",\"unique_word_count\",\n",
    "                      \"avg_wordlength\",\"unique_vs_words\"]]\n",
    "X_test = final_test[[\"Review\",\"Aspect\",\"Description\",\"Month\",\"Week\",\"char_count\",\"word_count\",\"unique_word_count\",\n",
    "                      \"avg_wordlength\",\"unique_vs_words\"]]"
   ]
  },
  {
   "cell_type": "code",
   "execution_count": 244,
   "id": "e16593dc",
   "metadata": {
    "id": "e16593dc"
   },
   "outputs": [],
   "source": [
    "# Select the target variable:\n",
    "\n",
    "y_train = final_train[\"Score\"]\n",
    "y_test = final_test[\"Score\"]"
   ]
  },
  {
   "cell_type": "markdown",
   "id": "b03107c8",
   "metadata": {},
   "source": [
    "# Cyclical Encoding for Month & Week:"
   ]
  },
  {
   "cell_type": "code",
   "execution_count": 245,
   "id": "286e6d76",
   "metadata": {
    "id": "286e6d76"
   },
   "outputs": [],
   "source": [
    "# Adding the encoded values to train set.\n",
    "X_train['month_sin'] = np.sin((X_train.Month -1)*(2.*np.pi/12))\n",
    "X_train['month_cos'] = np.cos((X_train.Month -1)*(2.*np.pi/12))\n",
    "X_train['weekday_sin'] = np.sin((X_train.Week-1)*(2.*np.pi/53))\n",
    "X_train['weekday_cos'] = np.cos((X_train.Week-1)*(2.*np.pi/53))"
   ]
  },
  {
   "cell_type": "code",
   "execution_count": 246,
   "id": "f02f4ccd",
   "metadata": {
    "id": "f02f4ccd"
   },
   "outputs": [],
   "source": [
    "# Adding the encoded values to test set.\n",
    "X_test['month_sin'] = np.sin((X_test.Month -1)*(2.*np.pi/12))\n",
    "X_test['month_cos'] = np.cos((X_test.Month -1)*(2.*np.pi/12))\n",
    "X_test['weekday_sin'] = np.sin((X_test.Week-1)*(2.*np.pi/53))\n",
    "X_test['weekday_cos'] = np.cos((X_test.Week-1)*(2.*np.pi/53))"
   ]
  },
  {
   "cell_type": "markdown",
   "id": "d7b093d5",
   "metadata": {
    "id": "d7b093d5"
   },
   "source": [
    "# TF-IDF"
   ]
  },
  {
   "cell_type": "code",
   "execution_count": 247,
   "id": "de2886a0",
   "metadata": {
    "colab": {
     "base_uri": "https://localhost:8080/"
    },
    "id": "de2886a0",
    "outputId": "fd704e30-a987-44c7-8734-37cef7abf125"
   },
   "outputs": [
    {
     "name": "stdout",
     "output_type": "stream",
     "text": [
      "train data shape (9180, 500)\n",
      "====================================================================================================\n",
      "test data shape (2037, 500)\n"
     ]
    }
   ],
   "source": [
    "tfidf = TfidfVectorizer(min_df=10,ngram_range=(1,3), max_features=500)\n",
    "\n",
    "tfidf_train = tfidf.fit_transform(X_train['Review'].values)\n",
    "tfidf_test = tfidf.transform(X_test['Review'].values)\n",
    "\n",
    "print('train data shape',tfidf_train.shape)\n",
    "print('='*100)\n",
    "print('test data shape',tfidf_test.shape)"
   ]
  },
  {
   "cell_type": "code",
   "execution_count": 248,
   "id": "c8d6d6c1",
   "metadata": {
    "id": "c8d6d6c1"
   },
   "outputs": [],
   "source": [
    "tfidf_train = tfidf_train.toarray()\n",
    "tfidf_test = tfidf_test.toarray()"
   ]
  },
  {
   "cell_type": "markdown",
   "id": "30bdfb8e",
   "metadata": {
    "id": "30bdfb8e"
   },
   "source": [
    "#  W2V:"
   ]
  },
  {
   "cell_type": "code",
   "execution_count": 249,
   "id": "6o68GR3sZiiS",
   "metadata": {
    "id": "6o68GR3sZiiS"
   },
   "outputs": [],
   "source": [
    "#import gensim.downloader as api\n",
    "\n",
    "#w2v_model = api.load('word2vec-google-news-300')"
   ]
  },
  {
   "cell_type": "code",
   "execution_count": 250,
   "id": "3bcd78dc",
   "metadata": {
    "id": "3bcd78dc"
   },
   "outputs": [],
   "source": [
    "#w2v_model=KeyedVectors.load_word2vec_format('GoogleNews-vectors-negative300.bin', binary=True)\n",
    "\n",
    "w2v_model_ = w2v_model"
   ]
  },
  {
   "cell_type": "code",
   "execution_count": 251,
   "id": "539a254f",
   "metadata": {
    "id": "539a254f"
   },
   "outputs": [],
   "source": [
    "def get_w2v(aspect):\n",
    "    \"\"\"\n",
    "    Given an aspect, this function returns  Word2Vec for the word\n",
    "    \n",
    "    \"\"\"\n",
    "    \n",
    "    sent_vector = np.zeros(300) # since W2v gives 300 dimension representation for each word\n",
    "    try:\n",
    "        vector = w2v_model_[aspect] # getting w2v vector for the word\n",
    "        sent_vector += vector # adding this vector for performing Average W2v\n",
    "    except KeyError:\n",
    "        sent_vector += np.zeros(300)\n",
    "    sent_vector_final = sent_vector\n",
    "    return sent_vector_final"
   ]
  },
  {
   "cell_type": "code",
   "execution_count": 252,
   "id": "a3f409cb",
   "metadata": {
    "id": "a3f409cb"
   },
   "outputs": [],
   "source": [
    "# Getting the W2V vector for train set\n",
    "\n",
    "w2v_aspect_train = np.array([get_w2v(i) for i in X_train[\"Aspect\"].values])\n",
    "w2v_description_train = np.array([get_w2v(i) for i in X_train[\"Description\"].values])"
   ]
  },
  {
   "cell_type": "code",
   "execution_count": 253,
   "id": "0baa15b6",
   "metadata": {
    "id": "0baa15b6"
   },
   "outputs": [],
   "source": [
    "# Getting the W2V vector for test set\n",
    "\n",
    "w2v_aspect_test = np.array([get_w2v(i) for i in X_test[\"Aspect\"].values])\n",
    "w2v_description_test = np.array([get_w2v(i) for i in X_test[\"Description\"].values])"
   ]
  },
  {
   "cell_type": "markdown",
   "id": "2a0d6c2b",
   "metadata": {
    "id": "2a0d6c2b"
   },
   "source": [
    "# Concatenation:"
   ]
  },
  {
   "cell_type": "code",
   "execution_count": 254,
   "id": "d961e51a",
   "metadata": {
    "colab": {
     "base_uri": "https://localhost:8080/"
    },
    "id": "d961e51a",
    "outputId": "d8b9fa20-5306-43b9-f1ef-4f4d5f28d59c"
   },
   "outputs": [
    {
     "data": {
      "text/plain": [
       "(9180, 1109)"
      ]
     },
     "execution_count": 254,
     "metadata": {},
     "output_type": "execute_result"
    }
   ],
   "source": [
    "# Concatenating all the features \n",
    "\n",
    "training_data = np.hstack((tfidf_train,w2v_aspect_train,w2v_description_train,X_train[\"month_sin\"].values.reshape(-1,1),\n",
    "                X_train[\"month_cos\"].values.reshape(-1,1),X_train[\"weekday_sin\"].values.reshape(-1,1),\n",
    "                X_train[\"weekday_cos\"].values.reshape(-1,1),X_train['char_count'].values.reshape(-1,1),\n",
    "                X_train['word_count'].values.reshape(-1,1),X_train['unique_word_count'].values.reshape(-1,1),\n",
    "                X_train['avg_wordlength'].values.reshape(-1,1),X_train['unique_vs_words'].values.reshape(-1,1)))\n",
    "\n",
    "training_data.shape"
   ]
  },
  {
   "cell_type": "code",
   "execution_count": 255,
   "id": "5f7f34e6",
   "metadata": {
    "colab": {
     "base_uri": "https://localhost:8080/"
    },
    "id": "5f7f34e6",
    "outputId": "f3b209c4-b93d-4e18-916e-4338fd3a2b92"
   },
   "outputs": [
    {
     "data": {
      "text/plain": [
       "(2037, 1109)"
      ]
     },
     "execution_count": 255,
     "metadata": {},
     "output_type": "execute_result"
    }
   ],
   "source": [
    "testing_data = np.hstack((tfidf_test,w2v_aspect_test,w2v_description_test,X_test[\"month_sin\"].values.reshape(-1,1),\n",
    "                X_test[\"month_cos\"].values.reshape(-1,1),X_test[\"weekday_sin\"].values.reshape(-1,1),\n",
    "                X_test[\"weekday_cos\"].values.reshape(-1,1),X_test['char_count'].values.reshape(-1,1),\n",
    "                X_test['word_count'].values.reshape(-1,1),X_test['unique_word_count'].values.reshape(-1,1),\n",
    "                X_test['avg_wordlength'].values.reshape(-1,1),X_test['unique_vs_words'].values.reshape(-1,1)))\n",
    "\n",
    "testing_data.shape"
   ]
  },
  {
   "cell_type": "markdown",
   "id": "6f0827f4",
   "metadata": {
    "id": "6f0827f4"
   },
   "source": [
    "# Modeling:"
   ]
  },
  {
   "cell_type": "markdown",
   "id": "f9b29d5e",
   "metadata": {
    "id": "f9b29d5e"
   },
   "source": [
    "# LGB:"
   ]
  },
  {
   "cell_type": "markdown",
   "id": "b859479c",
   "metadata": {},
   "source": [
    "- The LGB Regressor model gives the best performance without using hyperparametre optimization"
   ]
  },
  {
   "cell_type": "code",
   "execution_count": 256,
   "id": "261e399d",
   "metadata": {
    "colab": {
     "base_uri": "https://localhost:8080/"
    },
    "id": "261e399d",
    "outputId": "0d0d2379-24b0-4a08-a87f-441e5fc6cd61"
   },
   "outputs": [
    {
     "data": {
      "text/plain": [
       "LGBMRegressor()"
      ]
     },
     "execution_count": 256,
     "metadata": {},
     "output_type": "execute_result"
    }
   ],
   "source": [
    "lgb = ltb.LGBMRegressor()\n",
    "lgb.fit(training_data, y_train)"
   ]
  },
  {
   "cell_type": "code",
   "execution_count": 257,
   "id": "b8b251a5",
   "metadata": {
    "id": "b8b251a5"
   },
   "outputs": [],
   "source": [
    "lgb_predict_train = lgb.predict(training_data)\n",
    "lgb_predict_test = lgb.predict(testing_data)"
   ]
  },
  {
   "cell_type": "code",
   "execution_count": 258,
   "id": "2fbc2d5e",
   "metadata": {
    "colab": {
     "base_uri": "https://localhost:8080/"
    },
    "id": "2fbc2d5e",
    "outputId": "e79a94c5-3a74-4789-b5fd-86fbd2ef4781"
   },
   "outputs": [
    {
     "name": "stdout",
     "output_type": "stream",
     "text": [
      "R2 Score on train set : 0.8454592420686778\n",
      "R2 Score on test set : 0.6462480419650449\n"
     ]
    }
   ],
   "source": [
    "r2_train = r2_score(y_train,lgb_predict_train)\n",
    "r2_test = r2_score(y_test,lgb_predict_test)\n",
    "\n",
    "print(\"R2 Score on train set :\",r2_train)\n",
    "print(\"R2 Score on test set :\",r2_test)"
   ]
  },
  {
   "cell_type": "code",
   "execution_count": 259,
   "id": "8f24dcaa",
   "metadata": {
    "colab": {
     "base_uri": "https://localhost:8080/"
    },
    "id": "8f24dcaa",
    "outputId": "e38cef13-a3b4-4b8e-a72e-5cc480fb5111"
   },
   "outputs": [
    {
     "name": "stdout",
     "output_type": "stream",
     "text": [
      "RMSE train : 0.15208108051113706\n",
      "RMSE test : 0.2360249775532124\n"
     ]
    }
   ],
   "source": [
    "mse_train = mean_squared_error(y_train,lgb_predict_train)\n",
    "mse_test = mean_squared_error(y_test,lgb_predict_test)\n",
    "\n",
    "print(\"RMSE train :\",math.sqrt(mse_train))\n",
    "print(\"RMSE test :\",math.sqrt(mse_test))"
   ]
  },
  {
   "cell_type": "markdown",
   "id": "f29a156c",
   "metadata": {
    "id": "f29a156c"
   },
   "source": [
    "# Interpretation of the results:"
   ]
  },
  {
   "cell_type": "code",
   "execution_count": 260,
   "id": "672b0fc6",
   "metadata": {
    "id": "672b0fc6"
   },
   "outputs": [],
   "source": [
    "# stacking the actual and predicted results to form the dataframe\n",
    "\n",
    "interpret = np.hstack((np.array(y_test).reshape(-1,1),lgb_predict_test.reshape(-1,1)))"
   ]
  },
  {
   "cell_type": "code",
   "execution_count": 261,
   "id": "2bf8aa42",
   "metadata": {
    "id": "2bf8aa42"
   },
   "outputs": [],
   "source": [
    "interpret_df = pd.DataFrame(interpret)"
   ]
  },
  {
   "cell_type": "code",
   "execution_count": 262,
   "id": "8f5147f3",
   "metadata": {
    "id": "8f5147f3"
   },
   "outputs": [],
   "source": [
    "interpret_df[\"Actual_sentiment\"] = final_test[\"Sentiment\"] # adding the actual sentiment"
   ]
  },
  {
   "cell_type": "code",
   "execution_count": 263,
   "id": "37c30221",
   "metadata": {
    "id": "37c30221"
   },
   "outputs": [],
   "source": [
    "interpret_df.columns = [\"Actual\",\"Predicted\",\"Actual_sentiment\"] # renaming the columns"
   ]
  },
  {
   "cell_type": "code",
   "execution_count": 264,
   "id": "c573aaac",
   "metadata": {
    "id": "c573aaac"
   },
   "outputs": [],
   "source": [
    "# Converting the precited scores to sentiments\n",
    "\n",
    "senti = [] # this list carries the sentiment for the review\n",
    "   \n",
    "for u in interpret_df[\"Predicted\"].values: \n",
    "    if u >= 0.05:\n",
    "        senti.append(\"Positive\")\n",
    "    elif u <=-0.05:\n",
    "        senti.append(\"Negative\")\n",
    "    else:\n",
    "        senti.append(\"Neutral\")"
   ]
  },
  {
   "cell_type": "code",
   "execution_count": 265,
   "id": "ea29e910",
   "metadata": {
    "id": "ea29e910"
   },
   "outputs": [],
   "source": [
    "interpret_df[\"Predicted_sentiment\"] = senti # adding the predicted sentiments to dataframe"
   ]
  },
  {
   "cell_type": "code",
   "execution_count": 266,
   "id": "eea1d82e",
   "metadata": {
    "colab": {
     "base_uri": "https://localhost:8080/",
     "height": 424
    },
    "id": "eea1d82e",
    "outputId": "992d825a-905d-4957-d421-a6710022a794"
   },
   "outputs": [
    {
     "data": {
      "text/html": [
       "\n",
       "  <div id=\"df-8004ec32-8b73-4044-aa65-44c68c4fb9f9\">\n",
       "    <div class=\"colab-df-container\">\n",
       "      <div>\n",
       "<style scoped>\n",
       "    .dataframe tbody tr th:only-of-type {\n",
       "        vertical-align: middle;\n",
       "    }\n",
       "\n",
       "    .dataframe tbody tr th {\n",
       "        vertical-align: top;\n",
       "    }\n",
       "\n",
       "    .dataframe thead th {\n",
       "        text-align: right;\n",
       "    }\n",
       "</style>\n",
       "<table border=\"1\" class=\"dataframe\">\n",
       "  <thead>\n",
       "    <tr style=\"text-align: right;\">\n",
       "      <th></th>\n",
       "      <th>Actual</th>\n",
       "      <th>Predicted</th>\n",
       "      <th>Actual_sentiment</th>\n",
       "      <th>Predicted_sentiment</th>\n",
       "    </tr>\n",
       "  </thead>\n",
       "  <tbody>\n",
       "    <tr>\n",
       "      <th>0</th>\n",
       "      <td>0.0000</td>\n",
       "      <td>0.027122</td>\n",
       "      <td>Neutral</td>\n",
       "      <td>Neutral</td>\n",
       "    </tr>\n",
       "    <tr>\n",
       "      <th>1</th>\n",
       "      <td>0.0258</td>\n",
       "      <td>0.027122</td>\n",
       "      <td>Neutral</td>\n",
       "      <td>Neutral</td>\n",
       "    </tr>\n",
       "    <tr>\n",
       "      <th>2</th>\n",
       "      <td>0.0000</td>\n",
       "      <td>0.038314</td>\n",
       "      <td>Neutral</td>\n",
       "      <td>Neutral</td>\n",
       "    </tr>\n",
       "    <tr>\n",
       "      <th>3</th>\n",
       "      <td>0.6369</td>\n",
       "      <td>0.575119</td>\n",
       "      <td>Positive</td>\n",
       "      <td>Positive</td>\n",
       "    </tr>\n",
       "    <tr>\n",
       "      <th>4</th>\n",
       "      <td>0.6369</td>\n",
       "      <td>0.680089</td>\n",
       "      <td>Positive</td>\n",
       "      <td>Positive</td>\n",
       "    </tr>\n",
       "    <tr>\n",
       "      <th>...</th>\n",
       "      <td>...</td>\n",
       "      <td>...</td>\n",
       "      <td>...</td>\n",
       "      <td>...</td>\n",
       "    </tr>\n",
       "    <tr>\n",
       "      <th>2032</th>\n",
       "      <td>0.1779</td>\n",
       "      <td>0.155613</td>\n",
       "      <td>Positive</td>\n",
       "      <td>Positive</td>\n",
       "    </tr>\n",
       "    <tr>\n",
       "      <th>2033</th>\n",
       "      <td>-0.3412</td>\n",
       "      <td>-0.157369</td>\n",
       "      <td>Negative</td>\n",
       "      <td>Negative</td>\n",
       "    </tr>\n",
       "    <tr>\n",
       "      <th>2034</th>\n",
       "      <td>0.0000</td>\n",
       "      <td>0.061564</td>\n",
       "      <td>Neutral</td>\n",
       "      <td>Positive</td>\n",
       "    </tr>\n",
       "    <tr>\n",
       "      <th>2035</th>\n",
       "      <td>0.0000</td>\n",
       "      <td>-0.043740</td>\n",
       "      <td>Neutral</td>\n",
       "      <td>Neutral</td>\n",
       "    </tr>\n",
       "    <tr>\n",
       "      <th>2036</th>\n",
       "      <td>-0.1027</td>\n",
       "      <td>-0.070874</td>\n",
       "      <td>Negative</td>\n",
       "      <td>Negative</td>\n",
       "    </tr>\n",
       "  </tbody>\n",
       "</table>\n",
       "<p>2037 rows × 4 columns</p>\n",
       "</div>\n",
       "      <button class=\"colab-df-convert\" onclick=\"convertToInteractive('df-8004ec32-8b73-4044-aa65-44c68c4fb9f9')\"\n",
       "              title=\"Convert this dataframe to an interactive table.\"\n",
       "              style=\"display:none;\">\n",
       "        \n",
       "  <svg xmlns=\"http://www.w3.org/2000/svg\" height=\"24px\"viewBox=\"0 0 24 24\"\n",
       "       width=\"24px\">\n",
       "    <path d=\"M0 0h24v24H0V0z\" fill=\"none\"/>\n",
       "    <path d=\"M18.56 5.44l.94 2.06.94-2.06 2.06-.94-2.06-.94-.94-2.06-.94 2.06-2.06.94zm-11 1L8.5 8.5l.94-2.06 2.06-.94-2.06-.94L8.5 2.5l-.94 2.06-2.06.94zm10 10l.94 2.06.94-2.06 2.06-.94-2.06-.94-.94-2.06-.94 2.06-2.06.94z\"/><path d=\"M17.41 7.96l-1.37-1.37c-.4-.4-.92-.59-1.43-.59-.52 0-1.04.2-1.43.59L10.3 9.45l-7.72 7.72c-.78.78-.78 2.05 0 2.83L4 21.41c.39.39.9.59 1.41.59.51 0 1.02-.2 1.41-.59l7.78-7.78 2.81-2.81c.8-.78.8-2.07 0-2.86zM5.41 20L4 18.59l7.72-7.72 1.47 1.35L5.41 20z\"/>\n",
       "  </svg>\n",
       "      </button>\n",
       "      \n",
       "  <style>\n",
       "    .colab-df-container {\n",
       "      display:flex;\n",
       "      flex-wrap:wrap;\n",
       "      gap: 12px;\n",
       "    }\n",
       "\n",
       "    .colab-df-convert {\n",
       "      background-color: #E8F0FE;\n",
       "      border: none;\n",
       "      border-radius: 50%;\n",
       "      cursor: pointer;\n",
       "      display: none;\n",
       "      fill: #1967D2;\n",
       "      height: 32px;\n",
       "      padding: 0 0 0 0;\n",
       "      width: 32px;\n",
       "    }\n",
       "\n",
       "    .colab-df-convert:hover {\n",
       "      background-color: #E2EBFA;\n",
       "      box-shadow: 0px 1px 2px rgba(60, 64, 67, 0.3), 0px 1px 3px 1px rgba(60, 64, 67, 0.15);\n",
       "      fill: #174EA6;\n",
       "    }\n",
       "\n",
       "    [theme=dark] .colab-df-convert {\n",
       "      background-color: #3B4455;\n",
       "      fill: #D2E3FC;\n",
       "    }\n",
       "\n",
       "    [theme=dark] .colab-df-convert:hover {\n",
       "      background-color: #434B5C;\n",
       "      box-shadow: 0px 1px 3px 1px rgba(0, 0, 0, 0.15);\n",
       "      filter: drop-shadow(0px 1px 2px rgba(0, 0, 0, 0.3));\n",
       "      fill: #FFFFFF;\n",
       "    }\n",
       "  </style>\n",
       "\n",
       "      <script>\n",
       "        const buttonEl =\n",
       "          document.querySelector('#df-8004ec32-8b73-4044-aa65-44c68c4fb9f9 button.colab-df-convert');\n",
       "        buttonEl.style.display =\n",
       "          google.colab.kernel.accessAllowed ? 'block' : 'none';\n",
       "\n",
       "        async function convertToInteractive(key) {\n",
       "          const element = document.querySelector('#df-8004ec32-8b73-4044-aa65-44c68c4fb9f9');\n",
       "          const dataTable =\n",
       "            await google.colab.kernel.invokeFunction('convertToInteractive',\n",
       "                                                     [key], {});\n",
       "          if (!dataTable) return;\n",
       "\n",
       "          const docLinkHtml = 'Like what you see? Visit the ' +\n",
       "            '<a target=\"_blank\" href=https://colab.research.google.com/notebooks/data_table.ipynb>data table notebook</a>'\n",
       "            + ' to learn more about interactive tables.';\n",
       "          element.innerHTML = '';\n",
       "          dataTable['output_type'] = 'display_data';\n",
       "          await google.colab.output.renderOutput(dataTable, element);\n",
       "          const docLink = document.createElement('div');\n",
       "          docLink.innerHTML = docLinkHtml;\n",
       "          element.appendChild(docLink);\n",
       "        }\n",
       "      </script>\n",
       "    </div>\n",
       "  </div>\n",
       "  "
      ],
      "text/plain": [
       "      Actual  Predicted Actual_sentiment Predicted_sentiment\n",
       "0     0.0000   0.027122          Neutral             Neutral\n",
       "1     0.0258   0.027122          Neutral             Neutral\n",
       "2     0.0000   0.038314          Neutral             Neutral\n",
       "3     0.6369   0.575119         Positive            Positive\n",
       "4     0.6369   0.680089         Positive            Positive\n",
       "...      ...        ...              ...                 ...\n",
       "2032  0.1779   0.155613         Positive            Positive\n",
       "2033 -0.3412  -0.157369         Negative            Negative\n",
       "2034  0.0000   0.061564          Neutral            Positive\n",
       "2035  0.0000  -0.043740          Neutral             Neutral\n",
       "2036 -0.1027  -0.070874         Negative            Negative\n",
       "\n",
       "[2037 rows x 4 columns]"
      ]
     },
     "execution_count": 266,
     "metadata": {},
     "output_type": "execute_result"
    }
   ],
   "source": [
    "interpret_df"
   ]
  },
  {
   "cell_type": "code",
   "execution_count": 267,
   "id": "b0e6ffa5",
   "metadata": {
    "id": "b0e6ffa5"
   },
   "outputs": [],
   "source": [
    "# We will use the predicted sentiments as target variables, so label encoding the same.\n",
    "\n",
    "label_encoder = preprocessing.LabelEncoder()"
   ]
  },
  {
   "cell_type": "code",
   "execution_count": 268,
   "id": "48202996",
   "metadata": {
    "id": "48202996"
   },
   "outputs": [],
   "source": [
    "# Applying the label encoding on target variable\n",
    "\n",
    "interpret_df['Actual_sentiment']= label_encoder.fit_transform(interpret_df['Actual_sentiment'])\n",
    "interpret_df['Predicted_sentiment']= label_encoder.fit_transform(interpret_df['Predicted_sentiment'])"
   ]
  },
  {
   "cell_type": "code",
   "execution_count": 269,
   "id": "5f72f386",
   "metadata": {
    "id": "5f72f386"
   },
   "outputs": [],
   "source": [
    "# Forming the actual & predicted arrays for using the Confusion Matrix and F1 score \n",
    "\n",
    "Y_test = interpret_df[\"Actual_sentiment\"].values.reshape(-1,1)\n",
    "Y_pred = interpret_df[\"Predicted_sentiment\"].values.reshape(-1,1)"
   ]
  },
  {
   "cell_type": "code",
   "execution_count": 270,
   "id": "679dbb71",
   "metadata": {
    "colab": {
     "base_uri": "https://localhost:8080/",
     "height": 458
    },
    "id": "679dbb71",
    "outputId": "cf24e56d-faf2-4fe2-e615-49778271d9c1"
   },
   "outputs": [
    {
     "data": {
      "image/png": "[encoded data removed]",
      "text/plain": [
       "<Figure size 1440x504 with 2 Axes>"
      ]
     },
     "metadata": {
      "needs_background": "light"
     },
     "output_type": "display_data"
    }
   ],
   "source": [
    "# Confusion Matrix:\n",
    "\n",
    "C = confusion_matrix(Y_test, Y_pred) \n",
    "labels = [\"Negative\",\"Neutral\",\"Positive\"] # since we have 9 classes\n",
    "\n",
    "# Confusion Matrix\n",
    "plt.figure(figsize=(20,7))\n",
    "sns.heatmap(C, annot=True, cmap=\"YlGnBu\", fmt=\".3f\", xticklabels=labels, yticklabels=labels)\n",
    "plt.xlabel('Prediction')\n",
    "plt.ylabel('Actual')\n",
    "plt.title('Confusion Matrix')\n",
    "plt.show()"
   ]
  },
  {
   "cell_type": "code",
   "execution_count": 271,
   "id": "38b1eff6",
   "metadata": {
    "colab": {
     "base_uri": "https://localhost:8080/"
    },
    "id": "38b1eff6",
    "outputId": "363a6fde-9d82-4f52-ea17-8518d86bcfb8"
   },
   "outputs": [
    {
     "data": {
      "text/plain": [
       "('F1 score on test :', 0.7471017293943243)"
      ]
     },
     "execution_count": 271,
     "metadata": {},
     "output_type": "execute_result"
    }
   ],
   "source": [
    "(\"F1 score on test :\",f1_score(Y_test,Y_pred,average = 'weighted'))"
   ]
  },
  {
   "cell_type": "code",
   "execution_count": 272,
   "id": "da95279d",
   "metadata": {
    "colab": {
     "base_uri": "https://localhost:8080/"
    },
    "id": "da95279d",
    "outputId": "2ecaa32b-e3e3-4bb6-c71f-2e1e93859c1b"
   },
   "outputs": [
    {
     "data": {
      "text/plain": [
       "('F1 score on test :', 0.7555228276877761)"
      ]
     },
     "execution_count": 272,
     "metadata": {},
     "output_type": "execute_result"
    }
   ],
   "source": [
    "(\"F1 score on test :\",f1_score(Y_test,Y_pred,average = 'micro'))"
   ]
  },
  {
   "cell_type": "code",
   "execution_count": 272,
   "id": "0e546b8f",
   "metadata": {
    "id": "0e546b8f"
   },
   "outputs": [],
   "source": []
  }
 ],
 "metadata": {
  "accelerator": "TPU",
  "colab": {
   "collapsed_sections": [
    "00395a66",
    "6f0827f4"
   ],
   "provenance": []
  },
  "kernelspec": {
   "display_name": "Python 3 (ipykernel)",
   "language": "python",
   "name": "python3"
  },
  "language_info": {
   "codemirror_mode": {
    "name": "ipython",
    "version": 3
   },
   "file_extension": ".py",
   "mimetype": "text/x-python",
   "name": "python",
   "nbconvert_exporter": "python",
   "pygments_lexer": "ipython3",
   "version": "3.9.12"
  }
 },
 "nbformat": 4,
 "nbformat_minor": 5
}
